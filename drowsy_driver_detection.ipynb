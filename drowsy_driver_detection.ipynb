{
 "cells": [
  {
   "cell_type": "code",
   "execution_count": 1,
   "metadata": {},
   "outputs": [],
   "source": [
    "from ultralytics import YOLO"
   ]
  },
  {
   "cell_type": "code",
   "execution_count": 2,
   "metadata": {},
   "outputs": [
    {
     "name": "stdout",
     "output_type": "stream",
     "text": [
      "\n",
      "                   from  n    params  module                                       arguments                     \n"
     ]
    },
    {
     "name": "stdout",
     "output_type": "stream",
     "text": [
      "  0                  -1  1       928  ultralytics.nn.modules.conv.Conv             [3, 32, 3, 2]                 \n",
      "  1                  -1  1     18560  ultralytics.nn.modules.conv.Conv             [32, 64, 3, 2]                \n",
      "  2                  -1  1     29056  ultralytics.nn.modules.block.C2f             [64, 64, 1, True]             \n",
      "  3                  -1  1     73984  ultralytics.nn.modules.conv.Conv             [64, 128, 3, 2]               \n",
      "  4                  -1  2    197632  ultralytics.nn.modules.block.C2f             [128, 128, 2, True]           \n",
      "  5                  -1  1    295424  ultralytics.nn.modules.conv.Conv             [128, 256, 3, 2]              \n",
      "  6                  -1  2    788480  ultralytics.nn.modules.block.C2f             [256, 256, 2, True]           \n",
      "  7                  -1  1   1180672  ultralytics.nn.modules.conv.Conv             [256, 512, 3, 2]              \n",
      "  8                  -1  1   1838080  ultralytics.nn.modules.block.C2f             [512, 512, 1, True]           \n",
      "  9                  -1  1    656896  ultralytics.nn.modules.block.SPPF            [512, 512, 5]                 \n",
      " 10                  -1  1         0  torch.nn.modules.upsampling.Upsample         [None, 2, 'nearest']          \n",
      " 11             [-1, 6]  1         0  ultralytics.nn.modules.conv.Concat           [1]                           \n",
      " 12                  -1  1    591360  ultralytics.nn.modules.block.C2f             [768, 256, 1]                 \n",
      " 13                  -1  1         0  torch.nn.modules.upsampling.Upsample         [None, 2, 'nearest']          \n",
      " 14             [-1, 4]  1         0  ultralytics.nn.modules.conv.Concat           [1]                           \n",
      " 15                  -1  1    148224  ultralytics.nn.modules.block.C2f             [384, 128, 1]                 \n",
      " 16                  -1  1    147712  ultralytics.nn.modules.conv.Conv             [128, 128, 3, 2]              \n",
      " 17            [-1, 12]  1         0  ultralytics.nn.modules.conv.Concat           [1]                           \n",
      " 18                  -1  1    493056  ultralytics.nn.modules.block.C2f             [384, 256, 1]                 \n",
      " 19                  -1  1    590336  ultralytics.nn.modules.conv.Conv             [256, 256, 3, 2]              \n",
      " 20             [-1, 9]  1         0  ultralytics.nn.modules.conv.Concat           [1]                           \n",
      " 21                  -1  1   1969152  ultralytics.nn.modules.block.C2f             [768, 512, 1]                 \n",
      " 22        [15, 18, 21]  1   2147008  ultralytics.nn.modules.head.Detect           [80, [128, 256, 512]]         \n",
      "YOLOv8s summary: 225 layers, 11166560 parameters, 11166544 gradients, 28.8 GFLOPs\n",
      "\n"
     ]
    }
   ],
   "source": [
    "model = YOLO(\"yolov8s.yaml\")"
   ]
  },
  {
   "cell_type": "code",
   "execution_count": 3,
   "metadata": {},
   "outputs": [
    {
     "name": "stdout",
     "output_type": "stream",
     "text": [
      "YOLOv8s summary: 225 layers, 11166560 parameters, 11166544 gradients, 28.8 GFLOPs\n"
     ]
    },
    {
     "data": {
      "text/plain": [
       "(225, 11166560, 11166544, 28.816844800000002)"
      ]
     },
     "execution_count": 3,
     "metadata": {},
     "output_type": "execute_result"
    }
   ],
   "source": [
    "model.info()"
   ]
  },
  {
   "cell_type": "code",
   "execution_count": 4,
   "metadata": {},
   "outputs": [
    {
     "name": "stdout",
     "output_type": "stream",
     "text": [
      "New https://pypi.org/project/ultralytics/8.1.0 available 😃 Update with 'pip install -U ultralytics'\n",
      "Ultralytics YOLOv8.0.232 🚀 Python-3.11.4 torch-2.1.1+cu118 CUDA:0 (NVIDIA GeForce RTX 3050 Laptop GPU, 4096MiB)\n",
      "\u001b[34m\u001b[1mengine\\trainer: \u001b[0mtask=detect, mode=train, model=yolov8s.yaml, data=./dataset/data.yaml, epochs=100, time=None, patience=50, batch=5, imgsz=640, save=True, save_period=-1, cache=False, device=0, workers=4, project=None, name=train6, exist_ok=False, pretrained=True, optimizer=auto, verbose=True, seed=0, deterministic=True, single_cls=False, rect=False, cos_lr=False, close_mosaic=10, resume=False, amp=True, fraction=1.0, profile=False, freeze=None, overlap_mask=True, mask_ratio=4, dropout=0.0, val=True, split=val, save_json=False, save_hybrid=False, conf=None, iou=0.7, max_det=300, half=False, dnn=False, plots=True, source=None, vid_stride=1, stream_buffer=False, visualize=False, augment=False, agnostic_nms=False, classes=None, retina_masks=False, embed=None, show=False, save_frames=False, save_txt=False, save_conf=False, save_crop=False, show_labels=True, show_conf=True, show_boxes=True, line_width=None, format=torchscript, keras=False, optimize=False, int8=False, dynamic=False, simplify=False, opset=None, workspace=4, nms=False, lr0=0.01, lrf=0.01, momentum=0.937, weight_decay=0.0005, warmup_epochs=3.0, warmup_momentum=0.8, warmup_bias_lr=0.1, box=7.5, cls=0.5, dfl=1.5, pose=12.0, kobj=1.0, label_smoothing=0.0, nbs=64, hsv_h=0.015, hsv_s=0.7, hsv_v=0.4, degrees=0.0, translate=0.1, scale=0.5, shear=0.0, perspective=0.0, flipud=0.0, fliplr=0.5, mosaic=1.0, mixup=0.0, copy_paste=0.0, cfg=None, tracker=botsort.yaml, save_dir=runs\\detect\\train6\n",
      "WARNING:tensorflow:From c:\\Python311\\Lib\\site-packages\\keras\\src\\losses.py:2976: The name tf.losses.sparse_softmax_cross_entropy is deprecated. Please use tf.compat.v1.losses.sparse_softmax_cross_entropy instead.\n",
      "\n",
      "Overriding model.yaml nc=80 with nc=2\n",
      "\n",
      "                   from  n    params  module                                       arguments                     \n",
      "  0                  -1  1       928  ultralytics.nn.modules.conv.Conv             [3, 32, 3, 2]                 \n",
      "  1                  -1  1     18560  ultralytics.nn.modules.conv.Conv             [32, 64, 3, 2]                \n",
      "  2                  -1  1     29056  ultralytics.nn.modules.block.C2f             [64, 64, 1, True]             \n",
      "  3                  -1  1     73984  ultralytics.nn.modules.conv.Conv             [64, 128, 3, 2]               \n",
      "  4                  -1  2    197632  ultralytics.nn.modules.block.C2f             [128, 128, 2, True]           \n",
      "  5                  -1  1    295424  ultralytics.nn.modules.conv.Conv             [128, 256, 3, 2]              \n",
      "  6                  -1  2    788480  ultralytics.nn.modules.block.C2f             [256, 256, 2, True]           \n",
      "  7                  -1  1   1180672  ultralytics.nn.modules.conv.Conv             [256, 512, 3, 2]              \n",
      "  8                  -1  1   1838080  ultralytics.nn.modules.block.C2f             [512, 512, 1, True]           \n",
      "  9                  -1  1    656896  ultralytics.nn.modules.block.SPPF            [512, 512, 5]                 \n",
      " 10                  -1  1         0  torch.nn.modules.upsampling.Upsample         [None, 2, 'nearest']          \n",
      " 11             [-1, 6]  1         0  ultralytics.nn.modules.conv.Concat           [1]                           \n",
      " 12                  -1  1    591360  ultralytics.nn.modules.block.C2f             [768, 256, 1]                 \n",
      " 13                  -1  1         0  torch.nn.modules.upsampling.Upsample         [None, 2, 'nearest']          \n",
      " 14             [-1, 4]  1         0  ultralytics.nn.modules.conv.Concat           [1]                           \n",
      " 15                  -1  1    148224  ultralytics.nn.modules.block.C2f             [384, 128, 1]                 \n",
      " 16                  -1  1    147712  ultralytics.nn.modules.conv.Conv             [128, 128, 3, 2]              \n",
      " 17            [-1, 12]  1         0  ultralytics.nn.modules.conv.Concat           [1]                           \n",
      " 18                  -1  1    493056  ultralytics.nn.modules.block.C2f             [384, 256, 1]                 \n",
      " 19                  -1  1    590336  ultralytics.nn.modules.conv.Conv             [256, 256, 3, 2]              \n",
      " 20             [-1, 9]  1         0  ultralytics.nn.modules.conv.Concat           [1]                           \n",
      " 21                  -1  1   1969152  ultralytics.nn.modules.block.C2f             [768, 512, 1]                 \n",
      " 22        [15, 18, 21]  1   2116822  ultralytics.nn.modules.head.Detect           [2, [128, 256, 512]]          \n",
      "YOLOv8s summary: 225 layers, 11136374 parameters, 11136358 gradients, 28.6 GFLOPs\n",
      "\n",
      "\u001b[34m\u001b[1mTensorBoard: \u001b[0mStart with 'tensorboard --logdir runs\\detect\\train6', view at http://localhost:6006/\n",
      "Freezing layer 'model.22.dfl.conv.weight'\n",
      "\u001b[34m\u001b[1mAMP: \u001b[0mrunning Automatic Mixed Precision (AMP) checks with YOLOv8n...\n",
      "\u001b[34m\u001b[1mAMP: \u001b[0mchecks passed ✅\n"
     ]
    },
    {
     "name": "stderr",
     "output_type": "stream",
     "text": [
      "\u001b[34m\u001b[1mtrain: \u001b[0mScanning C:\\Users\\leduc\\OneDrive\\Desktop\\car_ai\\drowsy_driver\\dataset\\train\\labels... 1085 images, 51 backgrounds, 0 corrupt: 100%|██████████| 1085/1085 [00:00<00:00, 3937.29it/s]\n"
     ]
    },
    {
     "name": "stdout",
     "output_type": "stream",
     "text": [
      "\u001b[34m\u001b[1mtrain: \u001b[0mNew cache created: C:\\Users\\leduc\\OneDrive\\Desktop\\car_ai\\drowsy_driver\\dataset\\train\\labels.cache\n"
     ]
    },
    {
     "name": "stderr",
     "output_type": "stream",
     "text": [
      "\u001b[34m\u001b[1mval: \u001b[0mScanning C:\\Users\\leduc\\OneDrive\\Desktop\\car_ai\\drowsy_driver\\dataset\\valid\\labels... 101 images, 2 backgrounds, 0 corrupt: 100%|██████████| 101/101 [00:00<00:00, 2349.55it/s]"
     ]
    },
    {
     "name": "stdout",
     "output_type": "stream",
     "text": [
      "\u001b[34m\u001b[1mval: \u001b[0mNew cache created: C:\\Users\\leduc\\OneDrive\\Desktop\\car_ai\\drowsy_driver\\dataset\\valid\\labels.cache\n"
     ]
    },
    {
     "name": "stderr",
     "output_type": "stream",
     "text": [
      "\n"
     ]
    },
    {
     "name": "stdout",
     "output_type": "stream",
     "text": [
      "Plotting labels to runs\\detect\\train6\\labels.jpg... \n",
      "\u001b[34m\u001b[1moptimizer:\u001b[0m 'optimizer=auto' found, ignoring 'lr0=0.01' and 'momentum=0.937' and determining best 'optimizer', 'lr0' and 'momentum' automatically... \n",
      "\u001b[34m\u001b[1moptimizer:\u001b[0m AdamW(lr=0.001667, momentum=0.9) with parameter groups 57 weight(decay=0.0), 64 weight(decay=0.0005078125), 63 bias(decay=0.0)\n",
      "100 epochs...\n",
      "\n",
      "      Epoch    GPU_mem   box_loss   cls_loss   dfl_loss  Instances       Size\n"
     ]
    },
    {
     "name": "stderr",
     "output_type": "stream",
     "text": [
      "      1/100      1.67G       3.08      4.034      3.816         13        640: 100%|██████████| 217/217 [00:29<00:00,  7.45it/s]\n",
      "                 Class     Images  Instances      Box(P          R      mAP50  mAP50-95): 100%|██████████| 11/11 [00:01<00:00,  6.49it/s]"
     ]
    },
    {
     "name": "stdout",
     "output_type": "stream",
     "text": [
      "                   all        101        115    0.00746      0.207    0.00546    0.00205\n"
     ]
    },
    {
     "name": "stderr",
     "output_type": "stream",
     "text": [
      "\n"
     ]
    },
    {
     "name": "stdout",
     "output_type": "stream",
     "text": [
      "\n",
      "      Epoch    GPU_mem   box_loss   cls_loss   dfl_loss  Instances       Size\n"
     ]
    },
    {
     "name": "stderr",
     "output_type": "stream",
     "text": [
      "      2/100      1.74G       2.66      3.334      3.222          8        640: 100%|██████████| 217/217 [00:26<00:00,  8.10it/s]\n",
      "                 Class     Images  Instances      Box(P          R      mAP50  mAP50-95): 100%|██████████| 11/11 [00:01<00:00,  9.03it/s]\n"
     ]
    },
    {
     "name": "stdout",
     "output_type": "stream",
     "text": [
      "                   all        101        115      0.568      0.181     0.0832     0.0248\n",
      "\n",
      "      Epoch    GPU_mem   box_loss   cls_loss   dfl_loss  Instances       Size\n"
     ]
    },
    {
     "name": "stderr",
     "output_type": "stream",
     "text": [
      "      3/100      1.74G      2.468      3.005      3.015         15        640: 100%|██████████| 217/217 [00:26<00:00,  8.07it/s]\n",
      "                 Class     Images  Instances      Box(P          R      mAP50  mAP50-95): 100%|██████████| 11/11 [00:01<00:00,  8.48it/s]"
     ]
    },
    {
     "name": "stdout",
     "output_type": "stream",
     "text": [
      "                   all        101        115       0.12      0.149     0.0633     0.0206\n"
     ]
    },
    {
     "name": "stderr",
     "output_type": "stream",
     "text": [
      "\n"
     ]
    },
    {
     "name": "stdout",
     "output_type": "stream",
     "text": [
      "\n",
      "      Epoch    GPU_mem   box_loss   cls_loss   dfl_loss  Instances       Size\n"
     ]
    },
    {
     "name": "stderr",
     "output_type": "stream",
     "text": [
      "      4/100      1.74G      2.422      2.856       2.91          8        640: 100%|██████████| 217/217 [00:26<00:00,  8.15it/s]\n",
      "                 Class     Images  Instances      Box(P          R      mAP50  mAP50-95): 100%|██████████| 11/11 [00:01<00:00,  8.47it/s]"
     ]
    },
    {
     "name": "stdout",
     "output_type": "stream",
     "text": [
      "                   all        101        115      0.173      0.297      0.123     0.0371\n"
     ]
    },
    {
     "name": "stderr",
     "output_type": "stream",
     "text": [
      "\n"
     ]
    },
    {
     "name": "stdout",
     "output_type": "stream",
     "text": [
      "\n",
      "      Epoch    GPU_mem   box_loss   cls_loss   dfl_loss  Instances       Size\n"
     ]
    },
    {
     "name": "stderr",
     "output_type": "stream",
     "text": [
      "      5/100      1.73G      2.345      2.753      2.824          9        640: 100%|██████████| 217/217 [00:26<00:00,  8.20it/s]\n",
      "                 Class     Images  Instances      Box(P          R      mAP50  mAP50-95): 100%|██████████| 11/11 [00:01<00:00,  8.23it/s]"
     ]
    },
    {
     "name": "stdout",
     "output_type": "stream",
     "text": [
      "                   all        101        115      0.324      0.312      0.193     0.0738\n"
     ]
    },
    {
     "name": "stderr",
     "output_type": "stream",
     "text": [
      "\n"
     ]
    },
    {
     "name": "stdout",
     "output_type": "stream",
     "text": [
      "\n",
      "      Epoch    GPU_mem   box_loss   cls_loss   dfl_loss  Instances       Size\n"
     ]
    },
    {
     "name": "stderr",
     "output_type": "stream",
     "text": [
      "      6/100      1.75G      2.254      2.555      2.748         14        640: 100%|██████████| 217/217 [00:26<00:00,  8.17it/s]\n",
      "                 Class     Images  Instances      Box(P          R      mAP50  mAP50-95): 100%|██████████| 11/11 [00:01<00:00,  8.73it/s]"
     ]
    },
    {
     "name": "stdout",
     "output_type": "stream",
     "text": [
      "                   all        101        115      0.263       0.33      0.207     0.0811\n"
     ]
    },
    {
     "name": "stderr",
     "output_type": "stream",
     "text": [
      "\n"
     ]
    },
    {
     "name": "stdout",
     "output_type": "stream",
     "text": [
      "\n",
      "      Epoch    GPU_mem   box_loss   cls_loss   dfl_loss  Instances       Size\n"
     ]
    },
    {
     "name": "stderr",
     "output_type": "stream",
     "text": [
      "      7/100      1.74G      2.238      2.521      2.736          8        640: 100%|██████████| 217/217 [00:26<00:00,  8.11it/s]\n",
      "                 Class     Images  Instances      Box(P          R      mAP50  mAP50-95): 100%|██████████| 11/11 [00:01<00:00,  8.60it/s]"
     ]
    },
    {
     "name": "stdout",
     "output_type": "stream",
     "text": [
      "                   all        101        115      0.273       0.43      0.294     0.0953\n"
     ]
    },
    {
     "name": "stderr",
     "output_type": "stream",
     "text": [
      "\n"
     ]
    },
    {
     "name": "stdout",
     "output_type": "stream",
     "text": [
      "\n",
      "      Epoch    GPU_mem   box_loss   cls_loss   dfl_loss  Instances       Size\n"
     ]
    },
    {
     "name": "stderr",
     "output_type": "stream",
     "text": [
      "      8/100      1.75G      2.159      2.477      2.684         12        640: 100%|██████████| 217/217 [00:26<00:00,  8.17it/s]\n",
      "                 Class     Images  Instances      Box(P          R      mAP50  mAP50-95): 100%|██████████| 11/11 [00:01<00:00,  8.28it/s]"
     ]
    },
    {
     "name": "stdout",
     "output_type": "stream",
     "text": [
      "                   all        101        115      0.347      0.325       0.23     0.0729\n"
     ]
    },
    {
     "name": "stderr",
     "output_type": "stream",
     "text": [
      "\n"
     ]
    },
    {
     "name": "stdout",
     "output_type": "stream",
     "text": [
      "\n",
      "      Epoch    GPU_mem   box_loss   cls_loss   dfl_loss  Instances       Size\n"
     ]
    },
    {
     "name": "stderr",
     "output_type": "stream",
     "text": [
      "      9/100      1.74G      2.108      2.378      2.603          9        640: 100%|██████████| 217/217 [00:26<00:00,  8.18it/s]\n",
      "                 Class     Images  Instances      Box(P          R      mAP50  mAP50-95): 100%|██████████| 11/11 [00:01<00:00,  8.68it/s]"
     ]
    },
    {
     "name": "stdout",
     "output_type": "stream",
     "text": [
      "                   all        101        115       0.41      0.384      0.337      0.129\n"
     ]
    },
    {
     "name": "stderr",
     "output_type": "stream",
     "text": [
      "\n"
     ]
    },
    {
     "name": "stdout",
     "output_type": "stream",
     "text": [
      "\n",
      "      Epoch    GPU_mem   box_loss   cls_loss   dfl_loss  Instances       Size\n"
     ]
    },
    {
     "name": "stderr",
     "output_type": "stream",
     "text": [
      "     10/100      1.74G      2.062      2.314      2.571          9        640: 100%|██████████| 217/217 [00:26<00:00,  8.18it/s]\n",
      "                 Class     Images  Instances      Box(P          R      mAP50  mAP50-95): 100%|██████████| 11/11 [00:01<00:00,  8.39it/s]"
     ]
    },
    {
     "name": "stdout",
     "output_type": "stream",
     "text": [
      "                   all        101        115      0.395      0.525      0.392      0.163\n"
     ]
    },
    {
     "name": "stderr",
     "output_type": "stream",
     "text": [
      "\n"
     ]
    },
    {
     "name": "stdout",
     "output_type": "stream",
     "text": [
      "\n",
      "      Epoch    GPU_mem   box_loss   cls_loss   dfl_loss  Instances       Size\n"
     ]
    },
    {
     "name": "stderr",
     "output_type": "stream",
     "text": [
      "     11/100      1.74G      1.973      2.207      2.499         10        640: 100%|██████████| 217/217 [00:26<00:00,  8.19it/s]\n",
      "                 Class     Images  Instances      Box(P          R      mAP50  mAP50-95): 100%|██████████| 11/11 [00:01<00:00,  9.12it/s]"
     ]
    },
    {
     "name": "stdout",
     "output_type": "stream",
     "text": [
      "                   all        101        115      0.376      0.467        0.4      0.158\n"
     ]
    },
    {
     "name": "stderr",
     "output_type": "stream",
     "text": [
      "\n"
     ]
    },
    {
     "name": "stdout",
     "output_type": "stream",
     "text": [
      "\n",
      "      Epoch    GPU_mem   box_loss   cls_loss   dfl_loss  Instances       Size\n"
     ]
    },
    {
     "name": "stderr",
     "output_type": "stream",
     "text": [
      "     12/100      1.74G      1.935      2.149      2.495          9        640: 100%|██████████| 217/217 [00:26<00:00,  8.23it/s]\n",
      "                 Class     Images  Instances      Box(P          R      mAP50  mAP50-95): 100%|██████████| 11/11 [00:01<00:00,  8.75it/s]"
     ]
    },
    {
     "name": "stdout",
     "output_type": "stream",
     "text": [
      "                   all        101        115      0.511      0.519      0.466      0.168\n"
     ]
    },
    {
     "name": "stderr",
     "output_type": "stream",
     "text": [
      "\n"
     ]
    },
    {
     "name": "stdout",
     "output_type": "stream",
     "text": [
      "\n",
      "      Epoch    GPU_mem   box_loss   cls_loss   dfl_loss  Instances       Size\n"
     ]
    },
    {
     "name": "stderr",
     "output_type": "stream",
     "text": [
      "     13/100      1.75G      1.962       2.16      2.467         10        640: 100%|██████████| 217/217 [00:26<00:00,  8.15it/s]\n",
      "                 Class     Images  Instances      Box(P          R      mAP50  mAP50-95): 100%|██████████| 11/11 [00:01<00:00,  8.34it/s]"
     ]
    },
    {
     "name": "stdout",
     "output_type": "stream",
     "text": [
      "                   all        101        115      0.602       0.42      0.407      0.158\n"
     ]
    },
    {
     "name": "stderr",
     "output_type": "stream",
     "text": [
      "\n"
     ]
    },
    {
     "name": "stdout",
     "output_type": "stream",
     "text": [
      "\n",
      "      Epoch    GPU_mem   box_loss   cls_loss   dfl_loss  Instances       Size\n"
     ]
    },
    {
     "name": "stderr",
     "output_type": "stream",
     "text": [
      "     14/100      1.73G      1.909      2.066      2.439         14        640: 100%|██████████| 217/217 [00:26<00:00,  8.14it/s]\n",
      "                 Class     Images  Instances      Box(P          R      mAP50  mAP50-95): 100%|██████████| 11/11 [00:01<00:00,  7.70it/s]"
     ]
    },
    {
     "name": "stdout",
     "output_type": "stream",
     "text": [
      "                   all        101        115      0.524      0.591      0.512      0.212\n"
     ]
    },
    {
     "name": "stderr",
     "output_type": "stream",
     "text": [
      "\n"
     ]
    },
    {
     "name": "stdout",
     "output_type": "stream",
     "text": [
      "\n",
      "      Epoch    GPU_mem   box_loss   cls_loss   dfl_loss  Instances       Size\n"
     ]
    },
    {
     "name": "stderr",
     "output_type": "stream",
     "text": [
      "     15/100      1.74G      1.849      2.008      2.386         12        640: 100%|██████████| 217/217 [00:27<00:00,  7.96it/s]\n",
      "                 Class     Images  Instances      Box(P          R      mAP50  mAP50-95): 100%|██████████| 11/11 [00:01<00:00,  8.45it/s]"
     ]
    },
    {
     "name": "stdout",
     "output_type": "stream",
     "text": [
      "                   all        101        115      0.437      0.589      0.423      0.178\n"
     ]
    },
    {
     "name": "stderr",
     "output_type": "stream",
     "text": [
      "\n"
     ]
    },
    {
     "name": "stdout",
     "output_type": "stream",
     "text": [
      "\n",
      "      Epoch    GPU_mem   box_loss   cls_loss   dfl_loss  Instances       Size\n"
     ]
    },
    {
     "name": "stderr",
     "output_type": "stream",
     "text": [
      "     16/100      1.73G      1.858      1.998      2.371         12        640: 100%|██████████| 217/217 [00:27<00:00,  8.00it/s]\n",
      "                 Class     Images  Instances      Box(P          R      mAP50  mAP50-95): 100%|██████████| 11/11 [00:01<00:00,  7.45it/s]"
     ]
    },
    {
     "name": "stdout",
     "output_type": "stream",
     "text": [
      "                   all        101        115      0.417      0.548       0.44      0.192\n"
     ]
    },
    {
     "name": "stderr",
     "output_type": "stream",
     "text": [
      "\n"
     ]
    },
    {
     "name": "stdout",
     "output_type": "stream",
     "text": [
      "\n",
      "      Epoch    GPU_mem   box_loss   cls_loss   dfl_loss  Instances       Size\n"
     ]
    },
    {
     "name": "stderr",
     "output_type": "stream",
     "text": [
      "     17/100      1.73G      1.798      1.977      2.364          9        640: 100%|██████████| 217/217 [00:26<00:00,  8.04it/s]\n",
      "                 Class     Images  Instances      Box(P          R      mAP50  mAP50-95): 100%|██████████| 11/11 [00:01<00:00,  8.34it/s]"
     ]
    },
    {
     "name": "stdout",
     "output_type": "stream",
     "text": [
      "                   all        101        115      0.473      0.604      0.483      0.229\n"
     ]
    },
    {
     "name": "stderr",
     "output_type": "stream",
     "text": [
      "\n"
     ]
    },
    {
     "name": "stdout",
     "output_type": "stream",
     "text": [
      "\n",
      "      Epoch    GPU_mem   box_loss   cls_loss   dfl_loss  Instances       Size\n"
     ]
    },
    {
     "name": "stderr",
     "output_type": "stream",
     "text": [
      "     18/100      1.73G      1.831      1.922      2.351          7        640: 100%|██████████| 217/217 [00:27<00:00,  7.97it/s]\n",
      "                 Class     Images  Instances      Box(P          R      mAP50  mAP50-95): 100%|██████████| 11/11 [00:01<00:00,  8.20it/s]"
     ]
    },
    {
     "name": "stdout",
     "output_type": "stream",
     "text": [
      "                   all        101        115      0.514      0.597      0.553      0.226\n"
     ]
    },
    {
     "name": "stderr",
     "output_type": "stream",
     "text": [
      "\n"
     ]
    },
    {
     "name": "stdout",
     "output_type": "stream",
     "text": [
      "\n",
      "      Epoch    GPU_mem   box_loss   cls_loss   dfl_loss  Instances       Size\n"
     ]
    },
    {
     "name": "stderr",
     "output_type": "stream",
     "text": [
      "     19/100      1.73G      1.755      1.858      2.293          9        640: 100%|██████████| 217/217 [00:27<00:00,  7.92it/s]\n",
      "                 Class     Images  Instances      Box(P          R      mAP50  mAP50-95): 100%|██████████| 11/11 [00:01<00:00,  7.85it/s]"
     ]
    },
    {
     "name": "stdout",
     "output_type": "stream",
     "text": [
      "                   all        101        115      0.606      0.464      0.473       0.21\n"
     ]
    },
    {
     "name": "stderr",
     "output_type": "stream",
     "text": [
      "\n"
     ]
    },
    {
     "name": "stdout",
     "output_type": "stream",
     "text": [
      "\n",
      "      Epoch    GPU_mem   box_loss   cls_loss   dfl_loss  Instances       Size\n"
     ]
    },
    {
     "name": "stderr",
     "output_type": "stream",
     "text": [
      "     20/100      1.73G      1.753      1.832      2.299         10        640: 100%|██████████| 217/217 [00:27<00:00,  7.96it/s]\n",
      "                 Class     Images  Instances      Box(P          R      mAP50  mAP50-95): 100%|██████████| 11/11 [00:01<00:00,  8.20it/s]"
     ]
    },
    {
     "name": "stdout",
     "output_type": "stream",
     "text": [
      "                   all        101        115      0.445      0.609      0.485       0.21\n"
     ]
    },
    {
     "name": "stderr",
     "output_type": "stream",
     "text": [
      "\n"
     ]
    },
    {
     "name": "stdout",
     "output_type": "stream",
     "text": [
      "\n",
      "      Epoch    GPU_mem   box_loss   cls_loss   dfl_loss  Instances       Size\n"
     ]
    },
    {
     "name": "stderr",
     "output_type": "stream",
     "text": [
      "     21/100      1.73G      1.757      1.861      2.288         12        640: 100%|██████████| 217/217 [00:27<00:00,  7.97it/s]\n",
      "                 Class     Images  Instances      Box(P          R      mAP50  mAP50-95): 100%|██████████| 11/11 [00:01<00:00,  8.21it/s]"
     ]
    },
    {
     "name": "stdout",
     "output_type": "stream",
     "text": [
      "                   all        101        115      0.624      0.529      0.548      0.259\n"
     ]
    },
    {
     "name": "stderr",
     "output_type": "stream",
     "text": [
      "\n"
     ]
    },
    {
     "name": "stdout",
     "output_type": "stream",
     "text": [
      "\n",
      "      Epoch    GPU_mem   box_loss   cls_loss   dfl_loss  Instances       Size\n"
     ]
    },
    {
     "name": "stderr",
     "output_type": "stream",
     "text": [
      "     22/100      1.73G      1.745      1.834      2.275         16        640: 100%|██████████| 217/217 [00:27<00:00,  7.98it/s]\n",
      "                 Class     Images  Instances      Box(P          R      mAP50  mAP50-95): 100%|██████████| 11/11 [00:01<00:00,  8.10it/s]"
     ]
    },
    {
     "name": "stdout",
     "output_type": "stream",
     "text": [
      "                   all        101        115      0.568       0.62      0.572      0.247\n"
     ]
    },
    {
     "name": "stderr",
     "output_type": "stream",
     "text": [
      "\n"
     ]
    },
    {
     "name": "stdout",
     "output_type": "stream",
     "text": [
      "\n",
      "      Epoch    GPU_mem   box_loss   cls_loss   dfl_loss  Instances       Size\n"
     ]
    },
    {
     "name": "stderr",
     "output_type": "stream",
     "text": [
      "     23/100      1.73G      1.701      1.822      2.231          9        640: 100%|██████████| 217/217 [00:27<00:00,  7.94it/s]\n",
      "                 Class     Images  Instances      Box(P          R      mAP50  mAP50-95): 100%|██████████| 11/11 [00:01<00:00,  7.99it/s]\n"
     ]
    },
    {
     "name": "stdout",
     "output_type": "stream",
     "text": [
      "                   all        101        115      0.614      0.595      0.567       0.25\n",
      "\n",
      "      Epoch    GPU_mem   box_loss   cls_loss   dfl_loss  Instances       Size\n"
     ]
    },
    {
     "name": "stderr",
     "output_type": "stream",
     "text": [
      "     24/100      1.73G      1.703       1.79      2.247          7        640: 100%|██████████| 217/217 [00:27<00:00,  7.95it/s]\n",
      "                 Class     Images  Instances      Box(P          R      mAP50  mAP50-95): 100%|██████████| 11/11 [00:01<00:00,  8.19it/s]"
     ]
    },
    {
     "name": "stdout",
     "output_type": "stream",
     "text": [
      "                   all        101        115       0.59      0.659      0.623      0.278\n"
     ]
    },
    {
     "name": "stderr",
     "output_type": "stream",
     "text": [
      "\n"
     ]
    },
    {
     "name": "stdout",
     "output_type": "stream",
     "text": [
      "\n",
      "      Epoch    GPU_mem   box_loss   cls_loss   dfl_loss  Instances       Size\n"
     ]
    },
    {
     "name": "stderr",
     "output_type": "stream",
     "text": [
      "     25/100      1.74G      1.668      1.725      2.185         11        640: 100%|██████████| 217/217 [00:27<00:00,  7.98it/s]\n",
      "                 Class     Images  Instances      Box(P          R      mAP50  mAP50-95): 100%|██████████| 11/11 [00:01<00:00,  7.94it/s]"
     ]
    },
    {
     "name": "stdout",
     "output_type": "stream",
     "text": [
      "                   all        101        115      0.492      0.674      0.585      0.261\n"
     ]
    },
    {
     "name": "stderr",
     "output_type": "stream",
     "text": [
      "\n"
     ]
    },
    {
     "name": "stdout",
     "output_type": "stream",
     "text": [
      "\n",
      "      Epoch    GPU_mem   box_loss   cls_loss   dfl_loss  Instances       Size\n"
     ]
    },
    {
     "name": "stderr",
     "output_type": "stream",
     "text": [
      "     26/100      1.74G      1.679      1.733      2.208         12        640: 100%|██████████| 217/217 [00:27<00:00,  8.03it/s]\n",
      "                 Class     Images  Instances      Box(P          R      mAP50  mAP50-95): 100%|██████████| 11/11 [00:01<00:00,  8.07it/s]"
     ]
    },
    {
     "name": "stdout",
     "output_type": "stream",
     "text": [
      "                   all        101        115      0.591      0.649      0.594       0.26\n"
     ]
    },
    {
     "name": "stderr",
     "output_type": "stream",
     "text": [
      "\n"
     ]
    },
    {
     "name": "stdout",
     "output_type": "stream",
     "text": [
      "\n",
      "      Epoch    GPU_mem   box_loss   cls_loss   dfl_loss  Instances       Size\n"
     ]
    },
    {
     "name": "stderr",
     "output_type": "stream",
     "text": [
      "     27/100      1.73G       1.67      1.699      2.189         14        640: 100%|██████████| 217/217 [00:27<00:00,  7.96it/s]\n",
      "                 Class     Images  Instances      Box(P          R      mAP50  mAP50-95): 100%|██████████| 11/11 [00:01<00:00,  8.27it/s]"
     ]
    },
    {
     "name": "stdout",
     "output_type": "stream",
     "text": [
      "                   all        101        115      0.722      0.569       0.63      0.296\n"
     ]
    },
    {
     "name": "stderr",
     "output_type": "stream",
     "text": [
      "\n"
     ]
    },
    {
     "name": "stdout",
     "output_type": "stream",
     "text": [
      "\n",
      "      Epoch    GPU_mem   box_loss   cls_loss   dfl_loss  Instances       Size\n"
     ]
    },
    {
     "name": "stderr",
     "output_type": "stream",
     "text": [
      "     28/100      1.75G      1.718      1.722      2.239          7        640: 100%|██████████| 217/217 [00:27<00:00,  7.96it/s]\n",
      "                 Class     Images  Instances      Box(P          R      mAP50  mAP50-95): 100%|██████████| 11/11 [00:01<00:00,  8.00it/s]"
     ]
    },
    {
     "name": "stdout",
     "output_type": "stream",
     "text": [
      "                   all        101        115      0.603      0.607      0.596      0.259\n"
     ]
    },
    {
     "name": "stderr",
     "output_type": "stream",
     "text": [
      "\n"
     ]
    },
    {
     "name": "stdout",
     "output_type": "stream",
     "text": [
      "\n",
      "      Epoch    GPU_mem   box_loss   cls_loss   dfl_loss  Instances       Size\n"
     ]
    },
    {
     "name": "stderr",
     "output_type": "stream",
     "text": [
      "     29/100      1.74G      1.626      1.695      2.188          9        640: 100%|██████████| 217/217 [00:27<00:00,  7.96it/s]\n",
      "                 Class     Images  Instances      Box(P          R      mAP50  mAP50-95): 100%|██████████| 11/11 [00:01<00:00,  8.13it/s]"
     ]
    },
    {
     "name": "stdout",
     "output_type": "stream",
     "text": [
      "                   all        101        115      0.627       0.62      0.593      0.285\n"
     ]
    },
    {
     "name": "stderr",
     "output_type": "stream",
     "text": [
      "\n"
     ]
    },
    {
     "name": "stdout",
     "output_type": "stream",
     "text": [
      "\n",
      "      Epoch    GPU_mem   box_loss   cls_loss   dfl_loss  Instances       Size\n"
     ]
    },
    {
     "name": "stderr",
     "output_type": "stream",
     "text": [
      "     30/100      1.73G      1.638      1.632      2.152          8        640: 100%|██████████| 217/217 [00:27<00:00,  7.91it/s]\n",
      "                 Class     Images  Instances      Box(P          R      mAP50  mAP50-95): 100%|██████████| 11/11 [00:01<00:00,  7.97it/s]"
     ]
    },
    {
     "name": "stdout",
     "output_type": "stream",
     "text": [
      "                   all        101        115      0.693      0.583       0.67      0.309\n"
     ]
    },
    {
     "name": "stderr",
     "output_type": "stream",
     "text": [
      "\n"
     ]
    },
    {
     "name": "stdout",
     "output_type": "stream",
     "text": [
      "\n",
      "      Epoch    GPU_mem   box_loss   cls_loss   dfl_loss  Instances       Size\n"
     ]
    },
    {
     "name": "stderr",
     "output_type": "stream",
     "text": [
      "     31/100      1.73G      1.648      1.678       2.18          6        640: 100%|██████████| 217/217 [00:26<00:00,  8.05it/s]\n",
      "                 Class     Images  Instances      Box(P          R      mAP50  mAP50-95): 100%|██████████| 11/11 [00:01<00:00, 10.95it/s]"
     ]
    },
    {
     "name": "stdout",
     "output_type": "stream",
     "text": [
      "                   all        101        115      0.628      0.627      0.626      0.298\n"
     ]
    },
    {
     "name": "stderr",
     "output_type": "stream",
     "text": [
      "\n"
     ]
    },
    {
     "name": "stdout",
     "output_type": "stream",
     "text": [
      "\n",
      "      Epoch    GPU_mem   box_loss   cls_loss   dfl_loss  Instances       Size\n"
     ]
    },
    {
     "name": "stderr",
     "output_type": "stream",
     "text": [
      "     32/100      1.73G      1.627      1.675      2.154         13        640: 100%|██████████| 217/217 [00:26<00:00,  8.13it/s]\n",
      "                 Class     Images  Instances      Box(P          R      mAP50  mAP50-95): 100%|██████████| 11/11 [00:01<00:00,  8.50it/s]"
     ]
    },
    {
     "name": "stdout",
     "output_type": "stream",
     "text": [
      "                   all        101        115       0.61      0.696      0.713      0.284\n"
     ]
    },
    {
     "name": "stderr",
     "output_type": "stream",
     "text": [
      "\n"
     ]
    },
    {
     "name": "stdout",
     "output_type": "stream",
     "text": [
      "\n",
      "      Epoch    GPU_mem   box_loss   cls_loss   dfl_loss  Instances       Size\n"
     ]
    },
    {
     "name": "stderr",
     "output_type": "stream",
     "text": [
      "     33/100      1.74G      1.629      1.651      2.165          7        640: 100%|██████████| 217/217 [00:26<00:00,  8.12it/s]\n",
      "                 Class     Images  Instances      Box(P          R      mAP50  mAP50-95): 100%|██████████| 11/11 [00:01<00:00,  8.74it/s]"
     ]
    },
    {
     "name": "stdout",
     "output_type": "stream",
     "text": [
      "                   all        101        115       0.78      0.625      0.702       0.31\n"
     ]
    },
    {
     "name": "stderr",
     "output_type": "stream",
     "text": [
      "\n"
     ]
    },
    {
     "name": "stdout",
     "output_type": "stream",
     "text": [
      "\n",
      "      Epoch    GPU_mem   box_loss   cls_loss   dfl_loss  Instances       Size\n"
     ]
    },
    {
     "name": "stderr",
     "output_type": "stream",
     "text": [
      "     34/100      1.75G      1.612       1.64      2.128         13        640: 100%|██████████| 217/217 [00:26<00:00,  8.16it/s]\n",
      "                 Class     Images  Instances      Box(P          R      mAP50  mAP50-95): 100%|██████████| 11/11 [00:01<00:00,  8.68it/s]"
     ]
    },
    {
     "name": "stdout",
     "output_type": "stream",
     "text": [
      "                   all        101        115      0.602      0.703      0.642      0.279\n"
     ]
    },
    {
     "name": "stderr",
     "output_type": "stream",
     "text": [
      "\n"
     ]
    },
    {
     "name": "stdout",
     "output_type": "stream",
     "text": [
      "\n",
      "      Epoch    GPU_mem   box_loss   cls_loss   dfl_loss  Instances       Size\n"
     ]
    },
    {
     "name": "stderr",
     "output_type": "stream",
     "text": [
      "     35/100      1.75G      1.585      1.588      2.144         12        640: 100%|██████████| 217/217 [00:26<00:00,  8.11it/s]\n",
      "                 Class     Images  Instances      Box(P          R      mAP50  mAP50-95): 100%|██████████| 11/11 [00:01<00:00,  8.65it/s]"
     ]
    },
    {
     "name": "stdout",
     "output_type": "stream",
     "text": [
      "                   all        101        115      0.578      0.685      0.652      0.305\n"
     ]
    },
    {
     "name": "stderr",
     "output_type": "stream",
     "text": [
      "\n"
     ]
    },
    {
     "name": "stdout",
     "output_type": "stream",
     "text": [
      "\n",
      "      Epoch    GPU_mem   box_loss   cls_loss   dfl_loss  Instances       Size\n"
     ]
    },
    {
     "name": "stderr",
     "output_type": "stream",
     "text": [
      "     36/100      1.73G      1.591      1.552      2.136          8        640: 100%|██████████| 217/217 [00:26<00:00,  8.08it/s]\n",
      "                 Class     Images  Instances      Box(P          R      mAP50  mAP50-95): 100%|██████████| 11/11 [00:01<00:00,  8.23it/s]"
     ]
    },
    {
     "name": "stdout",
     "output_type": "stream",
     "text": [
      "                   all        101        115      0.614      0.711      0.692      0.317\n"
     ]
    },
    {
     "name": "stderr",
     "output_type": "stream",
     "text": [
      "\n"
     ]
    },
    {
     "name": "stdout",
     "output_type": "stream",
     "text": [
      "\n",
      "      Epoch    GPU_mem   box_loss   cls_loss   dfl_loss  Instances       Size\n"
     ]
    },
    {
     "name": "stderr",
     "output_type": "stream",
     "text": [
      "     37/100      1.74G      1.549      1.512      2.049         10        640: 100%|██████████| 217/217 [00:27<00:00,  7.96it/s]\n",
      "                 Class     Images  Instances      Box(P          R      mAP50  mAP50-95): 100%|██████████| 11/11 [00:01<00:00,  8.24it/s]"
     ]
    },
    {
     "name": "stdout",
     "output_type": "stream",
     "text": [
      "                   all        101        115      0.641      0.671      0.706      0.336\n"
     ]
    },
    {
     "name": "stderr",
     "output_type": "stream",
     "text": [
      "\n"
     ]
    },
    {
     "name": "stdout",
     "output_type": "stream",
     "text": [
      "\n",
      "      Epoch    GPU_mem   box_loss   cls_loss   dfl_loss  Instances       Size\n"
     ]
    },
    {
     "name": "stderr",
     "output_type": "stream",
     "text": [
      "     38/100      1.73G      1.552      1.527      2.089         15        640: 100%|██████████| 217/217 [00:27<00:00,  7.94it/s]\n",
      "                 Class     Images  Instances      Box(P          R      mAP50  mAP50-95): 100%|██████████| 11/11 [00:01<00:00,  7.91it/s]"
     ]
    },
    {
     "name": "stdout",
     "output_type": "stream",
     "text": [
      "                   all        101        115      0.673      0.687      0.728      0.337\n"
     ]
    },
    {
     "name": "stderr",
     "output_type": "stream",
     "text": [
      "\n"
     ]
    },
    {
     "name": "stdout",
     "output_type": "stream",
     "text": [
      "\n",
      "      Epoch    GPU_mem   box_loss   cls_loss   dfl_loss  Instances       Size\n"
     ]
    },
    {
     "name": "stderr",
     "output_type": "stream",
     "text": [
      "     39/100      1.74G       1.56      1.483      2.095         16        640: 100%|██████████| 217/217 [00:27<00:00,  7.95it/s]\n",
      "                 Class     Images  Instances      Box(P          R      mAP50  mAP50-95): 100%|██████████| 11/11 [00:01<00:00,  8.02it/s]\n"
     ]
    },
    {
     "name": "stdout",
     "output_type": "stream",
     "text": [
      "                   all        101        115      0.708      0.658       0.74      0.332\n",
      "\n",
      "      Epoch    GPU_mem   box_loss   cls_loss   dfl_loss  Instances       Size\n"
     ]
    },
    {
     "name": "stderr",
     "output_type": "stream",
     "text": [
      "     40/100      1.74G      1.542      1.501      2.069          9        640: 100%|██████████| 217/217 [00:27<00:00,  7.95it/s]\n",
      "                 Class     Images  Instances      Box(P          R      mAP50  mAP50-95): 100%|██████████| 11/11 [00:01<00:00,  7.76it/s]"
     ]
    },
    {
     "name": "stdout",
     "output_type": "stream",
     "text": [
      "                   all        101        115      0.727      0.691      0.702      0.337\n"
     ]
    },
    {
     "name": "stderr",
     "output_type": "stream",
     "text": [
      "\n"
     ]
    },
    {
     "name": "stdout",
     "output_type": "stream",
     "text": [
      "\n",
      "      Epoch    GPU_mem   box_loss   cls_loss   dfl_loss  Instances       Size\n"
     ]
    },
    {
     "name": "stderr",
     "output_type": "stream",
     "text": [
      "     41/100      1.75G      1.507      1.484      2.065          9        640: 100%|██████████| 217/217 [00:26<00:00,  8.13it/s]\n",
      "                 Class     Images  Instances      Box(P          R      mAP50  mAP50-95): 100%|██████████| 11/11 [00:01<00:00,  8.63it/s]"
     ]
    },
    {
     "name": "stdout",
     "output_type": "stream",
     "text": [
      "                   all        101        115      0.763      0.681      0.749      0.368\n"
     ]
    },
    {
     "name": "stderr",
     "output_type": "stream",
     "text": [
      "\n"
     ]
    },
    {
     "name": "stdout",
     "output_type": "stream",
     "text": [
      "\n",
      "      Epoch    GPU_mem   box_loss   cls_loss   dfl_loss  Instances       Size\n"
     ]
    },
    {
     "name": "stderr",
     "output_type": "stream",
     "text": [
      "     42/100      1.74G       1.53      1.481      2.053         17        640: 100%|██████████| 217/217 [00:26<00:00,  8.22it/s]\n",
      "                 Class     Images  Instances      Box(P          R      mAP50  mAP50-95): 100%|██████████| 11/11 [00:01<00:00,  8.75it/s]"
     ]
    },
    {
     "name": "stdout",
     "output_type": "stream",
     "text": [
      "                   all        101        115      0.597      0.714      0.698      0.331\n"
     ]
    },
    {
     "name": "stderr",
     "output_type": "stream",
     "text": [
      "\n"
     ]
    },
    {
     "name": "stdout",
     "output_type": "stream",
     "text": [
      "\n",
      "      Epoch    GPU_mem   box_loss   cls_loss   dfl_loss  Instances       Size\n"
     ]
    },
    {
     "name": "stderr",
     "output_type": "stream",
     "text": [
      "     43/100      1.74G      1.498      1.429      2.034         10        640: 100%|██████████| 217/217 [00:26<00:00,  8.22it/s]\n",
      "                 Class     Images  Instances      Box(P          R      mAP50  mAP50-95): 100%|██████████| 11/11 [00:01<00:00,  8.66it/s]"
     ]
    },
    {
     "name": "stdout",
     "output_type": "stream",
     "text": [
      "                   all        101        115      0.815      0.574      0.744      0.364\n"
     ]
    },
    {
     "name": "stderr",
     "output_type": "stream",
     "text": [
      "\n"
     ]
    },
    {
     "name": "stdout",
     "output_type": "stream",
     "text": [
      "\n",
      "      Epoch    GPU_mem   box_loss   cls_loss   dfl_loss  Instances       Size\n"
     ]
    },
    {
     "name": "stderr",
     "output_type": "stream",
     "text": [
      "     44/100      1.74G      1.508      1.442      2.063          9        640: 100%|██████████| 217/217 [00:26<00:00,  8.24it/s]\n",
      "                 Class     Images  Instances      Box(P          R      mAP50  mAP50-95): 100%|██████████| 11/11 [00:01<00:00,  8.80it/s]"
     ]
    },
    {
     "name": "stdout",
     "output_type": "stream",
     "text": [
      "                   all        101        115        0.7      0.692      0.728       0.34\n"
     ]
    },
    {
     "name": "stderr",
     "output_type": "stream",
     "text": [
      "\n"
     ]
    },
    {
     "name": "stdout",
     "output_type": "stream",
     "text": [
      "\n",
      "      Epoch    GPU_mem   box_loss   cls_loss   dfl_loss  Instances       Size\n"
     ]
    },
    {
     "name": "stderr",
     "output_type": "stream",
     "text": [
      "     45/100      1.73G      1.528      1.414      2.063         17        640: 100%|██████████| 217/217 [00:26<00:00,  8.24it/s]\n",
      "                 Class     Images  Instances      Box(P          R      mAP50  mAP50-95): 100%|██████████| 11/11 [00:01<00:00,  8.82it/s]"
     ]
    },
    {
     "name": "stdout",
     "output_type": "stream",
     "text": [
      "                   all        101        115      0.712      0.714      0.753       0.38\n"
     ]
    },
    {
     "name": "stderr",
     "output_type": "stream",
     "text": [
      "\n"
     ]
    },
    {
     "name": "stdout",
     "output_type": "stream",
     "text": [
      "\n",
      "      Epoch    GPU_mem   box_loss   cls_loss   dfl_loss  Instances       Size\n"
     ]
    },
    {
     "name": "stderr",
     "output_type": "stream",
     "text": [
      "     46/100      1.74G        1.5      1.353       2.01         11        640: 100%|██████████| 217/217 [00:26<00:00,  8.27it/s]\n",
      "                 Class     Images  Instances      Box(P          R      mAP50  mAP50-95): 100%|██████████| 11/11 [00:01<00:00,  8.30it/s]"
     ]
    },
    {
     "name": "stdout",
     "output_type": "stream",
     "text": [
      "                   all        101        115      0.706      0.715      0.769      0.384\n"
     ]
    },
    {
     "name": "stderr",
     "output_type": "stream",
     "text": [
      "\n"
     ]
    },
    {
     "name": "stdout",
     "output_type": "stream",
     "text": [
      "\n",
      "      Epoch    GPU_mem   box_loss   cls_loss   dfl_loss  Instances       Size\n"
     ]
    },
    {
     "name": "stderr",
     "output_type": "stream",
     "text": [
      "     47/100      1.74G      1.479      1.371      2.002         14        640: 100%|██████████| 217/217 [00:26<00:00,  8.24it/s]\n",
      "                 Class     Images  Instances      Box(P          R      mAP50  mAP50-95): 100%|██████████| 11/11 [00:01<00:00,  8.40it/s]"
     ]
    },
    {
     "name": "stdout",
     "output_type": "stream",
     "text": [
      "                   all        101        115      0.695      0.649      0.694      0.338\n"
     ]
    },
    {
     "name": "stderr",
     "output_type": "stream",
     "text": [
      "\n"
     ]
    },
    {
     "name": "stdout",
     "output_type": "stream",
     "text": [
      "\n",
      "      Epoch    GPU_mem   box_loss   cls_loss   dfl_loss  Instances       Size\n"
     ]
    },
    {
     "name": "stderr",
     "output_type": "stream",
     "text": [
      "     48/100      1.74G      1.516      1.378      2.043         13        640: 100%|██████████| 217/217 [00:26<00:00,  8.11it/s]\n",
      "                 Class     Images  Instances      Box(P          R      mAP50  mAP50-95): 100%|██████████| 11/11 [00:01<00:00,  7.85it/s]"
     ]
    },
    {
     "name": "stdout",
     "output_type": "stream",
     "text": [
      "                   all        101        115      0.708      0.636      0.721      0.341\n"
     ]
    },
    {
     "name": "stderr",
     "output_type": "stream",
     "text": [
      "\n"
     ]
    },
    {
     "name": "stdout",
     "output_type": "stream",
     "text": [
      "\n",
      "      Epoch    GPU_mem   box_loss   cls_loss   dfl_loss  Instances       Size\n"
     ]
    },
    {
     "name": "stderr",
     "output_type": "stream",
     "text": [
      "     49/100      1.74G      1.471      1.378      1.982         10        640: 100%|██████████| 217/217 [00:27<00:00,  7.92it/s]\n",
      "                 Class     Images  Instances      Box(P          R      mAP50  mAP50-95): 100%|██████████| 11/11 [00:01<00:00,  8.25it/s]"
     ]
    },
    {
     "name": "stdout",
     "output_type": "stream",
     "text": [
      "                   all        101        115      0.694      0.662      0.731      0.368\n"
     ]
    },
    {
     "name": "stderr",
     "output_type": "stream",
     "text": [
      "\n"
     ]
    },
    {
     "name": "stdout",
     "output_type": "stream",
     "text": [
      "\n",
      "      Epoch    GPU_mem   box_loss   cls_loss   dfl_loss  Instances       Size\n"
     ]
    },
    {
     "name": "stderr",
     "output_type": "stream",
     "text": [
      "     50/100      1.74G      1.424      1.313      1.956         10        640: 100%|██████████| 217/217 [00:27<00:00,  7.95it/s]\n",
      "                 Class     Images  Instances      Box(P          R      mAP50  mAP50-95): 100%|██████████| 11/11 [00:01<00:00,  8.10it/s]"
     ]
    },
    {
     "name": "stdout",
     "output_type": "stream",
     "text": [
      "                   all        101        115       0.68      0.791      0.769      0.393\n"
     ]
    },
    {
     "name": "stderr",
     "output_type": "stream",
     "text": [
      "\n"
     ]
    },
    {
     "name": "stdout",
     "output_type": "stream",
     "text": [
      "\n",
      "      Epoch    GPU_mem   box_loss   cls_loss   dfl_loss  Instances       Size\n"
     ]
    },
    {
     "name": "stderr",
     "output_type": "stream",
     "text": [
      "     51/100      1.73G      1.429      1.312      1.971          9        640: 100%|██████████| 217/217 [00:27<00:00,  7.96it/s]\n",
      "                 Class     Images  Instances      Box(P          R      mAP50  mAP50-95): 100%|██████████| 11/11 [00:01<00:00,  8.29it/s]"
     ]
    },
    {
     "name": "stdout",
     "output_type": "stream",
     "text": [
      "                   all        101        115      0.715      0.677      0.711      0.373\n"
     ]
    },
    {
     "name": "stderr",
     "output_type": "stream",
     "text": [
      "\n"
     ]
    },
    {
     "name": "stdout",
     "output_type": "stream",
     "text": [
      "\n",
      "      Epoch    GPU_mem   box_loss   cls_loss   dfl_loss  Instances       Size\n"
     ]
    },
    {
     "name": "stderr",
     "output_type": "stream",
     "text": [
      "     52/100      1.73G      1.422      1.269      1.943         13        640: 100%|██████████| 217/217 [00:27<00:00,  7.99it/s]\n",
      "                 Class     Images  Instances      Box(P          R      mAP50  mAP50-95): 100%|██████████| 11/11 [00:01<00:00,  8.13it/s]"
     ]
    },
    {
     "name": "stdout",
     "output_type": "stream",
     "text": [
      "                   all        101        115      0.702      0.645      0.716      0.367\n"
     ]
    },
    {
     "name": "stderr",
     "output_type": "stream",
     "text": [
      "\n"
     ]
    },
    {
     "name": "stdout",
     "output_type": "stream",
     "text": [
      "\n",
      "      Epoch    GPU_mem   box_loss   cls_loss   dfl_loss  Instances       Size\n"
     ]
    },
    {
     "name": "stderr",
     "output_type": "stream",
     "text": [
      "     53/100      1.74G       1.43      1.275      1.946          9        640: 100%|██████████| 217/217 [00:27<00:00,  7.97it/s]\n",
      "                 Class     Images  Instances      Box(P          R      mAP50  mAP50-95): 100%|██████████| 11/11 [00:01<00:00,  7.95it/s]"
     ]
    },
    {
     "name": "stdout",
     "output_type": "stream",
     "text": [
      "                   all        101        115      0.676      0.757      0.771      0.392\n"
     ]
    },
    {
     "name": "stderr",
     "output_type": "stream",
     "text": [
      "\n"
     ]
    },
    {
     "name": "stdout",
     "output_type": "stream",
     "text": [
      "\n",
      "      Epoch    GPU_mem   box_loss   cls_loss   dfl_loss  Instances       Size\n"
     ]
    },
    {
     "name": "stderr",
     "output_type": "stream",
     "text": [
      "     54/100      1.74G      1.438      1.288      1.971         13        640: 100%|██████████| 217/217 [00:27<00:00,  7.88it/s]\n",
      "                 Class     Images  Instances      Box(P          R      mAP50  mAP50-95): 100%|██████████| 11/11 [00:01<00:00,  8.36it/s]"
     ]
    },
    {
     "name": "stdout",
     "output_type": "stream",
     "text": [
      "                   all        101        115      0.677      0.728      0.749      0.364\n"
     ]
    },
    {
     "name": "stderr",
     "output_type": "stream",
     "text": [
      "\n"
     ]
    },
    {
     "name": "stdout",
     "output_type": "stream",
     "text": [
      "\n",
      "      Epoch    GPU_mem   box_loss   cls_loss   dfl_loss  Instances       Size\n"
     ]
    },
    {
     "name": "stderr",
     "output_type": "stream",
     "text": [
      "     55/100      1.74G       1.43      1.253      1.964         11        640: 100%|██████████| 217/217 [00:26<00:00,  8.17it/s]\n",
      "                 Class     Images  Instances      Box(P          R      mAP50  mAP50-95): 100%|██████████| 11/11 [00:01<00:00,  8.07it/s]"
     ]
    },
    {
     "name": "stdout",
     "output_type": "stream",
     "text": [
      "                   all        101        115      0.723      0.693      0.766      0.397\n"
     ]
    },
    {
     "name": "stderr",
     "output_type": "stream",
     "text": [
      "\n"
     ]
    },
    {
     "name": "stdout",
     "output_type": "stream",
     "text": [
      "\n",
      "      Epoch    GPU_mem   box_loss   cls_loss   dfl_loss  Instances       Size\n"
     ]
    },
    {
     "name": "stderr",
     "output_type": "stream",
     "text": [
      "     56/100      1.75G      1.394      1.239      1.917          6        640: 100%|██████████| 217/217 [00:27<00:00,  7.98it/s]\n",
      "                 Class     Images  Instances      Box(P          R      mAP50  mAP50-95): 100%|██████████| 11/11 [00:01<00:00,  8.08it/s]"
     ]
    },
    {
     "name": "stdout",
     "output_type": "stream",
     "text": [
      "                   all        101        115      0.706      0.816      0.798      0.403\n"
     ]
    },
    {
     "name": "stderr",
     "output_type": "stream",
     "text": [
      "\n"
     ]
    },
    {
     "name": "stdout",
     "output_type": "stream",
     "text": [
      "\n",
      "      Epoch    GPU_mem   box_loss   cls_loss   dfl_loss  Instances       Size\n"
     ]
    },
    {
     "name": "stderr",
     "output_type": "stream",
     "text": [
      "     57/100      1.74G       1.38      1.245      1.927          8        640: 100%|██████████| 217/217 [00:27<00:00,  7.92it/s]\n",
      "                 Class     Images  Instances      Box(P          R      mAP50  mAP50-95): 100%|██████████| 11/11 [00:01<00:00,  7.94it/s]"
     ]
    },
    {
     "name": "stdout",
     "output_type": "stream",
     "text": [
      "                   all        101        115      0.734      0.728       0.77      0.379\n"
     ]
    },
    {
     "name": "stderr",
     "output_type": "stream",
     "text": [
      "\n"
     ]
    },
    {
     "name": "stdout",
     "output_type": "stream",
     "text": [
      "\n",
      "      Epoch    GPU_mem   box_loss   cls_loss   dfl_loss  Instances       Size\n"
     ]
    },
    {
     "name": "stderr",
     "output_type": "stream",
     "text": [
      "     58/100      1.74G      1.355      1.221      1.891          4        640: 100%|██████████| 217/217 [00:27<00:00,  8.01it/s]\n",
      "                 Class     Images  Instances      Box(P          R      mAP50  mAP50-95): 100%|██████████| 11/11 [00:01<00:00,  8.46it/s]"
     ]
    },
    {
     "name": "stdout",
     "output_type": "stream",
     "text": [
      "                   all        101        115      0.745      0.683       0.75      0.391\n"
     ]
    },
    {
     "name": "stderr",
     "output_type": "stream",
     "text": [
      "\n"
     ]
    },
    {
     "name": "stdout",
     "output_type": "stream",
     "text": [
      "\n",
      "      Epoch    GPU_mem   box_loss   cls_loss   dfl_loss  Instances       Size\n"
     ]
    },
    {
     "name": "stderr",
     "output_type": "stream",
     "text": [
      "     59/100      1.74G      1.389      1.218      1.904         10        640: 100%|██████████| 217/217 [00:26<00:00,  8.12it/s]\n",
      "                 Class     Images  Instances      Box(P          R      mAP50  mAP50-95): 100%|██████████| 11/11 [00:01<00:00,  8.50it/s]"
     ]
    },
    {
     "name": "stdout",
     "output_type": "stream",
     "text": [
      "                   all        101        115      0.766      0.739      0.791      0.432\n"
     ]
    },
    {
     "name": "stderr",
     "output_type": "stream",
     "text": [
      "\n"
     ]
    },
    {
     "name": "stdout",
     "output_type": "stream",
     "text": [
      "\n",
      "      Epoch    GPU_mem   box_loss   cls_loss   dfl_loss  Instances       Size\n"
     ]
    },
    {
     "name": "stderr",
     "output_type": "stream",
     "text": [
      "     60/100      1.74G       1.39      1.181      1.927          8        640: 100%|██████████| 217/217 [00:26<00:00,  8.17it/s]\n",
      "                 Class     Images  Instances      Box(P          R      mAP50  mAP50-95): 100%|██████████| 11/11 [00:01<00:00,  8.27it/s]"
     ]
    },
    {
     "name": "stdout",
     "output_type": "stream",
     "text": [
      "                   all        101        115      0.789      0.717      0.793      0.404\n"
     ]
    },
    {
     "name": "stderr",
     "output_type": "stream",
     "text": [
      "\n"
     ]
    },
    {
     "name": "stdout",
     "output_type": "stream",
     "text": [
      "\n",
      "      Epoch    GPU_mem   box_loss   cls_loss   dfl_loss  Instances       Size\n"
     ]
    },
    {
     "name": "stderr",
     "output_type": "stream",
     "text": [
      "     61/100      1.73G      1.378      1.202      1.897         15        640: 100%|██████████| 217/217 [00:26<00:00,  8.12it/s]\n",
      "                 Class     Images  Instances      Box(P          R      mAP50  mAP50-95): 100%|██████████| 11/11 [00:01<00:00,  8.45it/s]"
     ]
    },
    {
     "name": "stdout",
     "output_type": "stream",
     "text": [
      "                   all        101        115      0.669      0.779      0.748      0.396\n"
     ]
    },
    {
     "name": "stderr",
     "output_type": "stream",
     "text": [
      "\n"
     ]
    },
    {
     "name": "stdout",
     "output_type": "stream",
     "text": [
      "\n",
      "      Epoch    GPU_mem   box_loss   cls_loss   dfl_loss  Instances       Size\n"
     ]
    },
    {
     "name": "stderr",
     "output_type": "stream",
     "text": [
      "     62/100      1.74G      1.371      1.166      1.894          7        640: 100%|██████████| 217/217 [00:27<00:00,  7.96it/s]\n",
      "                 Class     Images  Instances      Box(P          R      mAP50  mAP50-95): 100%|██████████| 11/11 [00:01<00:00,  8.11it/s]"
     ]
    },
    {
     "name": "stdout",
     "output_type": "stream",
     "text": [
      "                   all        101        115      0.786      0.732      0.783      0.396\n"
     ]
    },
    {
     "name": "stderr",
     "output_type": "stream",
     "text": [
      "\n"
     ]
    },
    {
     "name": "stdout",
     "output_type": "stream",
     "text": [
      "\n",
      "      Epoch    GPU_mem   box_loss   cls_loss   dfl_loss  Instances       Size\n"
     ]
    },
    {
     "name": "stderr",
     "output_type": "stream",
     "text": [
      "     63/100      1.73G      1.367      1.194      1.891         11        640: 100%|██████████| 217/217 [00:26<00:00,  8.20it/s]\n",
      "                 Class     Images  Instances      Box(P          R      mAP50  mAP50-95): 100%|██████████| 11/11 [00:01<00:00,  8.78it/s]"
     ]
    },
    {
     "name": "stdout",
     "output_type": "stream",
     "text": [
      "                   all        101        115       0.77      0.768      0.803       0.41\n"
     ]
    },
    {
     "name": "stderr",
     "output_type": "stream",
     "text": [
      "\n"
     ]
    },
    {
     "name": "stdout",
     "output_type": "stream",
     "text": [
      "\n",
      "      Epoch    GPU_mem   box_loss   cls_loss   dfl_loss  Instances       Size\n"
     ]
    },
    {
     "name": "stderr",
     "output_type": "stream",
     "text": [
      "     64/100      1.73G      1.349      1.158      1.877          8        640: 100%|██████████| 217/217 [00:26<00:00,  8.14it/s]\n",
      "                 Class     Images  Instances      Box(P          R      mAP50  mAP50-95): 100%|██████████| 11/11 [00:01<00:00,  8.76it/s]"
     ]
    },
    {
     "name": "stdout",
     "output_type": "stream",
     "text": [
      "                   all        101        115      0.663      0.688      0.694      0.384\n"
     ]
    },
    {
     "name": "stderr",
     "output_type": "stream",
     "text": [
      "\n"
     ]
    },
    {
     "name": "stdout",
     "output_type": "stream",
     "text": [
      "\n",
      "      Epoch    GPU_mem   box_loss   cls_loss   dfl_loss  Instances       Size\n"
     ]
    },
    {
     "name": "stderr",
     "output_type": "stream",
     "text": [
      "     65/100      1.73G       1.32      1.179      1.833         13        640: 100%|██████████| 217/217 [00:26<00:00,  8.25it/s]\n",
      "                 Class     Images  Instances      Box(P          R      mAP50  mAP50-95): 100%|██████████| 11/11 [00:01<00:00,  8.03it/s]"
     ]
    },
    {
     "name": "stdout",
     "output_type": "stream",
     "text": [
      "                   all        101        115      0.703      0.761      0.757      0.404\n"
     ]
    },
    {
     "name": "stderr",
     "output_type": "stream",
     "text": [
      "\n"
     ]
    },
    {
     "name": "stdout",
     "output_type": "stream",
     "text": [
      "\n",
      "      Epoch    GPU_mem   box_loss   cls_loss   dfl_loss  Instances       Size\n"
     ]
    },
    {
     "name": "stderr",
     "output_type": "stream",
     "text": [
      "     66/100      1.74G      1.323       1.18      1.849         12        640: 100%|██████████| 217/217 [00:27<00:00,  7.96it/s]\n",
      "                 Class     Images  Instances      Box(P          R      mAP50  mAP50-95): 100%|██████████| 11/11 [00:01<00:00,  8.18it/s]"
     ]
    },
    {
     "name": "stdout",
     "output_type": "stream",
     "text": [
      "                   all        101        115      0.753       0.69      0.729      0.371\n"
     ]
    },
    {
     "name": "stderr",
     "output_type": "stream",
     "text": [
      "\n"
     ]
    },
    {
     "name": "stdout",
     "output_type": "stream",
     "text": [
      "\n",
      "      Epoch    GPU_mem   box_loss   cls_loss   dfl_loss  Instances       Size\n"
     ]
    },
    {
     "name": "stderr",
     "output_type": "stream",
     "text": [
      "     67/100      1.73G      1.343      1.127      1.872          5        640: 100%|██████████| 217/217 [00:27<00:00,  7.99it/s]\n",
      "                 Class     Images  Instances      Box(P          R      mAP50  mAP50-95): 100%|██████████| 11/11 [00:01<00:00,  8.54it/s]"
     ]
    },
    {
     "name": "stdout",
     "output_type": "stream",
     "text": [
      "                   all        101        115      0.759        0.7      0.765      0.375\n"
     ]
    },
    {
     "name": "stderr",
     "output_type": "stream",
     "text": [
      "\n"
     ]
    },
    {
     "name": "stdout",
     "output_type": "stream",
     "text": [
      "\n",
      "      Epoch    GPU_mem   box_loss   cls_loss   dfl_loss  Instances       Size\n"
     ]
    },
    {
     "name": "stderr",
     "output_type": "stream",
     "text": [
      "     68/100      1.73G      1.358       1.14      1.853          9        640: 100%|██████████| 217/217 [00:26<00:00,  8.12it/s]\n",
      "                 Class     Images  Instances      Box(P          R      mAP50  mAP50-95): 100%|██████████| 11/11 [00:01<00:00,  8.79it/s]"
     ]
    },
    {
     "name": "stdout",
     "output_type": "stream",
     "text": [
      "                   all        101        115      0.702      0.786      0.776      0.414\n"
     ]
    },
    {
     "name": "stderr",
     "output_type": "stream",
     "text": [
      "\n"
     ]
    },
    {
     "name": "stdout",
     "output_type": "stream",
     "text": [
      "\n",
      "      Epoch    GPU_mem   box_loss   cls_loss   dfl_loss  Instances       Size\n"
     ]
    },
    {
     "name": "stderr",
     "output_type": "stream",
     "text": [
      "     69/100      1.73G      1.353       1.14      1.862          7        640: 100%|██████████| 217/217 [00:26<00:00,  8.23it/s]\n",
      "                 Class     Images  Instances      Box(P          R      mAP50  mAP50-95): 100%|██████████| 11/11 [00:01<00:00,  9.34it/s]"
     ]
    },
    {
     "name": "stdout",
     "output_type": "stream",
     "text": [
      "                   all        101        115       0.73      0.797      0.774      0.413\n"
     ]
    },
    {
     "name": "stderr",
     "output_type": "stream",
     "text": [
      "\n"
     ]
    },
    {
     "name": "stdout",
     "output_type": "stream",
     "text": [
      "\n",
      "      Epoch    GPU_mem   box_loss   cls_loss   dfl_loss  Instances       Size\n"
     ]
    },
    {
     "name": "stderr",
     "output_type": "stream",
     "text": [
      "     70/100      1.74G      1.318      1.101      1.847          8        640: 100%|██████████| 217/217 [00:26<00:00,  8.31it/s]\n",
      "                 Class     Images  Instances      Box(P          R      mAP50  mAP50-95): 100%|██████████| 11/11 [00:01<00:00,  9.15it/s]"
     ]
    },
    {
     "name": "stdout",
     "output_type": "stream",
     "text": [
      "                   all        101        115      0.801      0.678      0.799      0.415\n"
     ]
    },
    {
     "name": "stderr",
     "output_type": "stream",
     "text": [
      "\n"
     ]
    },
    {
     "name": "stdout",
     "output_type": "stream",
     "text": [
      "\n",
      "      Epoch    GPU_mem   box_loss   cls_loss   dfl_loss  Instances       Size\n"
     ]
    },
    {
     "name": "stderr",
     "output_type": "stream",
     "text": [
      "     71/100      1.74G      1.303      1.081      1.825          8        640: 100%|██████████| 217/217 [00:26<00:00,  8.28it/s]\n",
      "                 Class     Images  Instances      Box(P          R      mAP50  mAP50-95): 100%|██████████| 11/11 [00:01<00:00,  8.47it/s]"
     ]
    },
    {
     "name": "stdout",
     "output_type": "stream",
     "text": [
      "                   all        101        115      0.786      0.728      0.805      0.427\n"
     ]
    },
    {
     "name": "stderr",
     "output_type": "stream",
     "text": [
      "\n"
     ]
    },
    {
     "name": "stdout",
     "output_type": "stream",
     "text": [
      "\n",
      "      Epoch    GPU_mem   box_loss   cls_loss   dfl_loss  Instances       Size\n"
     ]
    },
    {
     "name": "stderr",
     "output_type": "stream",
     "text": [
      "     72/100      1.74G      1.308      1.104      1.834         13        640: 100%|██████████| 217/217 [00:27<00:00,  8.01it/s]\n",
      "                 Class     Images  Instances      Box(P          R      mAP50  mAP50-95): 100%|██████████| 11/11 [00:01<00:00,  8.18it/s]"
     ]
    },
    {
     "name": "stdout",
     "output_type": "stream",
     "text": [
      "                   all        101        115      0.839      0.737       0.84      0.431\n"
     ]
    },
    {
     "name": "stderr",
     "output_type": "stream",
     "text": [
      "\n"
     ]
    },
    {
     "name": "stdout",
     "output_type": "stream",
     "text": [
      "\n",
      "      Epoch    GPU_mem   box_loss   cls_loss   dfl_loss  Instances       Size\n"
     ]
    },
    {
     "name": "stderr",
     "output_type": "stream",
     "text": [
      "     73/100      1.74G      1.281      1.055      1.821         10        640: 100%|██████████| 217/217 [00:27<00:00,  7.96it/s]\n",
      "                 Class     Images  Instances      Box(P          R      mAP50  mAP50-95): 100%|██████████| 11/11 [00:01<00:00,  8.20it/s]"
     ]
    },
    {
     "name": "stdout",
     "output_type": "stream",
     "text": [
      "                   all        101        115      0.814      0.737      0.819      0.406\n"
     ]
    },
    {
     "name": "stderr",
     "output_type": "stream",
     "text": [
      "\n"
     ]
    },
    {
     "name": "stdout",
     "output_type": "stream",
     "text": [
      "\n",
      "      Epoch    GPU_mem   box_loss   cls_loss   dfl_loss  Instances       Size\n"
     ]
    },
    {
     "name": "stderr",
     "output_type": "stream",
     "text": [
      "     74/100      1.73G      1.266      1.044      1.808         10        640: 100%|██████████| 217/217 [00:27<00:00,  7.96it/s]\n",
      "                 Class     Images  Instances      Box(P          R      mAP50  mAP50-95): 100%|██████████| 11/11 [00:01<00:00,  8.10it/s]"
     ]
    },
    {
     "name": "stdout",
     "output_type": "stream",
     "text": [
      "                   all        101        115      0.772      0.797      0.774      0.401\n"
     ]
    },
    {
     "name": "stderr",
     "output_type": "stream",
     "text": [
      "\n"
     ]
    },
    {
     "name": "stdout",
     "output_type": "stream",
     "text": [
      "\n",
      "      Epoch    GPU_mem   box_loss   cls_loss   dfl_loss  Instances       Size\n"
     ]
    },
    {
     "name": "stderr",
     "output_type": "stream",
     "text": [
      "     75/100      1.73G      1.276      1.038      1.797         10        640: 100%|██████████| 217/217 [00:27<00:00,  7.92it/s]\n",
      "                 Class     Images  Instances      Box(P          R      mAP50  mAP50-95): 100%|██████████| 11/11 [00:01<00:00,  8.25it/s]"
     ]
    },
    {
     "name": "stdout",
     "output_type": "stream",
     "text": [
      "                   all        101        115      0.794      0.714      0.777      0.396\n"
     ]
    },
    {
     "name": "stderr",
     "output_type": "stream",
     "text": [
      "\n"
     ]
    },
    {
     "name": "stdout",
     "output_type": "stream",
     "text": [
      "\n",
      "      Epoch    GPU_mem   box_loss   cls_loss   dfl_loss  Instances       Size\n"
     ]
    },
    {
     "name": "stderr",
     "output_type": "stream",
     "text": [
      "     76/100      1.73G      1.273      1.065      1.786         11        640: 100%|██████████| 217/217 [00:27<00:00,  7.96it/s]\n",
      "                 Class     Images  Instances      Box(P          R      mAP50  mAP50-95): 100%|██████████| 11/11 [00:01<00:00,  8.00it/s]"
     ]
    },
    {
     "name": "stdout",
     "output_type": "stream",
     "text": [
      "                   all        101        115      0.799      0.751      0.807      0.435\n"
     ]
    },
    {
     "name": "stderr",
     "output_type": "stream",
     "text": [
      "\n"
     ]
    },
    {
     "name": "stdout",
     "output_type": "stream",
     "text": [
      "\n",
      "      Epoch    GPU_mem   box_loss   cls_loss   dfl_loss  Instances       Size\n"
     ]
    },
    {
     "name": "stderr",
     "output_type": "stream",
     "text": [
      "     77/100      1.73G      1.282       1.07        1.8          6        640: 100%|██████████| 217/217 [00:27<00:00,  7.96it/s]\n",
      "                 Class     Images  Instances      Box(P          R      mAP50  mAP50-95): 100%|██████████| 11/11 [00:01<00:00,  8.18it/s]"
     ]
    },
    {
     "name": "stdout",
     "output_type": "stream",
     "text": [
      "                   all        101        115      0.777      0.789      0.811      0.416\n"
     ]
    },
    {
     "name": "stderr",
     "output_type": "stream",
     "text": [
      "\n"
     ]
    },
    {
     "name": "stdout",
     "output_type": "stream",
     "text": [
      "\n",
      "      Epoch    GPU_mem   box_loss   cls_loss   dfl_loss  Instances       Size\n"
     ]
    },
    {
     "name": "stderr",
     "output_type": "stream",
     "text": [
      "     78/100      1.74G      1.251          1      1.768         11        640: 100%|██████████| 217/217 [00:27<00:00,  8.00it/s]\n",
      "                 Class     Images  Instances      Box(P          R      mAP50  mAP50-95): 100%|██████████| 11/11 [00:01<00:00,  8.68it/s]"
     ]
    },
    {
     "name": "stdout",
     "output_type": "stream",
     "text": [
      "                   all        101        115      0.816       0.71      0.787      0.418\n"
     ]
    },
    {
     "name": "stderr",
     "output_type": "stream",
     "text": [
      "\n"
     ]
    },
    {
     "name": "stdout",
     "output_type": "stream",
     "text": [
      "\n",
      "      Epoch    GPU_mem   box_loss   cls_loss   dfl_loss  Instances       Size\n"
     ]
    },
    {
     "name": "stderr",
     "output_type": "stream",
     "text": [
      "     79/100      1.74G      1.262      1.021      1.797          9        640: 100%|██████████| 217/217 [00:26<00:00,  8.15it/s]\n",
      "                 Class     Images  Instances      Box(P          R      mAP50  mAP50-95): 100%|██████████| 11/11 [00:01<00:00,  8.48it/s]"
     ]
    },
    {
     "name": "stdout",
     "output_type": "stream",
     "text": [
      "                   all        101        115      0.761      0.738      0.782      0.415\n"
     ]
    },
    {
     "name": "stderr",
     "output_type": "stream",
     "text": [
      "\n"
     ]
    },
    {
     "name": "stdout",
     "output_type": "stream",
     "text": [
      "\n",
      "      Epoch    GPU_mem   box_loss   cls_loss   dfl_loss  Instances       Size\n"
     ]
    },
    {
     "name": "stderr",
     "output_type": "stream",
     "text": [
      "     80/100      1.74G      1.241      1.016      1.773          9        640: 100%|██████████| 217/217 [00:26<00:00,  8.21it/s]\n",
      "                 Class     Images  Instances      Box(P          R      mAP50  mAP50-95): 100%|██████████| 11/11 [00:01<00:00,  8.37it/s]"
     ]
    },
    {
     "name": "stdout",
     "output_type": "stream",
     "text": [
      "                   all        101        115      0.704      0.791      0.782      0.428\n"
     ]
    },
    {
     "name": "stderr",
     "output_type": "stream",
     "text": [
      "\n"
     ]
    },
    {
     "name": "stdout",
     "output_type": "stream",
     "text": [
      "\n",
      "      Epoch    GPU_mem   box_loss   cls_loss   dfl_loss  Instances       Size\n"
     ]
    },
    {
     "name": "stderr",
     "output_type": "stream",
     "text": [
      "     81/100      1.74G      1.225      0.991      1.757         10        640: 100%|██████████| 217/217 [00:26<00:00,  8.11it/s]\n",
      "                 Class     Images  Instances      Box(P          R      mAP50  mAP50-95): 100%|██████████| 11/11 [00:01<00:00,  8.48it/s]"
     ]
    },
    {
     "name": "stdout",
     "output_type": "stream",
     "text": [
      "                   all        101        115      0.783      0.699      0.793      0.411\n"
     ]
    },
    {
     "name": "stderr",
     "output_type": "stream",
     "text": [
      "\n"
     ]
    },
    {
     "name": "stdout",
     "output_type": "stream",
     "text": [
      "\n",
      "      Epoch    GPU_mem   box_loss   cls_loss   dfl_loss  Instances       Size\n"
     ]
    },
    {
     "name": "stderr",
     "output_type": "stream",
     "text": [
      "     82/100      1.74G      1.225     0.9618      1.747          7        640: 100%|██████████| 217/217 [00:26<00:00,  8.11it/s]\n",
      "                 Class     Images  Instances      Box(P          R      mAP50  mAP50-95): 100%|██████████| 11/11 [00:01<00:00,  8.31it/s]"
     ]
    },
    {
     "name": "stdout",
     "output_type": "stream",
     "text": [
      "                   all        101        115      0.736      0.718      0.804      0.436\n"
     ]
    },
    {
     "name": "stderr",
     "output_type": "stream",
     "text": [
      "\n"
     ]
    },
    {
     "name": "stdout",
     "output_type": "stream",
     "text": [
      "\n",
      "      Epoch    GPU_mem   box_loss   cls_loss   dfl_loss  Instances       Size\n"
     ]
    },
    {
     "name": "stderr",
     "output_type": "stream",
     "text": [
      "     83/100      1.74G       1.22     0.9696      1.744          9        640: 100%|██████████| 217/217 [00:26<00:00,  8.12it/s]\n",
      "                 Class     Images  Instances      Box(P          R      mAP50  mAP50-95): 100%|██████████| 11/11 [00:01<00:00,  8.15it/s]"
     ]
    },
    {
     "name": "stdout",
     "output_type": "stream",
     "text": [
      "                   all        101        115      0.808      0.739        0.8      0.409\n"
     ]
    },
    {
     "name": "stderr",
     "output_type": "stream",
     "text": [
      "\n"
     ]
    },
    {
     "name": "stdout",
     "output_type": "stream",
     "text": [
      "\n",
      "      Epoch    GPU_mem   box_loss   cls_loss   dfl_loss  Instances       Size\n"
     ]
    },
    {
     "name": "stderr",
     "output_type": "stream",
     "text": [
      "     84/100      1.74G      1.223     0.9782      1.779          9        640: 100%|██████████| 217/217 [00:26<00:00,  8.13it/s]\n",
      "                 Class     Images  Instances      Box(P          R      mAP50  mAP50-95): 100%|██████████| 11/11 [00:01<00:00,  7.68it/s]"
     ]
    },
    {
     "name": "stdout",
     "output_type": "stream",
     "text": [
      "                   all        101        115      0.769      0.764      0.809      0.428\n"
     ]
    },
    {
     "name": "stderr",
     "output_type": "stream",
     "text": [
      "\n"
     ]
    },
    {
     "name": "stdout",
     "output_type": "stream",
     "text": [
      "\n",
      "      Epoch    GPU_mem   box_loss   cls_loss   dfl_loss  Instances       Size\n"
     ]
    },
    {
     "name": "stderr",
     "output_type": "stream",
     "text": [
      "     85/100      1.75G      1.197     0.9571      1.724          9        640: 100%|██████████| 217/217 [00:27<00:00,  7.92it/s]\n",
      "                 Class     Images  Instances      Box(P          R      mAP50  mAP50-95): 100%|██████████| 11/11 [00:01<00:00,  8.08it/s]"
     ]
    },
    {
     "name": "stdout",
     "output_type": "stream",
     "text": [
      "                   all        101        115      0.772      0.762      0.837      0.455\n"
     ]
    },
    {
     "name": "stderr",
     "output_type": "stream",
     "text": [
      "\n"
     ]
    },
    {
     "name": "stdout",
     "output_type": "stream",
     "text": [
      "\n",
      "      Epoch    GPU_mem   box_loss   cls_loss   dfl_loss  Instances       Size\n"
     ]
    },
    {
     "name": "stderr",
     "output_type": "stream",
     "text": [
      "     86/100      1.75G      1.218     0.9862      1.742          9        640: 100%|██████████| 217/217 [00:27<00:00,  7.95it/s]\n",
      "                 Class     Images  Instances      Box(P          R      mAP50  mAP50-95): 100%|██████████| 11/11 [00:01<00:00,  8.15it/s]"
     ]
    },
    {
     "name": "stdout",
     "output_type": "stream",
     "text": [
      "                   all        101        115      0.747      0.803      0.806      0.425\n"
     ]
    },
    {
     "name": "stderr",
     "output_type": "stream",
     "text": [
      "\n"
     ]
    },
    {
     "name": "stdout",
     "output_type": "stream",
     "text": [
      "\n",
      "      Epoch    GPU_mem   box_loss   cls_loss   dfl_loss  Instances       Size\n"
     ]
    },
    {
     "name": "stderr",
     "output_type": "stream",
     "text": [
      "     87/100      1.73G       1.19      0.955      1.727         14        640: 100%|██████████| 217/217 [00:27<00:00,  7.94it/s]\n",
      "                 Class     Images  Instances      Box(P          R      mAP50  mAP50-95): 100%|██████████| 11/11 [00:01<00:00,  8.28it/s]"
     ]
    },
    {
     "name": "stdout",
     "output_type": "stream",
     "text": [
      "                   all        101        115      0.754      0.796      0.801      0.427\n"
     ]
    },
    {
     "name": "stderr",
     "output_type": "stream",
     "text": [
      "\n"
     ]
    },
    {
     "name": "stdout",
     "output_type": "stream",
     "text": [
      "\n",
      "      Epoch    GPU_mem   box_loss   cls_loss   dfl_loss  Instances       Size\n"
     ]
    },
    {
     "name": "stderr",
     "output_type": "stream",
     "text": [
      "     88/100      1.73G      1.188     0.9285      1.697          7        640: 100%|██████████| 217/217 [00:27<00:00,  7.93it/s]\n",
      "                 Class     Images  Instances      Box(P          R      mAP50  mAP50-95): 100%|██████████| 11/11 [00:01<00:00,  8.48it/s]"
     ]
    },
    {
     "name": "stdout",
     "output_type": "stream",
     "text": [
      "                   all        101        115      0.761      0.764      0.801      0.443\n"
     ]
    },
    {
     "name": "stderr",
     "output_type": "stream",
     "text": [
      "\n"
     ]
    },
    {
     "name": "stdout",
     "output_type": "stream",
     "text": [
      "\n",
      "      Epoch    GPU_mem   box_loss   cls_loss   dfl_loss  Instances       Size\n"
     ]
    },
    {
     "name": "stderr",
     "output_type": "stream",
     "text": [
      "     89/100      1.73G      1.186     0.9385      1.711          9        640: 100%|██████████| 217/217 [00:27<00:00,  7.98it/s]\n",
      "                 Class     Images  Instances      Box(P          R      mAP50  mAP50-95): 100%|██████████| 11/11 [00:01<00:00,  8.26it/s]"
     ]
    },
    {
     "name": "stdout",
     "output_type": "stream",
     "text": [
      "                   all        101        115      0.821      0.754      0.831      0.438\n"
     ]
    },
    {
     "name": "stderr",
     "output_type": "stream",
     "text": [
      "\n"
     ]
    },
    {
     "name": "stdout",
     "output_type": "stream",
     "text": [
      "\n",
      "      Epoch    GPU_mem   box_loss   cls_loss   dfl_loss  Instances       Size\n"
     ]
    },
    {
     "name": "stderr",
     "output_type": "stream",
     "text": [
      "     90/100      1.73G       1.16     0.8965      1.705         11        640: 100%|██████████| 217/217 [00:27<00:00,  7.96it/s]\n",
      "                 Class     Images  Instances      Box(P          R      mAP50  mAP50-95): 100%|██████████| 11/11 [00:01<00:00,  8.12it/s]"
     ]
    },
    {
     "name": "stdout",
     "output_type": "stream",
     "text": [
      "                   all        101        115      0.821      0.738      0.827      0.436\n"
     ]
    },
    {
     "name": "stderr",
     "output_type": "stream",
     "text": [
      "\n"
     ]
    },
    {
     "name": "stdout",
     "output_type": "stream",
     "text": [
      "Closing dataloader mosaic\n",
      "\n",
      "      Epoch    GPU_mem   box_loss   cls_loss   dfl_loss  Instances       Size\n"
     ]
    },
    {
     "name": "stderr",
     "output_type": "stream",
     "text": [
      "     91/100      1.74G      1.069     0.6936      1.665          6        640: 100%|██████████| 217/217 [00:27<00:00,  7.91it/s]\n",
      "                 Class     Images  Instances      Box(P          R      mAP50  mAP50-95): 100%|██████████| 11/11 [00:01<00:00,  7.89it/s]"
     ]
    },
    {
     "name": "stdout",
     "output_type": "stream",
     "text": [
      "                   all        101        115      0.832      0.721      0.824      0.454\n"
     ]
    },
    {
     "name": "stderr",
     "output_type": "stream",
     "text": [
      "\n"
     ]
    },
    {
     "name": "stdout",
     "output_type": "stream",
     "text": [
      "\n",
      "      Epoch    GPU_mem   box_loss   cls_loss   dfl_loss  Instances       Size\n"
     ]
    },
    {
     "name": "stderr",
     "output_type": "stream",
     "text": [
      "     92/100      1.74G      1.018     0.6607      1.632          5        640: 100%|██████████| 217/217 [00:27<00:00,  7.91it/s]\n",
      "                 Class     Images  Instances      Box(P          R      mAP50  mAP50-95): 100%|██████████| 11/11 [00:01<00:00,  8.24it/s]"
     ]
    },
    {
     "name": "stdout",
     "output_type": "stream",
     "text": [
      "                   all        101        115       0.75      0.844      0.842      0.429\n"
     ]
    },
    {
     "name": "stderr",
     "output_type": "stream",
     "text": [
      "\n"
     ]
    },
    {
     "name": "stdout",
     "output_type": "stream",
     "text": [
      "\n",
      "      Epoch    GPU_mem   box_loss   cls_loss   dfl_loss  Instances       Size\n"
     ]
    },
    {
     "name": "stderr",
     "output_type": "stream",
     "text": [
      "     93/100      1.74G      1.038     0.6571      1.637          5        640: 100%|██████████| 217/217 [00:27<00:00,  7.99it/s]\n",
      "                 Class     Images  Instances      Box(P          R      mAP50  mAP50-95): 100%|██████████| 11/11 [00:01<00:00,  8.01it/s]"
     ]
    },
    {
     "name": "stdout",
     "output_type": "stream",
     "text": [
      "                   all        101        115       0.79      0.739       0.81      0.436\n"
     ]
    },
    {
     "name": "stderr",
     "output_type": "stream",
     "text": [
      "\n"
     ]
    },
    {
     "name": "stdout",
     "output_type": "stream",
     "text": [
      "\n",
      "      Epoch    GPU_mem   box_loss   cls_loss   dfl_loss  Instances       Size\n"
     ]
    },
    {
     "name": "stderr",
     "output_type": "stream",
     "text": [
      "     94/100      1.74G      1.006     0.6442      1.624          5        640: 100%|██████████| 217/217 [00:27<00:00,  7.96it/s]\n",
      "                 Class     Images  Instances      Box(P          R      mAP50  mAP50-95): 100%|██████████| 11/11 [00:01<00:00,  8.04it/s]"
     ]
    },
    {
     "name": "stdout",
     "output_type": "stream",
     "text": [
      "                   all        101        115      0.781      0.765      0.807      0.443\n"
     ]
    },
    {
     "name": "stderr",
     "output_type": "stream",
     "text": [
      "\n"
     ]
    },
    {
     "name": "stdout",
     "output_type": "stream",
     "text": [
      "\n",
      "      Epoch    GPU_mem   box_loss   cls_loss   dfl_loss  Instances       Size\n"
     ]
    },
    {
     "name": "stderr",
     "output_type": "stream",
     "text": [
      "     95/100      1.74G      1.003     0.6393      1.612          5        640: 100%|██████████| 217/217 [00:27<00:00,  7.99it/s]\n",
      "                 Class     Images  Instances      Box(P          R      mAP50  mAP50-95): 100%|██████████| 11/11 [00:01<00:00,  7.93it/s]"
     ]
    },
    {
     "name": "stdout",
     "output_type": "stream",
     "text": [
      "                   all        101        115      0.727      0.894      0.844       0.45\n"
     ]
    },
    {
     "name": "stderr",
     "output_type": "stream",
     "text": [
      "\n"
     ]
    },
    {
     "name": "stdout",
     "output_type": "stream",
     "text": [
      "\n",
      "      Epoch    GPU_mem   box_loss   cls_loss   dfl_loss  Instances       Size\n"
     ]
    },
    {
     "name": "stderr",
     "output_type": "stream",
     "text": [
      "     96/100      1.73G      1.001     0.6351      1.612          5        640: 100%|██████████| 217/217 [00:27<00:00,  7.97it/s]\n",
      "                 Class     Images  Instances      Box(P          R      mAP50  mAP50-95): 100%|██████████| 11/11 [00:01<00:00,  8.18it/s]"
     ]
    },
    {
     "name": "stdout",
     "output_type": "stream",
     "text": [
      "                   all        101        115       0.76      0.818      0.823      0.448\n"
     ]
    },
    {
     "name": "stderr",
     "output_type": "stream",
     "text": [
      "\n"
     ]
    },
    {
     "name": "stdout",
     "output_type": "stream",
     "text": [
      "\n",
      "      Epoch    GPU_mem   box_loss   cls_loss   dfl_loss  Instances       Size\n"
     ]
    },
    {
     "name": "stderr",
     "output_type": "stream",
     "text": [
      "     97/100      1.73G     0.9841      0.628      1.583          6        640: 100%|██████████| 217/217 [00:27<00:00,  7.97it/s]\n",
      "                 Class     Images  Instances      Box(P          R      mAP50  mAP50-95): 100%|██████████| 11/11 [00:01<00:00,  8.22it/s]"
     ]
    },
    {
     "name": "stdout",
     "output_type": "stream",
     "text": [
      "                   all        101        115      0.727      0.812      0.826      0.446\n"
     ]
    },
    {
     "name": "stderr",
     "output_type": "stream",
     "text": [
      "\n"
     ]
    },
    {
     "name": "stdout",
     "output_type": "stream",
     "text": [
      "\n",
      "      Epoch    GPU_mem   box_loss   cls_loss   dfl_loss  Instances       Size\n"
     ]
    },
    {
     "name": "stderr",
     "output_type": "stream",
     "text": [
      "     98/100      1.74G     0.9652     0.6035      1.573          5        640: 100%|██████████| 217/217 [00:27<00:00,  7.95it/s]\n",
      "                 Class     Images  Instances      Box(P          R      mAP50  mAP50-95): 100%|██████████| 11/11 [00:01<00:00, 10.83it/s]"
     ]
    },
    {
     "name": "stdout",
     "output_type": "stream",
     "text": [
      "                   all        101        115      0.774      0.784       0.84      0.453\n"
     ]
    },
    {
     "name": "stderr",
     "output_type": "stream",
     "text": [
      "\n"
     ]
    },
    {
     "name": "stdout",
     "output_type": "stream",
     "text": [
      "\n",
      "      Epoch    GPU_mem   box_loss   cls_loss   dfl_loss  Instances       Size\n"
     ]
    },
    {
     "name": "stderr",
     "output_type": "stream",
     "text": [
      "     99/100      1.74G      0.948     0.6124      1.571          5        640: 100%|██████████| 217/217 [00:26<00:00,  8.15it/s]\n",
      "                 Class     Images  Instances      Box(P          R      mAP50  mAP50-95): 100%|██████████| 11/11 [00:01<00:00,  8.14it/s]"
     ]
    },
    {
     "name": "stdout",
     "output_type": "stream",
     "text": [
      "                   all        101        115      0.696      0.834      0.823      0.449\n"
     ]
    },
    {
     "name": "stderr",
     "output_type": "stream",
     "text": [
      "\n"
     ]
    },
    {
     "name": "stdout",
     "output_type": "stream",
     "text": [
      "\n",
      "      Epoch    GPU_mem   box_loss   cls_loss   dfl_loss  Instances       Size\n"
     ]
    },
    {
     "name": "stderr",
     "output_type": "stream",
     "text": [
      "    100/100      1.73G     0.9499     0.6044      1.563          6        640: 100%|██████████| 217/217 [00:27<00:00,  7.95it/s]\n",
      "                 Class     Images  Instances      Box(P          R      mAP50  mAP50-95): 100%|██████████| 11/11 [00:01<00:00,  8.07it/s]"
     ]
    },
    {
     "name": "stdout",
     "output_type": "stream",
     "text": [
      "                   all        101        115      0.741      0.833      0.835      0.453\n"
     ]
    },
    {
     "name": "stderr",
     "output_type": "stream",
     "text": [
      "\n"
     ]
    },
    {
     "name": "stdout",
     "output_type": "stream",
     "text": [
      "\n",
      "100 epochs completed in 0.804 hours.\n",
      "Optimizer stripped from runs\\detect\\train6\\weights\\last.pt, 22.5MB\n",
      "Optimizer stripped from runs\\detect\\train6\\weights\\best.pt, 22.5MB\n",
      "\n",
      "Validating runs\\detect\\train6\\weights\\best.pt...\n",
      "Ultralytics YOLOv8.0.232 🚀 Python-3.11.4 torch-2.1.1+cu118 CUDA:0 (NVIDIA GeForce RTX 3050 Laptop GPU, 4096MiB)\n",
      "YOLOv8s summary (fused): 168 layers, 11126358 parameters, 0 gradients, 28.4 GFLOPs\n"
     ]
    },
    {
     "name": "stderr",
     "output_type": "stream",
     "text": [
      "                 Class     Images  Instances      Box(P          R      mAP50  mAP50-95): 100%|██████████| 11/11 [00:01<00:00,  7.81it/s]\n"
     ]
    },
    {
     "name": "stdout",
     "output_type": "stream",
     "text": [
      "                   all        101        115      0.771       0.76      0.837      0.455\n",
      "                 awake        101         46       0.82      0.804      0.862      0.491\n",
      "                drowsy        101         69      0.722      0.716      0.812      0.419\n",
      "Speed: 0.3ms preprocess, 6.1ms inference, 0.0ms loss, 1.1ms postprocess per image\n",
      "Results saved to \u001b[1mruns\\detect\\train6\u001b[0m\n"
     ]
    }
   ],
   "source": [
    "results = model.train(data=\"./dataset/data.yaml\", epochs = 100, device=0, workers = 4, batch = 5)"
   ]
  },
  {
   "cell_type": "code",
   "execution_count": 2,
   "metadata": {},
   "outputs": [],
   "source": [
    "prediction = YOLO(\"./runs/detect/train6/weights/drowsy.pt\")"
   ]
  },
  {
   "cell_type": "code",
   "execution_count": 4,
   "metadata": {},
   "outputs": [
    {
     "name": "stdout",
     "output_type": "stream",
     "text": [
      "\n",
      "image 1/1 c:\\Users\\leduc\\OneDrive\\Desktop\\car_ai\\drowsy_driver\\test_1.jpg: 352x640 1 drowsy, 111.0ms\n",
      "Speed: 2.0ms preprocess, 111.0ms inference, 2.0ms postprocess per image at shape (1, 3, 352, 640)\n"
     ]
    }
   ],
   "source": [
    "results = prediction(source='./test_1.jpg')"
   ]
  },
  {
   "cell_type": "code",
   "execution_count": 37,
   "metadata": {},
   "outputs": [
    {
     "data": {
      "image/jpeg": "[encoded data removed]",
      "image/png": "[encoded data removed]",
      "text/plain": [
       "<PIL.Image.Image image mode=RGB size=306x164>"
      ]
     },
     "metadata": {},
     "output_type": "display_data"
    }
   ],
   "source": [
    "from PIL import Image \n",
    "import numpy as np\n",
    "img = np.array(results[0].plot())\n",
    "img = Image.fromarray(img)\n",
    "display(img)\n"
   ]
  },
  {
   "cell_type": "code",
   "execution_count": 4,
   "metadata": {},
   "outputs": [
    {
     "name": "stdout",
     "output_type": "stream",
     "text": [
      "\n",
      "\n",
      "WARNING ⚠️ inference results will accumulate in RAM unless `stream=True` is passed, causing potential out-of-memory\n",
      "errors for large sources or long-running streams and videos. See https://docs.ultralytics.com/modes/predict/ for help.\n",
      "\n",
      "Example:\n",
      "    results = model(source=..., stream=True)  # generator of Results objects\n",
      "    for r in results:\n",
      "        boxes = r.boxes  # Boxes object for bbox outputs\n",
      "        masks = r.masks  # Masks object for segment masks outputs\n",
      "        probs = r.probs  # Class probabilities for classification outputs\n",
      "\n",
      "video 1/1 (1/1201) c:\\Users\\leduc\\OneDrive\\Desktop\\car_ai\\drowsy_driver\\test_video4.mp4: 384x640 1 awake, 1 drowsy, 83.7ms\n",
      "video 1/1 (2/1201) c:\\Users\\leduc\\OneDrive\\Desktop\\car_ai\\drowsy_driver\\test_video4.mp4: 384x640 1 awake, 1 drowsy, 83.5ms\n",
      "video 1/1 (3/1201) c:\\Users\\leduc\\OneDrive\\Desktop\\car_ai\\drowsy_driver\\test_video4.mp4: 384x640 1 awake, 1 drowsy, 83.0ms\n",
      "video 1/1 (4/1201) c:\\Users\\leduc\\OneDrive\\Desktop\\car_ai\\drowsy_driver\\test_video4.mp4: 384x640 1 awake, 1 drowsy, 84.2ms\n",
      "video 1/1 (5/1201) c:\\Users\\leduc\\OneDrive\\Desktop\\car_ai\\drowsy_driver\\test_video4.mp4: 384x640 1 awake, 1 drowsy, 25.9ms\n",
      "video 1/1 (6/1201) c:\\Users\\leduc\\OneDrive\\Desktop\\car_ai\\drowsy_driver\\test_video4.mp4: 384x640 1 awake, 1 drowsy, 8.0ms\n",
      "video 1/1 (7/1201) c:\\Users\\leduc\\OneDrive\\Desktop\\car_ai\\drowsy_driver\\test_video4.mp4: 384x640 1 awake, 1 drowsy, 9.0ms\n",
      "video 1/1 (8/1201) c:\\Users\\leduc\\OneDrive\\Desktop\\car_ai\\drowsy_driver\\test_video4.mp4: 384x640 1 awake, 1 drowsy, 8.0ms\n",
      "video 1/1 (9/1201) c:\\Users\\leduc\\OneDrive\\Desktop\\car_ai\\drowsy_driver\\test_video4.mp4: 384x640 1 awake, 1 drowsy, 9.0ms\n",
      "video 1/1 (10/1201) c:\\Users\\leduc\\OneDrive\\Desktop\\car_ai\\drowsy_driver\\test_video4.mp4: 384x640 1 awake, 1 drowsy, 8.0ms\n",
      "video 1/1 (11/1201) c:\\Users\\leduc\\OneDrive\\Desktop\\car_ai\\drowsy_driver\\test_video4.mp4: 384x640 1 awake, 1 drowsy, 8.0ms\n",
      "video 1/1 (12/1201) c:\\Users\\leduc\\OneDrive\\Desktop\\car_ai\\drowsy_driver\\test_video4.mp4: 384x640 1 drowsy, 8.5ms\n",
      "video 1/1 (13/1201) c:\\Users\\leduc\\OneDrive\\Desktop\\car_ai\\drowsy_driver\\test_video4.mp4: 384x640 1 awake, 1 drowsy, 8.6ms\n",
      "video 1/1 (14/1201) c:\\Users\\leduc\\OneDrive\\Desktop\\car_ai\\drowsy_driver\\test_video4.mp4: 384x640 1 awake, 1 drowsy, 8.0ms\n",
      "video 1/1 (15/1201) c:\\Users\\leduc\\OneDrive\\Desktop\\car_ai\\drowsy_driver\\test_video4.mp4: 384x640 1 awake, 1 drowsy, 8.0ms\n",
      "video 1/1 (16/1201) c:\\Users\\leduc\\OneDrive\\Desktop\\car_ai\\drowsy_driver\\test_video4.mp4: 384x640 1 awake, 1 drowsy, 8.0ms\n",
      "video 1/1 (17/1201) c:\\Users\\leduc\\OneDrive\\Desktop\\car_ai\\drowsy_driver\\test_video4.mp4: 384x640 1 awake, 1 drowsy, 7.0ms\n",
      "video 1/1 (18/1201) c:\\Users\\leduc\\OneDrive\\Desktop\\car_ai\\drowsy_driver\\test_video4.mp4: 384x640 1 awake, 1 drowsy, 8.0ms\n",
      "video 1/1 (19/1201) c:\\Users\\leduc\\OneDrive\\Desktop\\car_ai\\drowsy_driver\\test_video4.mp4: 384x640 1 awake, 1 drowsy, 7.0ms\n",
      "video 1/1 (20/1201) c:\\Users\\leduc\\OneDrive\\Desktop\\car_ai\\drowsy_driver\\test_video4.mp4: 384x640 1 awake, 1 drowsy, 7.0ms\n",
      "video 1/1 (21/1201) c:\\Users\\leduc\\OneDrive\\Desktop\\car_ai\\drowsy_driver\\test_video4.mp4: 384x640 1 awake, 1 drowsy, 7.3ms\n",
      "video 1/1 (22/1201) c:\\Users\\leduc\\OneDrive\\Desktop\\car_ai\\drowsy_driver\\test_video4.mp4: 384x640 1 awake, 1 drowsy, 7.0ms\n",
      "video 1/1 (23/1201) c:\\Users\\leduc\\OneDrive\\Desktop\\car_ai\\drowsy_driver\\test_video4.mp4: 384x640 1 awake, 1 drowsy, 7.3ms\n",
      "video 1/1 (24/1201) c:\\Users\\leduc\\OneDrive\\Desktop\\car_ai\\drowsy_driver\\test_video4.mp4: 384x640 1 awake, 1 drowsy, 7.1ms\n",
      "video 1/1 (25/1201) c:\\Users\\leduc\\OneDrive\\Desktop\\car_ai\\drowsy_driver\\test_video4.mp4: 384x640 1 awake, 1 drowsy, 7.7ms\n",
      "video 1/1 (26/1201) c:\\Users\\leduc\\OneDrive\\Desktop\\car_ai\\drowsy_driver\\test_video4.mp4: 384x640 1 awake, 1 drowsy, 7.0ms\n",
      "video 1/1 (27/1201) c:\\Users\\leduc\\OneDrive\\Desktop\\car_ai\\drowsy_driver\\test_video4.mp4: 384x640 1 awake, 1 drowsy, 7.0ms\n",
      "video 1/1 (28/1201) c:\\Users\\leduc\\OneDrive\\Desktop\\car_ai\\drowsy_driver\\test_video4.mp4: 384x640 1 awake, 1 drowsy, 7.6ms\n",
      "video 1/1 (29/1201) c:\\Users\\leduc\\OneDrive\\Desktop\\car_ai\\drowsy_driver\\test_video4.mp4: 384x640 1 awake, 1 drowsy, 7.0ms\n",
      "video 1/1 (30/1201) c:\\Users\\leduc\\OneDrive\\Desktop\\car_ai\\drowsy_driver\\test_video4.mp4: 384x640 1 awake, 1 drowsy, 7.0ms\n",
      "video 1/1 (31/1201) c:\\Users\\leduc\\OneDrive\\Desktop\\car_ai\\drowsy_driver\\test_video4.mp4: 384x640 1 awake, 1 drowsy, 6.6ms\n",
      "video 1/1 (32/1201) c:\\Users\\leduc\\OneDrive\\Desktop\\car_ai\\drowsy_driver\\test_video4.mp4: 384x640 1 awake, 1 drowsy, 6.5ms\n",
      "video 1/1 (33/1201) c:\\Users\\leduc\\OneDrive\\Desktop\\car_ai\\drowsy_driver\\test_video4.mp4: 384x640 1 awake, 1 drowsy, 8.0ms\n",
      "video 1/1 (34/1201) c:\\Users\\leduc\\OneDrive\\Desktop\\car_ai\\drowsy_driver\\test_video4.mp4: 384x640 1 awake, 1 drowsy, 7.0ms\n",
      "video 1/1 (35/1201) c:\\Users\\leduc\\OneDrive\\Desktop\\car_ai\\drowsy_driver\\test_video4.mp4: 384x640 1 awake, 1 drowsy, 7.0ms\n",
      "video 1/1 (36/1201) c:\\Users\\leduc\\OneDrive\\Desktop\\car_ai\\drowsy_driver\\test_video4.mp4: 384x640 1 awake, 1 drowsy, 9.0ms\n",
      "video 1/1 (37/1201) c:\\Users\\leduc\\OneDrive\\Desktop\\car_ai\\drowsy_driver\\test_video4.mp4: 384x640 1 awake, 1 drowsy, 8.0ms\n",
      "video 1/1 (38/1201) c:\\Users\\leduc\\OneDrive\\Desktop\\car_ai\\drowsy_driver\\test_video4.mp4: 384x640 1 awake, 1 drowsy, 7.0ms\n",
      "video 1/1 (39/1201) c:\\Users\\leduc\\OneDrive\\Desktop\\car_ai\\drowsy_driver\\test_video4.mp4: 384x640 1 awake, 1 drowsy, 7.1ms\n",
      "video 1/1 (40/1201) c:\\Users\\leduc\\OneDrive\\Desktop\\car_ai\\drowsy_driver\\test_video4.mp4: 384x640 1 awake, 1 drowsy, 7.0ms\n",
      "video 1/1 (41/1201) c:\\Users\\leduc\\OneDrive\\Desktop\\car_ai\\drowsy_driver\\test_video4.mp4: 384x640 1 awake, 1 drowsy, 7.0ms\n",
      "video 1/1 (42/1201) c:\\Users\\leduc\\OneDrive\\Desktop\\car_ai\\drowsy_driver\\test_video4.mp4: 384x640 1 awake, 1 drowsy, 7.0ms\n",
      "video 1/1 (43/1201) c:\\Users\\leduc\\OneDrive\\Desktop\\car_ai\\drowsy_driver\\test_video4.mp4: 384x640 2 awakes, 1 drowsy, 7.0ms\n",
      "video 1/1 (44/1201) c:\\Users\\leduc\\OneDrive\\Desktop\\car_ai\\drowsy_driver\\test_video4.mp4: 384x640 1 awake, 1 drowsy, 7.5ms\n",
      "video 1/1 (45/1201) c:\\Users\\leduc\\OneDrive\\Desktop\\car_ai\\drowsy_driver\\test_video4.mp4: 384x640 2 awakes, 1 drowsy, 7.0ms\n",
      "video 1/1 (46/1201) c:\\Users\\leduc\\OneDrive\\Desktop\\car_ai\\drowsy_driver\\test_video4.mp4: 384x640 2 awakes, 1 drowsy, 7.5ms\n",
      "video 1/1 (47/1201) c:\\Users\\leduc\\OneDrive\\Desktop\\car_ai\\drowsy_driver\\test_video4.mp4: 384x640 2 awakes, 1 drowsy, 7.0ms\n",
      "video 1/1 (48/1201) c:\\Users\\leduc\\OneDrive\\Desktop\\car_ai\\drowsy_driver\\test_video4.mp4: 384x640 1 awake, 1 drowsy, 8.0ms\n",
      "video 1/1 (49/1201) c:\\Users\\leduc\\OneDrive\\Desktop\\car_ai\\drowsy_driver\\test_video4.mp4: 384x640 1 awake, 1 drowsy, 8.0ms\n",
      "video 1/1 (50/1201) c:\\Users\\leduc\\OneDrive\\Desktop\\car_ai\\drowsy_driver\\test_video4.mp4: 384x640 2 awakes, 1 drowsy, 6.5ms\n",
      "video 1/1 (51/1201) c:\\Users\\leduc\\OneDrive\\Desktop\\car_ai\\drowsy_driver\\test_video4.mp4: 384x640 2 awakes, 1 drowsy, 7.0ms\n",
      "video 1/1 (52/1201) c:\\Users\\leduc\\OneDrive\\Desktop\\car_ai\\drowsy_driver\\test_video4.mp4: 384x640 1 awake, 1 drowsy, 8.0ms\n",
      "video 1/1 (53/1201) c:\\Users\\leduc\\OneDrive\\Desktop\\car_ai\\drowsy_driver\\test_video4.mp4: 384x640 1 awake, 1 drowsy, 6.7ms\n",
      "video 1/1 (54/1201) c:\\Users\\leduc\\OneDrive\\Desktop\\car_ai\\drowsy_driver\\test_video4.mp4: 384x640 2 awakes, 1 drowsy, 7.0ms\n",
      "video 1/1 (55/1201) c:\\Users\\leduc\\OneDrive\\Desktop\\car_ai\\drowsy_driver\\test_video4.mp4: 384x640 2 awakes, 1 drowsy, 8.0ms\n",
      "video 1/1 (56/1201) c:\\Users\\leduc\\OneDrive\\Desktop\\car_ai\\drowsy_driver\\test_video4.mp4: 384x640 2 awakes, 1 drowsy, 8.0ms\n",
      "video 1/1 (57/1201) c:\\Users\\leduc\\OneDrive\\Desktop\\car_ai\\drowsy_driver\\test_video4.mp4: 384x640 1 awake, 1 drowsy, 7.0ms\n",
      "video 1/1 (58/1201) c:\\Users\\leduc\\OneDrive\\Desktop\\car_ai\\drowsy_driver\\test_video4.mp4: 384x640 1 awake, 1 drowsy, 7.0ms\n",
      "video 1/1 (59/1201) c:\\Users\\leduc\\OneDrive\\Desktop\\car_ai\\drowsy_driver\\test_video4.mp4: 384x640 1 drowsy, 8.0ms\n",
      "video 1/1 (60/1201) c:\\Users\\leduc\\OneDrive\\Desktop\\car_ai\\drowsy_driver\\test_video4.mp4: 384x640 1 drowsy, 7.0ms\n",
      "video 1/1 (61/1201) c:\\Users\\leduc\\OneDrive\\Desktop\\car_ai\\drowsy_driver\\test_video4.mp4: 384x640 1 drowsy, 7.0ms\n",
      "video 1/1 (62/1201) c:\\Users\\leduc\\OneDrive\\Desktop\\car_ai\\drowsy_driver\\test_video4.mp4: 384x640 1 drowsy, 7.0ms\n",
      "video 1/1 (63/1201) c:\\Users\\leduc\\OneDrive\\Desktop\\car_ai\\drowsy_driver\\test_video4.mp4: 384x640 1 drowsy, 11.1ms\n",
      "video 1/1 (64/1201) c:\\Users\\leduc\\OneDrive\\Desktop\\car_ai\\drowsy_driver\\test_video4.mp4: 384x640 1 drowsy, 7.0ms\n",
      "video 1/1 (65/1201) c:\\Users\\leduc\\OneDrive\\Desktop\\car_ai\\drowsy_driver\\test_video4.mp4: 384x640 1 drowsy, 7.0ms\n",
      "video 1/1 (66/1201) c:\\Users\\leduc\\OneDrive\\Desktop\\car_ai\\drowsy_driver\\test_video4.mp4: 384x640 1 drowsy, 7.5ms\n",
      "video 1/1 (67/1201) c:\\Users\\leduc\\OneDrive\\Desktop\\car_ai\\drowsy_driver\\test_video4.mp4: 384x640 1 drowsy, 7.0ms\n",
      "video 1/1 (68/1201) c:\\Users\\leduc\\OneDrive\\Desktop\\car_ai\\drowsy_driver\\test_video4.mp4: 384x640 1 drowsy, 7.0ms\n",
      "video 1/1 (69/1201) c:\\Users\\leduc\\OneDrive\\Desktop\\car_ai\\drowsy_driver\\test_video4.mp4: 384x640 1 awake, 1 drowsy, 8.0ms\n",
      "video 1/1 (70/1201) c:\\Users\\leduc\\OneDrive\\Desktop\\car_ai\\drowsy_driver\\test_video4.mp4: 384x640 1 awake, 2 drowsys, 7.0ms\n",
      "video 1/1 (71/1201) c:\\Users\\leduc\\OneDrive\\Desktop\\car_ai\\drowsy_driver\\test_video4.mp4: 384x640 1 awake, 1 drowsy, 8.0ms\n",
      "video 1/1 (72/1201) c:\\Users\\leduc\\OneDrive\\Desktop\\car_ai\\drowsy_driver\\test_video4.mp4: 384x640 1 awake, 1 drowsy, 7.1ms\n",
      "video 1/1 (73/1201) c:\\Users\\leduc\\OneDrive\\Desktop\\car_ai\\drowsy_driver\\test_video4.mp4: 384x640 1 awake, 1 drowsy, 9.0ms\n",
      "video 1/1 (74/1201) c:\\Users\\leduc\\OneDrive\\Desktop\\car_ai\\drowsy_driver\\test_video4.mp4: 384x640 1 awake, 1 drowsy, 8.0ms\n",
      "video 1/1 (75/1201) c:\\Users\\leduc\\OneDrive\\Desktop\\car_ai\\drowsy_driver\\test_video4.mp4: 384x640 1 awake, 1 drowsy, 7.0ms\n",
      "video 1/1 (76/1201) c:\\Users\\leduc\\OneDrive\\Desktop\\car_ai\\drowsy_driver\\test_video4.mp4: 384x640 1 awake, 1 drowsy, 7.0ms\n",
      "video 1/1 (77/1201) c:\\Users\\leduc\\OneDrive\\Desktop\\car_ai\\drowsy_driver\\test_video4.mp4: 384x640 1 awake, 1 drowsy, 7.4ms\n",
      "video 1/1 (78/1201) c:\\Users\\leduc\\OneDrive\\Desktop\\car_ai\\drowsy_driver\\test_video4.mp4: 384x640 1 awake, 1 drowsy, 7.0ms\n",
      "video 1/1 (79/1201) c:\\Users\\leduc\\OneDrive\\Desktop\\car_ai\\drowsy_driver\\test_video4.mp4: 384x640 1 awake, 1 drowsy, 7.0ms\n",
      "video 1/1 (80/1201) c:\\Users\\leduc\\OneDrive\\Desktop\\car_ai\\drowsy_driver\\test_video4.mp4: 384x640 1 awake, 1 drowsy, 7.0ms\n",
      "video 1/1 (81/1201) c:\\Users\\leduc\\OneDrive\\Desktop\\car_ai\\drowsy_driver\\test_video4.mp4: 384x640 1 awake, 1 drowsy, 7.0ms\n",
      "video 1/1 (82/1201) c:\\Users\\leduc\\OneDrive\\Desktop\\car_ai\\drowsy_driver\\test_video4.mp4: 384x640 1 awake, 1 drowsy, 8.0ms\n",
      "video 1/1 (83/1201) c:\\Users\\leduc\\OneDrive\\Desktop\\car_ai\\drowsy_driver\\test_video4.mp4: 384x640 1 awake, 1 drowsy, 7.0ms\n",
      "video 1/1 (84/1201) c:\\Users\\leduc\\OneDrive\\Desktop\\car_ai\\drowsy_driver\\test_video4.mp4: 384x640 2 drowsys, 7.0ms\n",
      "video 1/1 (85/1201) c:\\Users\\leduc\\OneDrive\\Desktop\\car_ai\\drowsy_driver\\test_video4.mp4: 384x640 1 drowsy, 6.4ms\n",
      "video 1/1 (86/1201) c:\\Users\\leduc\\OneDrive\\Desktop\\car_ai\\drowsy_driver\\test_video4.mp4: 384x640 1 drowsy, 7.5ms\n",
      "video 1/1 (87/1201) c:\\Users\\leduc\\OneDrive\\Desktop\\car_ai\\drowsy_driver\\test_video4.mp4: 384x640 1 drowsy, 7.0ms\n",
      "video 1/1 (88/1201) c:\\Users\\leduc\\OneDrive\\Desktop\\car_ai\\drowsy_driver\\test_video4.mp4: 384x640 1 drowsy, 7.0ms\n",
      "video 1/1 (89/1201) c:\\Users\\leduc\\OneDrive\\Desktop\\car_ai\\drowsy_driver\\test_video4.mp4: 384x640 1 drowsy, 7.0ms\n",
      "video 1/1 (90/1201) c:\\Users\\leduc\\OneDrive\\Desktop\\car_ai\\drowsy_driver\\test_video4.mp4: 384x640 1 drowsy, 7.5ms\n",
      "video 1/1 (91/1201) c:\\Users\\leduc\\OneDrive\\Desktop\\car_ai\\drowsy_driver\\test_video4.mp4: 384x640 1 drowsy, 8.0ms\n",
      "video 1/1 (92/1201) c:\\Users\\leduc\\OneDrive\\Desktop\\car_ai\\drowsy_driver\\test_video4.mp4: 384x640 1 drowsy, 9.0ms\n",
      "video 1/1 (93/1201) c:\\Users\\leduc\\OneDrive\\Desktop\\car_ai\\drowsy_driver\\test_video4.mp4: 384x640 1 drowsy, 7.5ms\n",
      "video 1/1 (94/1201) c:\\Users\\leduc\\OneDrive\\Desktop\\car_ai\\drowsy_driver\\test_video4.mp4: 384x640 1 drowsy, 6.9ms\n",
      "video 1/1 (95/1201) c:\\Users\\leduc\\OneDrive\\Desktop\\car_ai\\drowsy_driver\\test_video4.mp4: 384x640 1 drowsy, 7.0ms\n",
      "video 1/1 (96/1201) c:\\Users\\leduc\\OneDrive\\Desktop\\car_ai\\drowsy_driver\\test_video4.mp4: 384x640 1 drowsy, 7.1ms\n",
      "video 1/1 (97/1201) c:\\Users\\leduc\\OneDrive\\Desktop\\car_ai\\drowsy_driver\\test_video4.mp4: 384x640 1 drowsy, 7.0ms\n",
      "video 1/1 (98/1201) c:\\Users\\leduc\\OneDrive\\Desktop\\car_ai\\drowsy_driver\\test_video4.mp4: 384x640 1 drowsy, 7.0ms\n",
      "video 1/1 (99/1201) c:\\Users\\leduc\\OneDrive\\Desktop\\car_ai\\drowsy_driver\\test_video4.mp4: 384x640 1 drowsy, 7.0ms\n",
      "video 1/1 (100/1201) c:\\Users\\leduc\\OneDrive\\Desktop\\car_ai\\drowsy_driver\\test_video4.mp4: 384x640 1 drowsy, 8.0ms\n",
      "video 1/1 (101/1201) c:\\Users\\leduc\\OneDrive\\Desktop\\car_ai\\drowsy_driver\\test_video4.mp4: 384x640 1 drowsy, 7.1ms\n",
      "video 1/1 (102/1201) c:\\Users\\leduc\\OneDrive\\Desktop\\car_ai\\drowsy_driver\\test_video4.mp4: 384x640 1 drowsy, 8.0ms\n",
      "video 1/1 (103/1201) c:\\Users\\leduc\\OneDrive\\Desktop\\car_ai\\drowsy_driver\\test_video4.mp4: 384x640 1 drowsy, 8.0ms\n",
      "video 1/1 (104/1201) c:\\Users\\leduc\\OneDrive\\Desktop\\car_ai\\drowsy_driver\\test_video4.mp4: 384x640 1 drowsy, 8.0ms\n",
      "video 1/1 (105/1201) c:\\Users\\leduc\\OneDrive\\Desktop\\car_ai\\drowsy_driver\\test_video4.mp4: 384x640 2 drowsys, 7.0ms\n",
      "video 1/1 (106/1201) c:\\Users\\leduc\\OneDrive\\Desktop\\car_ai\\drowsy_driver\\test_video4.mp4: 384x640 1 drowsy, 6.9ms\n",
      "video 1/1 (107/1201) c:\\Users\\leduc\\OneDrive\\Desktop\\car_ai\\drowsy_driver\\test_video4.mp4: 384x640 1 awake, 1 drowsy, 9.0ms\n",
      "video 1/1 (108/1201) c:\\Users\\leduc\\OneDrive\\Desktop\\car_ai\\drowsy_driver\\test_video4.mp4: 384x640 1 awake, 1 drowsy, 7.0ms\n",
      "video 1/1 (109/1201) c:\\Users\\leduc\\OneDrive\\Desktop\\car_ai\\drowsy_driver\\test_video4.mp4: 384x640 1 awake, 1 drowsy, 7.0ms\n",
      "video 1/1 (110/1201) c:\\Users\\leduc\\OneDrive\\Desktop\\car_ai\\drowsy_driver\\test_video4.mp4: 384x640 1 awake, 1 drowsy, 7.0ms\n",
      "video 1/1 (111/1201) c:\\Users\\leduc\\OneDrive\\Desktop\\car_ai\\drowsy_driver\\test_video4.mp4: 384x640 1 awake, 1 drowsy, 7.0ms\n",
      "video 1/1 (112/1201) c:\\Users\\leduc\\OneDrive\\Desktop\\car_ai\\drowsy_driver\\test_video4.mp4: 384x640 1 awake, 1 drowsy, 7.0ms\n",
      "video 1/1 (113/1201) c:\\Users\\leduc\\OneDrive\\Desktop\\car_ai\\drowsy_driver\\test_video4.mp4: 384x640 1 awake, 1 drowsy, 7.0ms\n",
      "video 1/1 (114/1201) c:\\Users\\leduc\\OneDrive\\Desktop\\car_ai\\drowsy_driver\\test_video4.mp4: 384x640 1 awake, 1 drowsy, 10.0ms\n",
      "video 1/1 (115/1201) c:\\Users\\leduc\\OneDrive\\Desktop\\car_ai\\drowsy_driver\\test_video4.mp4: 384x640 1 awake, 1 drowsy, 7.0ms\n",
      "video 1/1 (116/1201) c:\\Users\\leduc\\OneDrive\\Desktop\\car_ai\\drowsy_driver\\test_video4.mp4: 384x640 1 awake, 1 drowsy, 9.0ms\n",
      "video 1/1 (117/1201) c:\\Users\\leduc\\OneDrive\\Desktop\\car_ai\\drowsy_driver\\test_video4.mp4: 384x640 1 awake, 1 drowsy, 7.0ms\n",
      "video 1/1 (118/1201) c:\\Users\\leduc\\OneDrive\\Desktop\\car_ai\\drowsy_driver\\test_video4.mp4: 384x640 1 awake, 1 drowsy, 7.5ms\n",
      "video 1/1 (119/1201) c:\\Users\\leduc\\OneDrive\\Desktop\\car_ai\\drowsy_driver\\test_video4.mp4: 384x640 1 awake, 1 drowsy, 7.0ms\n",
      "video 1/1 (120/1201) c:\\Users\\leduc\\OneDrive\\Desktop\\car_ai\\drowsy_driver\\test_video4.mp4: 384x640 1 awake, 1 drowsy, 8.0ms\n",
      "video 1/1 (121/1201) c:\\Users\\leduc\\OneDrive\\Desktop\\car_ai\\drowsy_driver\\test_video4.mp4: 384x640 1 awake, 1 drowsy, 7.0ms\n",
      "video 1/1 (122/1201) c:\\Users\\leduc\\OneDrive\\Desktop\\car_ai\\drowsy_driver\\test_video4.mp4: 384x640 1 awake, 1 drowsy, 7.0ms\n",
      "video 1/1 (123/1201) c:\\Users\\leduc\\OneDrive\\Desktop\\car_ai\\drowsy_driver\\test_video4.mp4: 384x640 1 awake, 1 drowsy, 7.0ms\n",
      "video 1/1 (124/1201) c:\\Users\\leduc\\OneDrive\\Desktop\\car_ai\\drowsy_driver\\test_video4.mp4: 384x640 1 awake, 1 drowsy, 6.5ms\n",
      "video 1/1 (125/1201) c:\\Users\\leduc\\OneDrive\\Desktop\\car_ai\\drowsy_driver\\test_video4.mp4: 384x640 1 awake, 1 drowsy, 7.0ms\n",
      "video 1/1 (126/1201) c:\\Users\\leduc\\OneDrive\\Desktop\\car_ai\\drowsy_driver\\test_video4.mp4: 384x640 1 awake, 1 drowsy, 7.0ms\n",
      "video 1/1 (127/1201) c:\\Users\\leduc\\OneDrive\\Desktop\\car_ai\\drowsy_driver\\test_video4.mp4: 384x640 1 awake, 1 drowsy, 7.0ms\n",
      "video 1/1 (128/1201) c:\\Users\\leduc\\OneDrive\\Desktop\\car_ai\\drowsy_driver\\test_video4.mp4: 384x640 1 awake, 1 drowsy, 8.6ms\n",
      "video 1/1 (129/1201) c:\\Users\\leduc\\OneDrive\\Desktop\\car_ai\\drowsy_driver\\test_video4.mp4: 384x640 1 awake, 1 drowsy, 7.0ms\n",
      "video 1/1 (130/1201) c:\\Users\\leduc\\OneDrive\\Desktop\\car_ai\\drowsy_driver\\test_video4.mp4: 384x640 1 awake, 1 drowsy, 7.0ms\n",
      "video 1/1 (131/1201) c:\\Users\\leduc\\OneDrive\\Desktop\\car_ai\\drowsy_driver\\test_video4.mp4: 384x640 1 awake, 1 drowsy, 7.0ms\n",
      "video 1/1 (132/1201) c:\\Users\\leduc\\OneDrive\\Desktop\\car_ai\\drowsy_driver\\test_video4.mp4: 384x640 1 awake, 1 drowsy, 8.0ms\n",
      "video 1/1 (133/1201) c:\\Users\\leduc\\OneDrive\\Desktop\\car_ai\\drowsy_driver\\test_video4.mp4: 384x640 1 awake, 1 drowsy, 7.0ms\n",
      "video 1/1 (134/1201) c:\\Users\\leduc\\OneDrive\\Desktop\\car_ai\\drowsy_driver\\test_video4.mp4: 384x640 1 awake, 1 drowsy, 9.3ms\n",
      "video 1/1 (135/1201) c:\\Users\\leduc\\OneDrive\\Desktop\\car_ai\\drowsy_driver\\test_video4.mp4: 384x640 1 awake, 1 drowsy, 7.1ms\n",
      "video 1/1 (136/1201) c:\\Users\\leduc\\OneDrive\\Desktop\\car_ai\\drowsy_driver\\test_video4.mp4: 384x640 1 awake, 1 drowsy, 7.9ms\n",
      "video 1/1 (137/1201) c:\\Users\\leduc\\OneDrive\\Desktop\\car_ai\\drowsy_driver\\test_video4.mp4: 384x640 1 awake, 1 drowsy, 12.0ms\n",
      "video 1/1 (138/1201) c:\\Users\\leduc\\OneDrive\\Desktop\\car_ai\\drowsy_driver\\test_video4.mp4: 384x640 1 awake, 1 drowsy, 11.0ms\n",
      "video 1/1 (139/1201) c:\\Users\\leduc\\OneDrive\\Desktop\\car_ai\\drowsy_driver\\test_video4.mp4: 384x640 1 awake, 1 drowsy, 12.0ms\n",
      "video 1/1 (140/1201) c:\\Users\\leduc\\OneDrive\\Desktop\\car_ai\\drowsy_driver\\test_video4.mp4: 384x640 1 drowsy, 7.0ms\n",
      "video 1/1 (141/1201) c:\\Users\\leduc\\OneDrive\\Desktop\\car_ai\\drowsy_driver\\test_video4.mp4: 384x640 1 drowsy, 7.0ms\n",
      "video 1/1 (142/1201) c:\\Users\\leduc\\OneDrive\\Desktop\\car_ai\\drowsy_driver\\test_video4.mp4: 384x640 1 drowsy, 8.0ms\n",
      "video 1/1 (143/1201) c:\\Users\\leduc\\OneDrive\\Desktop\\car_ai\\drowsy_driver\\test_video4.mp4: 384x640 1 drowsy, 7.0ms\n",
      "video 1/1 (144/1201) c:\\Users\\leduc\\OneDrive\\Desktop\\car_ai\\drowsy_driver\\test_video4.mp4: 384x640 1 drowsy, 6.8ms\n",
      "video 1/1 (145/1201) c:\\Users\\leduc\\OneDrive\\Desktop\\car_ai\\drowsy_driver\\test_video4.mp4: 384x640 1 drowsy, 7.0ms\n",
      "video 1/1 (146/1201) c:\\Users\\leduc\\OneDrive\\Desktop\\car_ai\\drowsy_driver\\test_video4.mp4: 384x640 1 drowsy, 7.6ms\n",
      "video 1/1 (147/1201) c:\\Users\\leduc\\OneDrive\\Desktop\\car_ai\\drowsy_driver\\test_video4.mp4: 384x640 1 drowsy, 10.0ms\n",
      "video 1/1 (148/1201) c:\\Users\\leduc\\OneDrive\\Desktop\\car_ai\\drowsy_driver\\test_video4.mp4: 384x640 1 drowsy, 8.0ms\n",
      "video 1/1 (149/1201) c:\\Users\\leduc\\OneDrive\\Desktop\\car_ai\\drowsy_driver\\test_video4.mp4: 384x640 1 drowsy, 8.0ms\n",
      "video 1/1 (150/1201) c:\\Users\\leduc\\OneDrive\\Desktop\\car_ai\\drowsy_driver\\test_video4.mp4: 384x640 1 drowsy, 9.0ms\n",
      "video 1/1 (151/1201) c:\\Users\\leduc\\OneDrive\\Desktop\\car_ai\\drowsy_driver\\test_video4.mp4: 384x640 1 awake, 1 drowsy, 8.0ms\n",
      "video 1/1 (152/1201) c:\\Users\\leduc\\OneDrive\\Desktop\\car_ai\\drowsy_driver\\test_video4.mp4: 384x640 1 awake, 1 drowsy, 7.0ms\n",
      "video 1/1 (153/1201) c:\\Users\\leduc\\OneDrive\\Desktop\\car_ai\\drowsy_driver\\test_video4.mp4: 384x640 1 awake, 1 drowsy, 11.6ms\n",
      "video 1/1 (154/1201) c:\\Users\\leduc\\OneDrive\\Desktop\\car_ai\\drowsy_driver\\test_video4.mp4: 384x640 1 drowsy, 8.0ms\n",
      "video 1/1 (155/1201) c:\\Users\\leduc\\OneDrive\\Desktop\\car_ai\\drowsy_driver\\test_video4.mp4: 384x640 1 awake, 1 drowsy, 9.0ms\n",
      "video 1/1 (156/1201) c:\\Users\\leduc\\OneDrive\\Desktop\\car_ai\\drowsy_driver\\test_video4.mp4: 384x640 1 awake, 1 drowsy, 7.0ms\n",
      "video 1/1 (157/1201) c:\\Users\\leduc\\OneDrive\\Desktop\\car_ai\\drowsy_driver\\test_video4.mp4: 384x640 1 awake, 1 drowsy, 8.0ms\n",
      "video 1/1 (158/1201) c:\\Users\\leduc\\OneDrive\\Desktop\\car_ai\\drowsy_driver\\test_video4.mp4: 384x640 1 awake, 1 drowsy, 9.0ms\n",
      "video 1/1 (159/1201) c:\\Users\\leduc\\OneDrive\\Desktop\\car_ai\\drowsy_driver\\test_video4.mp4: 384x640 1 awake, 1 drowsy, 7.0ms\n",
      "video 1/1 (160/1201) c:\\Users\\leduc\\OneDrive\\Desktop\\car_ai\\drowsy_driver\\test_video4.mp4: 384x640 1 awake, 1 drowsy, 8.2ms\n",
      "video 1/1 (161/1201) c:\\Users\\leduc\\OneDrive\\Desktop\\car_ai\\drowsy_driver\\test_video4.mp4: 384x640 1 awake, 1 drowsy, 7.0ms\n",
      "video 1/1 (162/1201) c:\\Users\\leduc\\OneDrive\\Desktop\\car_ai\\drowsy_driver\\test_video4.mp4: 384x640 1 awake, 1 drowsy, 8.0ms\n",
      "video 1/1 (163/1201) c:\\Users\\leduc\\OneDrive\\Desktop\\car_ai\\drowsy_driver\\test_video4.mp4: 384x640 1 awake, 1 drowsy, 7.0ms\n",
      "video 1/1 (164/1201) c:\\Users\\leduc\\OneDrive\\Desktop\\car_ai\\drowsy_driver\\test_video4.mp4: 384x640 1 awake, 1 drowsy, 7.0ms\n",
      "video 1/1 (165/1201) c:\\Users\\leduc\\OneDrive\\Desktop\\car_ai\\drowsy_driver\\test_video4.mp4: 384x640 1 awake, 1 drowsy, 11.0ms\n",
      "video 1/1 (166/1201) c:\\Users\\leduc\\OneDrive\\Desktop\\car_ai\\drowsy_driver\\test_video4.mp4: 384x640 1 awake, 1 drowsy, 8.0ms\n",
      "video 1/1 (167/1201) c:\\Users\\leduc\\OneDrive\\Desktop\\car_ai\\drowsy_driver\\test_video4.mp4: 384x640 1 drowsy, 12.0ms\n",
      "video 1/1 (168/1201) c:\\Users\\leduc\\OneDrive\\Desktop\\car_ai\\drowsy_driver\\test_video4.mp4: 384x640 1 awake, 1 drowsy, 9.0ms\n",
      "video 1/1 (169/1201) c:\\Users\\leduc\\OneDrive\\Desktop\\car_ai\\drowsy_driver\\test_video4.mp4: 384x640 1 drowsy, 8.0ms\n",
      "video 1/1 (170/1201) c:\\Users\\leduc\\OneDrive\\Desktop\\car_ai\\drowsy_driver\\test_video4.mp4: 384x640 1 awake, 1 drowsy, 7.0ms\n",
      "video 1/1 (171/1201) c:\\Users\\leduc\\OneDrive\\Desktop\\car_ai\\drowsy_driver\\test_video4.mp4: 384x640 1 awake, 1 drowsy, 7.0ms\n",
      "video 1/1 (172/1201) c:\\Users\\leduc\\OneDrive\\Desktop\\car_ai\\drowsy_driver\\test_video4.mp4: 384x640 1 awake, 1 drowsy, 8.5ms\n",
      "video 1/1 (173/1201) c:\\Users\\leduc\\OneDrive\\Desktop\\car_ai\\drowsy_driver\\test_video4.mp4: 384x640 1 awake, 1 drowsy, 7.0ms\n",
      "video 1/1 (174/1201) c:\\Users\\leduc\\OneDrive\\Desktop\\car_ai\\drowsy_driver\\test_video4.mp4: 384x640 1 awake, 1 drowsy, 8.0ms\n",
      "video 1/1 (175/1201) c:\\Users\\leduc\\OneDrive\\Desktop\\car_ai\\drowsy_driver\\test_video4.mp4: 384x640 1 awake, 1 drowsy, 7.0ms\n",
      "video 1/1 (176/1201) c:\\Users\\leduc\\OneDrive\\Desktop\\car_ai\\drowsy_driver\\test_video4.mp4: 384x640 1 drowsy, 7.0ms\n",
      "video 1/1 (177/1201) c:\\Users\\leduc\\OneDrive\\Desktop\\car_ai\\drowsy_driver\\test_video4.mp4: 384x640 1 drowsy, 15.5ms\n",
      "video 1/1 (178/1201) c:\\Users\\leduc\\OneDrive\\Desktop\\car_ai\\drowsy_driver\\test_video4.mp4: 384x640 1 drowsy, 9.0ms\n",
      "video 1/1 (179/1201) c:\\Users\\leduc\\OneDrive\\Desktop\\car_ai\\drowsy_driver\\test_video4.mp4: 384x640 1 drowsy, 9.2ms\n",
      "video 1/1 (180/1201) c:\\Users\\leduc\\OneDrive\\Desktop\\car_ai\\drowsy_driver\\test_video4.mp4: 384x640 1 drowsy, 7.0ms\n",
      "video 1/1 (181/1201) c:\\Users\\leduc\\OneDrive\\Desktop\\car_ai\\drowsy_driver\\test_video4.mp4: 384x640 1 drowsy, 12.0ms\n",
      "video 1/1 (182/1201) c:\\Users\\leduc\\OneDrive\\Desktop\\car_ai\\drowsy_driver\\test_video4.mp4: 384x640 1 drowsy, 12.9ms\n",
      "video 1/1 (183/1201) c:\\Users\\leduc\\OneDrive\\Desktop\\car_ai\\drowsy_driver\\test_video4.mp4: 384x640 1 drowsy, 11.0ms\n",
      "video 1/1 (184/1201) c:\\Users\\leduc\\OneDrive\\Desktop\\car_ai\\drowsy_driver\\test_video4.mp4: 384x640 1 drowsy, 12.0ms\n",
      "video 1/1 (185/1201) c:\\Users\\leduc\\OneDrive\\Desktop\\car_ai\\drowsy_driver\\test_video4.mp4: 384x640 1 drowsy, 14.6ms\n",
      "video 1/1 (186/1201) c:\\Users\\leduc\\OneDrive\\Desktop\\car_ai\\drowsy_driver\\test_video4.mp4: 384x640 1 drowsy, 7.0ms\n",
      "video 1/1 (187/1201) c:\\Users\\leduc\\OneDrive\\Desktop\\car_ai\\drowsy_driver\\test_video4.mp4: 384x640 1 drowsy, 19.4ms\n",
      "video 1/1 (188/1201) c:\\Users\\leduc\\OneDrive\\Desktop\\car_ai\\drowsy_driver\\test_video4.mp4: 384x640 1 drowsy, 7.0ms\n",
      "video 1/1 (189/1201) c:\\Users\\leduc\\OneDrive\\Desktop\\car_ai\\drowsy_driver\\test_video4.mp4: 384x640 1 drowsy, 7.0ms\n",
      "video 1/1 (190/1201) c:\\Users\\leduc\\OneDrive\\Desktop\\car_ai\\drowsy_driver\\test_video4.mp4: 384x640 1 drowsy, 7.0ms\n",
      "video 1/1 (191/1201) c:\\Users\\leduc\\OneDrive\\Desktop\\car_ai\\drowsy_driver\\test_video4.mp4: 384x640 1 drowsy, 14.1ms\n",
      "video 1/1 (192/1201) c:\\Users\\leduc\\OneDrive\\Desktop\\car_ai\\drowsy_driver\\test_video4.mp4: 384x640 1 drowsy, 12.0ms\n",
      "video 1/1 (193/1201) c:\\Users\\leduc\\OneDrive\\Desktop\\car_ai\\drowsy_driver\\test_video4.mp4: 384x640 1 drowsy, 7.5ms\n",
      "video 1/1 (194/1201) c:\\Users\\leduc\\OneDrive\\Desktop\\car_ai\\drowsy_driver\\test_video4.mp4: 384x640 1 drowsy, 8.3ms\n",
      "video 1/1 (195/1201) c:\\Users\\leduc\\OneDrive\\Desktop\\car_ai\\drowsy_driver\\test_video4.mp4: 384x640 1 drowsy, 10.0ms\n",
      "video 1/1 (196/1201) c:\\Users\\leduc\\OneDrive\\Desktop\\car_ai\\drowsy_driver\\test_video4.mp4: 384x640 1 drowsy, 9.5ms\n",
      "video 1/1 (197/1201) c:\\Users\\leduc\\OneDrive\\Desktop\\car_ai\\drowsy_driver\\test_video4.mp4: 384x640 1 drowsy, 8.0ms\n",
      "video 1/1 (198/1201) c:\\Users\\leduc\\OneDrive\\Desktop\\car_ai\\drowsy_driver\\test_video4.mp4: 384x640 1 drowsy, 8.3ms\n",
      "video 1/1 (199/1201) c:\\Users\\leduc\\OneDrive\\Desktop\\car_ai\\drowsy_driver\\test_video4.mp4: 384x640 1 drowsy, 7.0ms\n",
      "video 1/1 (200/1201) c:\\Users\\leduc\\OneDrive\\Desktop\\car_ai\\drowsy_driver\\test_video4.mp4: 384x640 1 drowsy, 7.0ms\n",
      "video 1/1 (201/1201) c:\\Users\\leduc\\OneDrive\\Desktop\\car_ai\\drowsy_driver\\test_video4.mp4: 384x640 1 drowsy, 7.2ms\n",
      "video 1/1 (202/1201) c:\\Users\\leduc\\OneDrive\\Desktop\\car_ai\\drowsy_driver\\test_video4.mp4: 384x640 1 drowsy, 8.0ms\n",
      "video 1/1 (203/1201) c:\\Users\\leduc\\OneDrive\\Desktop\\car_ai\\drowsy_driver\\test_video4.mp4: 384x640 1 drowsy, 16.2ms\n",
      "video 1/1 (204/1201) c:\\Users\\leduc\\OneDrive\\Desktop\\car_ai\\drowsy_driver\\test_video4.mp4: 384x640 1 drowsy, 7.0ms\n",
      "video 1/1 (205/1201) c:\\Users\\leduc\\OneDrive\\Desktop\\car_ai\\drowsy_driver\\test_video4.mp4: 384x640 1 drowsy, 9.0ms\n",
      "video 1/1 (206/1201) c:\\Users\\leduc\\OneDrive\\Desktop\\car_ai\\drowsy_driver\\test_video4.mp4: 384x640 1 awake, 1 drowsy, 9.3ms\n",
      "video 1/1 (207/1201) c:\\Users\\leduc\\OneDrive\\Desktop\\car_ai\\drowsy_driver\\test_video4.mp4: 384x640 1 awake, 1 drowsy, 7.2ms\n",
      "video 1/1 (208/1201) c:\\Users\\leduc\\OneDrive\\Desktop\\car_ai\\drowsy_driver\\test_video4.mp4: 384x640 1 drowsy, 9.0ms\n",
      "video 1/1 (209/1201) c:\\Users\\leduc\\OneDrive\\Desktop\\car_ai\\drowsy_driver\\test_video4.mp4: 384x640 1 drowsy, 8.0ms\n",
      "video 1/1 (210/1201) c:\\Users\\leduc\\OneDrive\\Desktop\\car_ai\\drowsy_driver\\test_video4.mp4: 384x640 1 drowsy, 7.0ms\n",
      "video 1/1 (211/1201) c:\\Users\\leduc\\OneDrive\\Desktop\\car_ai\\drowsy_driver\\test_video4.mp4: 384x640 1 drowsy, 8.0ms\n",
      "video 1/1 (212/1201) c:\\Users\\leduc\\OneDrive\\Desktop\\car_ai\\drowsy_driver\\test_video4.mp4: 384x640 1 drowsy, 10.0ms\n",
      "video 1/1 (213/1201) c:\\Users\\leduc\\OneDrive\\Desktop\\car_ai\\drowsy_driver\\test_video4.mp4: 384x640 1 drowsy, 8.0ms\n",
      "video 1/1 (214/1201) c:\\Users\\leduc\\OneDrive\\Desktop\\car_ai\\drowsy_driver\\test_video4.mp4: 384x640 (no detections), 7.0ms\n",
      "video 1/1 (215/1201) c:\\Users\\leduc\\OneDrive\\Desktop\\car_ai\\drowsy_driver\\test_video4.mp4: 384x640 (no detections), 8.0ms\n",
      "video 1/1 (216/1201) c:\\Users\\leduc\\OneDrive\\Desktop\\car_ai\\drowsy_driver\\test_video4.mp4: 384x640 (no detections), 8.0ms\n",
      "video 1/1 (217/1201) c:\\Users\\leduc\\OneDrive\\Desktop\\car_ai\\drowsy_driver\\test_video4.mp4: 384x640 (no detections), 10.0ms\n",
      "video 1/1 (218/1201) c:\\Users\\leduc\\OneDrive\\Desktop\\car_ai\\drowsy_driver\\test_video4.mp4: 384x640 (no detections), 7.2ms\n",
      "video 1/1 (219/1201) c:\\Users\\leduc\\OneDrive\\Desktop\\car_ai\\drowsy_driver\\test_video4.mp4: 384x640 (no detections), 7.0ms\n",
      "video 1/1 (220/1201) c:\\Users\\leduc\\OneDrive\\Desktop\\car_ai\\drowsy_driver\\test_video4.mp4: 384x640 (no detections), 8.0ms\n",
      "video 1/1 (221/1201) c:\\Users\\leduc\\OneDrive\\Desktop\\car_ai\\drowsy_driver\\test_video4.mp4: 384x640 (no detections), 9.5ms\n",
      "video 1/1 (222/1201) c:\\Users\\leduc\\OneDrive\\Desktop\\car_ai\\drowsy_driver\\test_video4.mp4: 384x640 (no detections), 8.3ms\n",
      "video 1/1 (223/1201) c:\\Users\\leduc\\OneDrive\\Desktop\\car_ai\\drowsy_driver\\test_video4.mp4: 384x640 (no detections), 7.0ms\n",
      "video 1/1 (224/1201) c:\\Users\\leduc\\OneDrive\\Desktop\\car_ai\\drowsy_driver\\test_video4.mp4: 384x640 (no detections), 7.0ms\n",
      "video 1/1 (225/1201) c:\\Users\\leduc\\OneDrive\\Desktop\\car_ai\\drowsy_driver\\test_video4.mp4: 384x640 (no detections), 7.0ms\n",
      "video 1/1 (226/1201) c:\\Users\\leduc\\OneDrive\\Desktop\\car_ai\\drowsy_driver\\test_video4.mp4: 384x640 (no detections), 8.0ms\n",
      "video 1/1 (227/1201) c:\\Users\\leduc\\OneDrive\\Desktop\\car_ai\\drowsy_driver\\test_video4.mp4: 384x640 (no detections), 8.0ms\n",
      "video 1/1 (228/1201) c:\\Users\\leduc\\OneDrive\\Desktop\\car_ai\\drowsy_driver\\test_video4.mp4: 384x640 (no detections), 7.6ms\n",
      "video 1/1 (229/1201) c:\\Users\\leduc\\OneDrive\\Desktop\\car_ai\\drowsy_driver\\test_video4.mp4: 384x640 (no detections), 7.0ms\n",
      "video 1/1 (230/1201) c:\\Users\\leduc\\OneDrive\\Desktop\\car_ai\\drowsy_driver\\test_video4.mp4: 384x640 (no detections), 7.0ms\n",
      "video 1/1 (231/1201) c:\\Users\\leduc\\OneDrive\\Desktop\\car_ai\\drowsy_driver\\test_video4.mp4: 384x640 (no detections), 7.0ms\n",
      "video 1/1 (232/1201) c:\\Users\\leduc\\OneDrive\\Desktop\\car_ai\\drowsy_driver\\test_video4.mp4: 384x640 (no detections), 9.0ms\n",
      "video 1/1 (233/1201) c:\\Users\\leduc\\OneDrive\\Desktop\\car_ai\\drowsy_driver\\test_video4.mp4: 384x640 (no detections), 7.0ms\n",
      "video 1/1 (234/1201) c:\\Users\\leduc\\OneDrive\\Desktop\\car_ai\\drowsy_driver\\test_video4.mp4: 384x640 (no detections), 7.0ms\n",
      "video 1/1 (235/1201) c:\\Users\\leduc\\OneDrive\\Desktop\\car_ai\\drowsy_driver\\test_video4.mp4: 384x640 (no detections), 10.0ms\n",
      "video 1/1 (236/1201) c:\\Users\\leduc\\OneDrive\\Desktop\\car_ai\\drowsy_driver\\test_video4.mp4: 384x640 (no detections), 7.0ms\n",
      "video 1/1 (237/1201) c:\\Users\\leduc\\OneDrive\\Desktop\\car_ai\\drowsy_driver\\test_video4.mp4: 384x640 (no detections), 8.0ms\n",
      "video 1/1 (238/1201) c:\\Users\\leduc\\OneDrive\\Desktop\\car_ai\\drowsy_driver\\test_video4.mp4: 384x640 (no detections), 7.0ms\n",
      "video 1/1 (239/1201) c:\\Users\\leduc\\OneDrive\\Desktop\\car_ai\\drowsy_driver\\test_video4.mp4: 384x640 (no detections), 7.0ms\n",
      "video 1/1 (240/1201) c:\\Users\\leduc\\OneDrive\\Desktop\\car_ai\\drowsy_driver\\test_video4.mp4: 384x640 (no detections), 7.0ms\n",
      "video 1/1 (241/1201) c:\\Users\\leduc\\OneDrive\\Desktop\\car_ai\\drowsy_driver\\test_video4.mp4: 384x640 (no detections), 7.0ms\n",
      "video 1/1 (242/1201) c:\\Users\\leduc\\OneDrive\\Desktop\\car_ai\\drowsy_driver\\test_video4.mp4: 384x640 (no detections), 7.0ms\n",
      "video 1/1 (243/1201) c:\\Users\\leduc\\OneDrive\\Desktop\\car_ai\\drowsy_driver\\test_video4.mp4: 384x640 (no detections), 7.0ms\n",
      "video 1/1 (244/1201) c:\\Users\\leduc\\OneDrive\\Desktop\\car_ai\\drowsy_driver\\test_video4.mp4: 384x640 (no detections), 8.0ms\n",
      "video 1/1 (245/1201) c:\\Users\\leduc\\OneDrive\\Desktop\\car_ai\\drowsy_driver\\test_video4.mp4: 384x640 (no detections), 8.0ms\n",
      "video 1/1 (246/1201) c:\\Users\\leduc\\OneDrive\\Desktop\\car_ai\\drowsy_driver\\test_video4.mp4: 384x640 (no detections), 7.0ms\n",
      "video 1/1 (247/1201) c:\\Users\\leduc\\OneDrive\\Desktop\\car_ai\\drowsy_driver\\test_video4.mp4: 384x640 (no detections), 10.0ms\n",
      "video 1/1 (248/1201) c:\\Users\\leduc\\OneDrive\\Desktop\\car_ai\\drowsy_driver\\test_video4.mp4: 384x640 (no detections), 8.0ms\n",
      "video 1/1 (249/1201) c:\\Users\\leduc\\OneDrive\\Desktop\\car_ai\\drowsy_driver\\test_video4.mp4: 384x640 (no detections), 8.0ms\n",
      "video 1/1 (250/1201) c:\\Users\\leduc\\OneDrive\\Desktop\\car_ai\\drowsy_driver\\test_video4.mp4: 384x640 (no detections), 7.0ms\n",
      "video 1/1 (251/1201) c:\\Users\\leduc\\OneDrive\\Desktop\\car_ai\\drowsy_driver\\test_video4.mp4: 384x640 (no detections), 6.5ms\n",
      "video 1/1 (252/1201) c:\\Users\\leduc\\OneDrive\\Desktop\\car_ai\\drowsy_driver\\test_video4.mp4: 384x640 (no detections), 7.0ms\n",
      "video 1/1 (253/1201) c:\\Users\\leduc\\OneDrive\\Desktop\\car_ai\\drowsy_driver\\test_video4.mp4: 384x640 (no detections), 7.0ms\n",
      "video 1/1 (254/1201) c:\\Users\\leduc\\OneDrive\\Desktop\\car_ai\\drowsy_driver\\test_video4.mp4: 384x640 (no detections), 7.0ms\n",
      "video 1/1 (255/1201) c:\\Users\\leduc\\OneDrive\\Desktop\\car_ai\\drowsy_driver\\test_video4.mp4: 384x640 (no detections), 7.0ms\n",
      "video 1/1 (256/1201) c:\\Users\\leduc\\OneDrive\\Desktop\\car_ai\\drowsy_driver\\test_video4.mp4: 384x640 (no detections), 7.0ms\n",
      "video 1/1 (257/1201) c:\\Users\\leduc\\OneDrive\\Desktop\\car_ai\\drowsy_driver\\test_video4.mp4: 384x640 (no detections), 8.0ms\n",
      "video 1/1 (258/1201) c:\\Users\\leduc\\OneDrive\\Desktop\\car_ai\\drowsy_driver\\test_video4.mp4: 384x640 (no detections), 8.0ms\n",
      "video 1/1 (259/1201) c:\\Users\\leduc\\OneDrive\\Desktop\\car_ai\\drowsy_driver\\test_video4.mp4: 384x640 (no detections), 7.3ms\n",
      "video 1/1 (260/1201) c:\\Users\\leduc\\OneDrive\\Desktop\\car_ai\\drowsy_driver\\test_video4.mp4: 384x640 (no detections), 8.0ms\n",
      "video 1/1 (261/1201) c:\\Users\\leduc\\OneDrive\\Desktop\\car_ai\\drowsy_driver\\test_video4.mp4: 384x640 (no detections), 7.0ms\n",
      "video 1/1 (262/1201) c:\\Users\\leduc\\OneDrive\\Desktop\\car_ai\\drowsy_driver\\test_video4.mp4: 384x640 (no detections), 7.0ms\n",
      "video 1/1 (263/1201) c:\\Users\\leduc\\OneDrive\\Desktop\\car_ai\\drowsy_driver\\test_video4.mp4: 384x640 (no detections), 7.4ms\n",
      "video 1/1 (264/1201) c:\\Users\\leduc\\OneDrive\\Desktop\\car_ai\\drowsy_driver\\test_video4.mp4: 384x640 (no detections), 7.0ms\n",
      "video 1/1 (265/1201) c:\\Users\\leduc\\OneDrive\\Desktop\\car_ai\\drowsy_driver\\test_video4.mp4: 384x640 (no detections), 7.0ms\n",
      "video 1/1 (266/1201) c:\\Users\\leduc\\OneDrive\\Desktop\\car_ai\\drowsy_driver\\test_video4.mp4: 384x640 (no detections), 7.0ms\n",
      "video 1/1 (267/1201) c:\\Users\\leduc\\OneDrive\\Desktop\\car_ai\\drowsy_driver\\test_video4.mp4: 384x640 (no detections), 7.0ms\n",
      "video 1/1 (268/1201) c:\\Users\\leduc\\OneDrive\\Desktop\\car_ai\\drowsy_driver\\test_video4.mp4: 384x640 (no detections), 7.0ms\n",
      "video 1/1 (269/1201) c:\\Users\\leduc\\OneDrive\\Desktop\\car_ai\\drowsy_driver\\test_video4.mp4: 384x640 (no detections), 7.4ms\n",
      "video 1/1 (270/1201) c:\\Users\\leduc\\OneDrive\\Desktop\\car_ai\\drowsy_driver\\test_video4.mp4: 384x640 (no detections), 7.0ms\n",
      "video 1/1 (271/1201) c:\\Users\\leduc\\OneDrive\\Desktop\\car_ai\\drowsy_driver\\test_video4.mp4: 384x640 (no detections), 7.0ms\n",
      "video 1/1 (272/1201) c:\\Users\\leduc\\OneDrive\\Desktop\\car_ai\\drowsy_driver\\test_video4.mp4: 384x640 (no detections), 6.7ms\n",
      "video 1/1 (273/1201) c:\\Users\\leduc\\OneDrive\\Desktop\\car_ai\\drowsy_driver\\test_video4.mp4: 384x640 (no detections), 7.0ms\n",
      "video 1/1 (274/1201) c:\\Users\\leduc\\OneDrive\\Desktop\\car_ai\\drowsy_driver\\test_video4.mp4: 384x640 (no detections), 7.2ms\n",
      "video 1/1 (275/1201) c:\\Users\\leduc\\OneDrive\\Desktop\\car_ai\\drowsy_driver\\test_video4.mp4: 384x640 (no detections), 7.2ms\n",
      "video 1/1 (276/1201) c:\\Users\\leduc\\OneDrive\\Desktop\\car_ai\\drowsy_driver\\test_video4.mp4: 384x640 (no detections), 8.0ms\n",
      "video 1/1 (277/1201) c:\\Users\\leduc\\OneDrive\\Desktop\\car_ai\\drowsy_driver\\test_video4.mp4: 384x640 (no detections), 9.0ms\n",
      "video 1/1 (278/1201) c:\\Users\\leduc\\OneDrive\\Desktop\\car_ai\\drowsy_driver\\test_video4.mp4: 384x640 (no detections), 8.0ms\n",
      "video 1/1 (279/1201) c:\\Users\\leduc\\OneDrive\\Desktop\\car_ai\\drowsy_driver\\test_video4.mp4: 384x640 (no detections), 10.1ms\n",
      "video 1/1 (280/1201) c:\\Users\\leduc\\OneDrive\\Desktop\\car_ai\\drowsy_driver\\test_video4.mp4: 384x640 (no detections), 6.7ms\n",
      "video 1/1 (281/1201) c:\\Users\\leduc\\OneDrive\\Desktop\\car_ai\\drowsy_driver\\test_video4.mp4: 384x640 (no detections), 7.0ms\n",
      "video 1/1 (282/1201) c:\\Users\\leduc\\OneDrive\\Desktop\\car_ai\\drowsy_driver\\test_video4.mp4: 384x640 (no detections), 8.0ms\n",
      "video 1/1 (283/1201) c:\\Users\\leduc\\OneDrive\\Desktop\\car_ai\\drowsy_driver\\test_video4.mp4: 384x640 (no detections), 7.0ms\n",
      "video 1/1 (284/1201) c:\\Users\\leduc\\OneDrive\\Desktop\\car_ai\\drowsy_driver\\test_video4.mp4: 384x640 (no detections), 8.0ms\n",
      "video 1/1 (285/1201) c:\\Users\\leduc\\OneDrive\\Desktop\\car_ai\\drowsy_driver\\test_video4.mp4: 384x640 (no detections), 8.0ms\n",
      "video 1/1 (286/1201) c:\\Users\\leduc\\OneDrive\\Desktop\\car_ai\\drowsy_driver\\test_video4.mp4: 384x640 (no detections), 7.0ms\n",
      "video 1/1 (287/1201) c:\\Users\\leduc\\OneDrive\\Desktop\\car_ai\\drowsy_driver\\test_video4.mp4: 384x640 (no detections), 7.0ms\n",
      "video 1/1 (288/1201) c:\\Users\\leduc\\OneDrive\\Desktop\\car_ai\\drowsy_driver\\test_video4.mp4: 384x640 (no detections), 8.0ms\n",
      "video 1/1 (289/1201) c:\\Users\\leduc\\OneDrive\\Desktop\\car_ai\\drowsy_driver\\test_video4.mp4: 384x640 (no detections), 7.7ms\n",
      "video 1/1 (290/1201) c:\\Users\\leduc\\OneDrive\\Desktop\\car_ai\\drowsy_driver\\test_video4.mp4: 384x640 (no detections), 8.0ms\n",
      "video 1/1 (291/1201) c:\\Users\\leduc\\OneDrive\\Desktop\\car_ai\\drowsy_driver\\test_video4.mp4: 384x640 (no detections), 7.5ms\n",
      "video 1/1 (292/1201) c:\\Users\\leduc\\OneDrive\\Desktop\\car_ai\\drowsy_driver\\test_video4.mp4: 384x640 (no detections), 8.0ms\n",
      "video 1/1 (293/1201) c:\\Users\\leduc\\OneDrive\\Desktop\\car_ai\\drowsy_driver\\test_video4.mp4: 384x640 (no detections), 7.0ms\n",
      "video 1/1 (294/1201) c:\\Users\\leduc\\OneDrive\\Desktop\\car_ai\\drowsy_driver\\test_video4.mp4: 384x640 (no detections), 8.4ms\n",
      "video 1/1 (295/1201) c:\\Users\\leduc\\OneDrive\\Desktop\\car_ai\\drowsy_driver\\test_video4.mp4: 384x640 (no detections), 7.0ms\n",
      "video 1/1 (296/1201) c:\\Users\\leduc\\OneDrive\\Desktop\\car_ai\\drowsy_driver\\test_video4.mp4: 384x640 (no detections), 9.0ms\n",
      "video 1/1 (297/1201) c:\\Users\\leduc\\OneDrive\\Desktop\\car_ai\\drowsy_driver\\test_video4.mp4: 384x640 (no detections), 8.0ms\n",
      "video 1/1 (298/1201) c:\\Users\\leduc\\OneDrive\\Desktop\\car_ai\\drowsy_driver\\test_video4.mp4: 384x640 (no detections), 8.5ms\n",
      "video 1/1 (299/1201) c:\\Users\\leduc\\OneDrive\\Desktop\\car_ai\\drowsy_driver\\test_video4.mp4: 384x640 (no detections), 7.0ms\n",
      "video 1/1 (300/1201) c:\\Users\\leduc\\OneDrive\\Desktop\\car_ai\\drowsy_driver\\test_video4.mp4: 384x640 (no detections), 11.0ms\n",
      "video 1/1 (301/1201) c:\\Users\\leduc\\OneDrive\\Desktop\\car_ai\\drowsy_driver\\test_video4.mp4: 384x640 (no detections), 7.0ms\n",
      "video 1/1 (302/1201) c:\\Users\\leduc\\OneDrive\\Desktop\\car_ai\\drowsy_driver\\test_video4.mp4: 384x640 (no detections), 7.0ms\n",
      "video 1/1 (303/1201) c:\\Users\\leduc\\OneDrive\\Desktop\\car_ai\\drowsy_driver\\test_video4.mp4: 384x640 (no detections), 7.0ms\n",
      "video 1/1 (304/1201) c:\\Users\\leduc\\OneDrive\\Desktop\\car_ai\\drowsy_driver\\test_video4.mp4: 384x640 (no detections), 7.1ms\n",
      "video 1/1 (305/1201) c:\\Users\\leduc\\OneDrive\\Desktop\\car_ai\\drowsy_driver\\test_video4.mp4: 384x640 (no detections), 31.1ms\n",
      "video 1/1 (306/1201) c:\\Users\\leduc\\OneDrive\\Desktop\\car_ai\\drowsy_driver\\test_video4.mp4: 384x640 (no detections), 39.3ms\n",
      "video 1/1 (307/1201) c:\\Users\\leduc\\OneDrive\\Desktop\\car_ai\\drowsy_driver\\test_video4.mp4: 384x640 (no detections), 24.9ms\n",
      "video 1/1 (308/1201) c:\\Users\\leduc\\OneDrive\\Desktop\\car_ai\\drowsy_driver\\test_video4.mp4: 384x640 (no detections), 6.6ms\n",
      "video 1/1 (309/1201) c:\\Users\\leduc\\OneDrive\\Desktop\\car_ai\\drowsy_driver\\test_video4.mp4: 384x640 (no detections), 7.0ms\n",
      "video 1/1 (310/1201) c:\\Users\\leduc\\OneDrive\\Desktop\\car_ai\\drowsy_driver\\test_video4.mp4: 384x640 (no detections), 7.0ms\n",
      "video 1/1 (311/1201) c:\\Users\\leduc\\OneDrive\\Desktop\\car_ai\\drowsy_driver\\test_video4.mp4: 384x640 (no detections), 7.6ms\n",
      "video 1/1 (312/1201) c:\\Users\\leduc\\OneDrive\\Desktop\\car_ai\\drowsy_driver\\test_video4.mp4: 384x640 (no detections), 7.0ms\n",
      "video 1/1 (313/1201) c:\\Users\\leduc\\OneDrive\\Desktop\\car_ai\\drowsy_driver\\test_video4.mp4: 384x640 (no detections), 7.0ms\n",
      "video 1/1 (314/1201) c:\\Users\\leduc\\OneDrive\\Desktop\\car_ai\\drowsy_driver\\test_video4.mp4: 384x640 (no detections), 7.1ms\n",
      "video 1/1 (315/1201) c:\\Users\\leduc\\OneDrive\\Desktop\\car_ai\\drowsy_driver\\test_video4.mp4: 384x640 (no detections), 7.0ms\n",
      "video 1/1 (316/1201) c:\\Users\\leduc\\OneDrive\\Desktop\\car_ai\\drowsy_driver\\test_video4.mp4: 384x640 (no detections), 7.0ms\n",
      "video 1/1 (317/1201) c:\\Users\\leduc\\OneDrive\\Desktop\\car_ai\\drowsy_driver\\test_video4.mp4: 384x640 (no detections), 7.0ms\n",
      "video 1/1 (318/1201) c:\\Users\\leduc\\OneDrive\\Desktop\\car_ai\\drowsy_driver\\test_video4.mp4: 384x640 (no detections), 7.0ms\n",
      "video 1/1 (319/1201) c:\\Users\\leduc\\OneDrive\\Desktop\\car_ai\\drowsy_driver\\test_video4.mp4: 384x640 (no detections), 7.0ms\n",
      "video 1/1 (320/1201) c:\\Users\\leduc\\OneDrive\\Desktop\\car_ai\\drowsy_driver\\test_video4.mp4: 384x640 (no detections), 7.0ms\n",
      "video 1/1 (321/1201) c:\\Users\\leduc\\OneDrive\\Desktop\\car_ai\\drowsy_driver\\test_video4.mp4: 384x640 (no detections), 8.0ms\n",
      "video 1/1 (322/1201) c:\\Users\\leduc\\OneDrive\\Desktop\\car_ai\\drowsy_driver\\test_video4.mp4: 384x640 (no detections), 7.0ms\n",
      "video 1/1 (323/1201) c:\\Users\\leduc\\OneDrive\\Desktop\\car_ai\\drowsy_driver\\test_video4.mp4: 384x640 (no detections), 7.0ms\n",
      "video 1/1 (324/1201) c:\\Users\\leduc\\OneDrive\\Desktop\\car_ai\\drowsy_driver\\test_video4.mp4: 384x640 (no detections), 7.0ms\n",
      "video 1/1 (325/1201) c:\\Users\\leduc\\OneDrive\\Desktop\\car_ai\\drowsy_driver\\test_video4.mp4: 384x640 (no detections), 7.0ms\n",
      "video 1/1 (326/1201) c:\\Users\\leduc\\OneDrive\\Desktop\\car_ai\\drowsy_driver\\test_video4.mp4: 384x640 (no detections), 8.0ms\n",
      "video 1/1 (327/1201) c:\\Users\\leduc\\OneDrive\\Desktop\\car_ai\\drowsy_driver\\test_video4.mp4: 384x640 (no detections), 7.0ms\n",
      "video 1/1 (328/1201) c:\\Users\\leduc\\OneDrive\\Desktop\\car_ai\\drowsy_driver\\test_video4.mp4: 384x640 (no detections), 8.0ms\n",
      "video 1/1 (329/1201) c:\\Users\\leduc\\OneDrive\\Desktop\\car_ai\\drowsy_driver\\test_video4.mp4: 384x640 (no detections), 7.0ms\n",
      "video 1/1 (330/1201) c:\\Users\\leduc\\OneDrive\\Desktop\\car_ai\\drowsy_driver\\test_video4.mp4: 384x640 (no detections), 7.0ms\n",
      "video 1/1 (331/1201) c:\\Users\\leduc\\OneDrive\\Desktop\\car_ai\\drowsy_driver\\test_video4.mp4: 384x640 (no detections), 7.0ms\n",
      "video 1/1 (332/1201) c:\\Users\\leduc\\OneDrive\\Desktop\\car_ai\\drowsy_driver\\test_video4.mp4: 384x640 (no detections), 8.0ms\n",
      "video 1/1 (333/1201) c:\\Users\\leduc\\OneDrive\\Desktop\\car_ai\\drowsy_driver\\test_video4.mp4: 384x640 (no detections), 7.0ms\n",
      "video 1/1 (334/1201) c:\\Users\\leduc\\OneDrive\\Desktop\\car_ai\\drowsy_driver\\test_video4.mp4: 384x640 (no detections), 8.0ms\n",
      "video 1/1 (335/1201) c:\\Users\\leduc\\OneDrive\\Desktop\\car_ai\\drowsy_driver\\test_video4.mp4: 384x640 (no detections), 7.0ms\n",
      "video 1/1 (336/1201) c:\\Users\\leduc\\OneDrive\\Desktop\\car_ai\\drowsy_driver\\test_video4.mp4: 384x640 (no detections), 7.0ms\n",
      "video 1/1 (337/1201) c:\\Users\\leduc\\OneDrive\\Desktop\\car_ai\\drowsy_driver\\test_video4.mp4: 384x640 (no detections), 7.0ms\n",
      "video 1/1 (338/1201) c:\\Users\\leduc\\OneDrive\\Desktop\\car_ai\\drowsy_driver\\test_video4.mp4: 384x640 (no detections), 8.0ms\n",
      "video 1/1 (339/1201) c:\\Users\\leduc\\OneDrive\\Desktop\\car_ai\\drowsy_driver\\test_video4.mp4: 384x640 (no detections), 7.0ms\n",
      "video 1/1 (340/1201) c:\\Users\\leduc\\OneDrive\\Desktop\\car_ai\\drowsy_driver\\test_video4.mp4: 384x640 (no detections), 7.0ms\n",
      "video 1/1 (341/1201) c:\\Users\\leduc\\OneDrive\\Desktop\\car_ai\\drowsy_driver\\test_video4.mp4: 384x640 (no detections), 7.2ms\n",
      "video 1/1 (342/1201) c:\\Users\\leduc\\OneDrive\\Desktop\\car_ai\\drowsy_driver\\test_video4.mp4: 384x640 (no detections), 7.0ms\n",
      "video 1/1 (343/1201) c:\\Users\\leduc\\OneDrive\\Desktop\\car_ai\\drowsy_driver\\test_video4.mp4: 384x640 (no detections), 7.0ms\n",
      "video 1/1 (344/1201) c:\\Users\\leduc\\OneDrive\\Desktop\\car_ai\\drowsy_driver\\test_video4.mp4: 384x640 (no detections), 7.0ms\n",
      "video 1/1 (345/1201) c:\\Users\\leduc\\OneDrive\\Desktop\\car_ai\\drowsy_driver\\test_video4.mp4: 384x640 (no detections), 7.0ms\n",
      "video 1/1 (346/1201) c:\\Users\\leduc\\OneDrive\\Desktop\\car_ai\\drowsy_driver\\test_video4.mp4: 384x640 (no detections), 7.0ms\n",
      "video 1/1 (347/1201) c:\\Users\\leduc\\OneDrive\\Desktop\\car_ai\\drowsy_driver\\test_video4.mp4: 384x640 (no detections), 8.0ms\n",
      "video 1/1 (348/1201) c:\\Users\\leduc\\OneDrive\\Desktop\\car_ai\\drowsy_driver\\test_video4.mp4: 384x640 (no detections), 7.4ms\n",
      "video 1/1 (349/1201) c:\\Users\\leduc\\OneDrive\\Desktop\\car_ai\\drowsy_driver\\test_video4.mp4: 384x640 (no detections), 6.4ms\n",
      "video 1/1 (350/1201) c:\\Users\\leduc\\OneDrive\\Desktop\\car_ai\\drowsy_driver\\test_video4.mp4: 384x640 (no detections), 7.0ms\n",
      "video 1/1 (351/1201) c:\\Users\\leduc\\OneDrive\\Desktop\\car_ai\\drowsy_driver\\test_video4.mp4: 384x640 (no detections), 8.0ms\n",
      "video 1/1 (352/1201) c:\\Users\\leduc\\OneDrive\\Desktop\\car_ai\\drowsy_driver\\test_video4.mp4: 384x640 (no detections), 8.0ms\n",
      "video 1/1 (353/1201) c:\\Users\\leduc\\OneDrive\\Desktop\\car_ai\\drowsy_driver\\test_video4.mp4: 384x640 (no detections), 8.4ms\n",
      "video 1/1 (354/1201) c:\\Users\\leduc\\OneDrive\\Desktop\\car_ai\\drowsy_driver\\test_video4.mp4: 384x640 (no detections), 7.0ms\n",
      "video 1/1 (355/1201) c:\\Users\\leduc\\OneDrive\\Desktop\\car_ai\\drowsy_driver\\test_video4.mp4: 384x640 (no detections), 7.5ms\n",
      "video 1/1 (356/1201) c:\\Users\\leduc\\OneDrive\\Desktop\\car_ai\\drowsy_driver\\test_video4.mp4: 384x640 (no detections), 7.0ms\n",
      "video 1/1 (357/1201) c:\\Users\\leduc\\OneDrive\\Desktop\\car_ai\\drowsy_driver\\test_video4.mp4: 384x640 (no detections), 7.0ms\n",
      "video 1/1 (358/1201) c:\\Users\\leduc\\OneDrive\\Desktop\\car_ai\\drowsy_driver\\test_video4.mp4: 384x640 (no detections), 7.0ms\n",
      "video 1/1 (359/1201) c:\\Users\\leduc\\OneDrive\\Desktop\\car_ai\\drowsy_driver\\test_video4.mp4: 384x640 (no detections), 8.0ms\n",
      "video 1/1 (360/1201) c:\\Users\\leduc\\OneDrive\\Desktop\\car_ai\\drowsy_driver\\test_video4.mp4: 384x640 (no detections), 7.0ms\n",
      "video 1/1 (361/1201) c:\\Users\\leduc\\OneDrive\\Desktop\\car_ai\\drowsy_driver\\test_video4.mp4: 384x640 (no detections), 8.0ms\n",
      "video 1/1 (362/1201) c:\\Users\\leduc\\OneDrive\\Desktop\\car_ai\\drowsy_driver\\test_video4.mp4: 384x640 (no detections), 7.0ms\n",
      "video 1/1 (363/1201) c:\\Users\\leduc\\OneDrive\\Desktop\\car_ai\\drowsy_driver\\test_video4.mp4: 384x640 (no detections), 8.0ms\n",
      "video 1/1 (364/1201) c:\\Users\\leduc\\OneDrive\\Desktop\\car_ai\\drowsy_driver\\test_video4.mp4: 384x640 (no detections), 8.0ms\n",
      "video 1/1 (365/1201) c:\\Users\\leduc\\OneDrive\\Desktop\\car_ai\\drowsy_driver\\test_video4.mp4: 384x640 (no detections), 7.0ms\n",
      "video 1/1 (366/1201) c:\\Users\\leduc\\OneDrive\\Desktop\\car_ai\\drowsy_driver\\test_video4.mp4: 384x640 (no detections), 7.0ms\n",
      "video 1/1 (367/1201) c:\\Users\\leduc\\OneDrive\\Desktop\\car_ai\\drowsy_driver\\test_video4.mp4: 384x640 (no detections), 9.0ms\n",
      "video 1/1 (368/1201) c:\\Users\\leduc\\OneDrive\\Desktop\\car_ai\\drowsy_driver\\test_video4.mp4: 384x640 (no detections), 8.0ms\n",
      "video 1/1 (369/1201) c:\\Users\\leduc\\OneDrive\\Desktop\\car_ai\\drowsy_driver\\test_video4.mp4: 384x640 (no detections), 7.0ms\n",
      "video 1/1 (370/1201) c:\\Users\\leduc\\OneDrive\\Desktop\\car_ai\\drowsy_driver\\test_video4.mp4: 384x640 (no detections), 7.0ms\n",
      "video 1/1 (371/1201) c:\\Users\\leduc\\OneDrive\\Desktop\\car_ai\\drowsy_driver\\test_video4.mp4: 384x640 (no detections), 7.0ms\n",
      "video 1/1 (372/1201) c:\\Users\\leduc\\OneDrive\\Desktop\\car_ai\\drowsy_driver\\test_video4.mp4: 384x640 (no detections), 7.0ms\n",
      "video 1/1 (373/1201) c:\\Users\\leduc\\OneDrive\\Desktop\\car_ai\\drowsy_driver\\test_video4.mp4: 384x640 (no detections), 7.0ms\n",
      "video 1/1 (374/1201) c:\\Users\\leduc\\OneDrive\\Desktop\\car_ai\\drowsy_driver\\test_video4.mp4: 384x640 (no detections), 7.0ms\n",
      "video 1/1 (375/1201) c:\\Users\\leduc\\OneDrive\\Desktop\\car_ai\\drowsy_driver\\test_video4.mp4: 384x640 (no detections), 8.0ms\n",
      "video 1/1 (376/1201) c:\\Users\\leduc\\OneDrive\\Desktop\\car_ai\\drowsy_driver\\test_video4.mp4: 384x640 (no detections), 7.0ms\n",
      "video 1/1 (377/1201) c:\\Users\\leduc\\OneDrive\\Desktop\\car_ai\\drowsy_driver\\test_video4.mp4: 384x640 (no detections), 8.0ms\n",
      "video 1/1 (378/1201) c:\\Users\\leduc\\OneDrive\\Desktop\\car_ai\\drowsy_driver\\test_video4.mp4: 384x640 (no detections), 7.0ms\n",
      "video 1/1 (379/1201) c:\\Users\\leduc\\OneDrive\\Desktop\\car_ai\\drowsy_driver\\test_video4.mp4: 384x640 (no detections), 7.0ms\n",
      "video 1/1 (380/1201) c:\\Users\\leduc\\OneDrive\\Desktop\\car_ai\\drowsy_driver\\test_video4.mp4: 384x640 (no detections), 7.0ms\n",
      "video 1/1 (381/1201) c:\\Users\\leduc\\OneDrive\\Desktop\\car_ai\\drowsy_driver\\test_video4.mp4: 384x640 (no detections), 7.0ms\n",
      "video 1/1 (382/1201) c:\\Users\\leduc\\OneDrive\\Desktop\\car_ai\\drowsy_driver\\test_video4.mp4: 384x640 (no detections), 8.0ms\n",
      "video 1/1 (383/1201) c:\\Users\\leduc\\OneDrive\\Desktop\\car_ai\\drowsy_driver\\test_video4.mp4: 384x640 (no detections), 7.0ms\n",
      "video 1/1 (384/1201) c:\\Users\\leduc\\OneDrive\\Desktop\\car_ai\\drowsy_driver\\test_video4.mp4: 384x640 1 drowsy, 7.0ms\n",
      "video 1/1 (385/1201) c:\\Users\\leduc\\OneDrive\\Desktop\\car_ai\\drowsy_driver\\test_video4.mp4: 384x640 1 drowsy, 10.0ms\n",
      "video 1/1 (386/1201) c:\\Users\\leduc\\OneDrive\\Desktop\\car_ai\\drowsy_driver\\test_video4.mp4: 384x640 1 drowsy, 7.0ms\n",
      "video 1/1 (387/1201) c:\\Users\\leduc\\OneDrive\\Desktop\\car_ai\\drowsy_driver\\test_video4.mp4: 384x640 (no detections), 8.1ms\n",
      "video 1/1 (388/1201) c:\\Users\\leduc\\OneDrive\\Desktop\\car_ai\\drowsy_driver\\test_video4.mp4: 384x640 1 drowsy, 7.0ms\n",
      "video 1/1 (389/1201) c:\\Users\\leduc\\OneDrive\\Desktop\\car_ai\\drowsy_driver\\test_video4.mp4: 384x640 1 drowsy, 7.0ms\n",
      "video 1/1 (390/1201) c:\\Users\\leduc\\OneDrive\\Desktop\\car_ai\\drowsy_driver\\test_video4.mp4: 384x640 1 drowsy, 10.0ms\n",
      "video 1/1 (391/1201) c:\\Users\\leduc\\OneDrive\\Desktop\\car_ai\\drowsy_driver\\test_video4.mp4: 384x640 1 drowsy, 7.0ms\n",
      "video 1/1 (392/1201) c:\\Users\\leduc\\OneDrive\\Desktop\\car_ai\\drowsy_driver\\test_video4.mp4: 384x640 1 drowsy, 7.0ms\n",
      "video 1/1 (393/1201) c:\\Users\\leduc\\OneDrive\\Desktop\\car_ai\\drowsy_driver\\test_video4.mp4: 384x640 1 drowsy, 7.0ms\n",
      "video 1/1 (394/1201) c:\\Users\\leduc\\OneDrive\\Desktop\\car_ai\\drowsy_driver\\test_video4.mp4: 384x640 1 drowsy, 9.0ms\n",
      "video 1/1 (395/1201) c:\\Users\\leduc\\OneDrive\\Desktop\\car_ai\\drowsy_driver\\test_video4.mp4: 384x640 1 drowsy, 8.5ms\n",
      "video 1/1 (396/1201) c:\\Users\\leduc\\OneDrive\\Desktop\\car_ai\\drowsy_driver\\test_video4.mp4: 384x640 1 drowsy, 7.0ms\n",
      "video 1/1 (397/1201) c:\\Users\\leduc\\OneDrive\\Desktop\\car_ai\\drowsy_driver\\test_video4.mp4: 384x640 1 drowsy, 8.0ms\n",
      "video 1/1 (398/1201) c:\\Users\\leduc\\OneDrive\\Desktop\\car_ai\\drowsy_driver\\test_video4.mp4: 384x640 1 drowsy, 10.0ms\n",
      "video 1/1 (399/1201) c:\\Users\\leduc\\OneDrive\\Desktop\\car_ai\\drowsy_driver\\test_video4.mp4: 384x640 1 drowsy, 7.0ms\n",
      "video 1/1 (400/1201) c:\\Users\\leduc\\OneDrive\\Desktop\\car_ai\\drowsy_driver\\test_video4.mp4: 384x640 1 drowsy, 8.0ms\n",
      "video 1/1 (401/1201) c:\\Users\\leduc\\OneDrive\\Desktop\\car_ai\\drowsy_driver\\test_video4.mp4: 384x640 1 drowsy, 6.0ms\n",
      "video 1/1 (402/1201) c:\\Users\\leduc\\OneDrive\\Desktop\\car_ai\\drowsy_driver\\test_video4.mp4: 384x640 1 drowsy, 7.0ms\n",
      "video 1/1 (403/1201) c:\\Users\\leduc\\OneDrive\\Desktop\\car_ai\\drowsy_driver\\test_video4.mp4: 384x640 1 drowsy, 7.0ms\n",
      "video 1/1 (404/1201) c:\\Users\\leduc\\OneDrive\\Desktop\\car_ai\\drowsy_driver\\test_video4.mp4: 384x640 1 drowsy, 7.0ms\n",
      "video 1/1 (405/1201) c:\\Users\\leduc\\OneDrive\\Desktop\\car_ai\\drowsy_driver\\test_video4.mp4: 384x640 1 drowsy, 7.0ms\n",
      "video 1/1 (406/1201) c:\\Users\\leduc\\OneDrive\\Desktop\\car_ai\\drowsy_driver\\test_video4.mp4: 384x640 1 drowsy, 7.0ms\n",
      "video 1/1 (407/1201) c:\\Users\\leduc\\OneDrive\\Desktop\\car_ai\\drowsy_driver\\test_video4.mp4: 384x640 1 drowsy, 7.0ms\n",
      "video 1/1 (408/1201) c:\\Users\\leduc\\OneDrive\\Desktop\\car_ai\\drowsy_driver\\test_video4.mp4: 384x640 1 drowsy, 8.0ms\n",
      "video 1/1 (409/1201) c:\\Users\\leduc\\OneDrive\\Desktop\\car_ai\\drowsy_driver\\test_video4.mp4: 384x640 1 drowsy, 7.0ms\n",
      "video 1/1 (410/1201) c:\\Users\\leduc\\OneDrive\\Desktop\\car_ai\\drowsy_driver\\test_video4.mp4: 384x640 1 drowsy, 7.0ms\n",
      "video 1/1 (411/1201) c:\\Users\\leduc\\OneDrive\\Desktop\\car_ai\\drowsy_driver\\test_video4.mp4: 384x640 1 drowsy, 7.0ms\n",
      "video 1/1 (412/1201) c:\\Users\\leduc\\OneDrive\\Desktop\\car_ai\\drowsy_driver\\test_video4.mp4: 384x640 1 drowsy, 7.0ms\n",
      "video 1/1 (413/1201) c:\\Users\\leduc\\OneDrive\\Desktop\\car_ai\\drowsy_driver\\test_video4.mp4: 384x640 1 drowsy, 7.0ms\n",
      "video 1/1 (414/1201) c:\\Users\\leduc\\OneDrive\\Desktop\\car_ai\\drowsy_driver\\test_video4.mp4: 384x640 1 drowsy, 7.1ms\n",
      "video 1/1 (415/1201) c:\\Users\\leduc\\OneDrive\\Desktop\\car_ai\\drowsy_driver\\test_video4.mp4: 384x640 1 drowsy, 7.0ms\n",
      "video 1/1 (416/1201) c:\\Users\\leduc\\OneDrive\\Desktop\\car_ai\\drowsy_driver\\test_video4.mp4: 384x640 1 drowsy, 7.0ms\n",
      "video 1/1 (417/1201) c:\\Users\\leduc\\OneDrive\\Desktop\\car_ai\\drowsy_driver\\test_video4.mp4: 384x640 1 drowsy, 8.0ms\n",
      "video 1/1 (418/1201) c:\\Users\\leduc\\OneDrive\\Desktop\\car_ai\\drowsy_driver\\test_video4.mp4: 384x640 1 drowsy, 9.0ms\n",
      "video 1/1 (419/1201) c:\\Users\\leduc\\OneDrive\\Desktop\\car_ai\\drowsy_driver\\test_video4.mp4: 384x640 1 drowsy, 8.0ms\n",
      "video 1/1 (420/1201) c:\\Users\\leduc\\OneDrive\\Desktop\\car_ai\\drowsy_driver\\test_video4.mp4: 384x640 1 drowsy, 7.0ms\n",
      "video 1/1 (421/1201) c:\\Users\\leduc\\OneDrive\\Desktop\\car_ai\\drowsy_driver\\test_video4.mp4: 384x640 1 drowsy, 7.0ms\n",
      "video 1/1 (422/1201) c:\\Users\\leduc\\OneDrive\\Desktop\\car_ai\\drowsy_driver\\test_video4.mp4: 384x640 1 drowsy, 7.0ms\n",
      "video 1/1 (423/1201) c:\\Users\\leduc\\OneDrive\\Desktop\\car_ai\\drowsy_driver\\test_video4.mp4: 384x640 1 drowsy, 7.0ms\n",
      "video 1/1 (424/1201) c:\\Users\\leduc\\OneDrive\\Desktop\\car_ai\\drowsy_driver\\test_video4.mp4: 384x640 1 drowsy, 7.0ms\n",
      "video 1/1 (425/1201) c:\\Users\\leduc\\OneDrive\\Desktop\\car_ai\\drowsy_driver\\test_video4.mp4: 384x640 1 drowsy, 19.9ms\n",
      "video 1/1 (426/1201) c:\\Users\\leduc\\OneDrive\\Desktop\\car_ai\\drowsy_driver\\test_video4.mp4: 384x640 1 drowsy, 11.0ms\n",
      "video 1/1 (427/1201) c:\\Users\\leduc\\OneDrive\\Desktop\\car_ai\\drowsy_driver\\test_video4.mp4: 384x640 1 drowsy, 7.0ms\n",
      "video 1/1 (428/1201) c:\\Users\\leduc\\OneDrive\\Desktop\\car_ai\\drowsy_driver\\test_video4.mp4: 384x640 1 drowsy, 9.4ms\n",
      "video 1/1 (429/1201) c:\\Users\\leduc\\OneDrive\\Desktop\\car_ai\\drowsy_driver\\test_video4.mp4: 384x640 1 drowsy, 11.0ms\n",
      "video 1/1 (430/1201) c:\\Users\\leduc\\OneDrive\\Desktop\\car_ai\\drowsy_driver\\test_video4.mp4: 384x640 1 drowsy, 10.0ms\n",
      "video 1/1 (431/1201) c:\\Users\\leduc\\OneDrive\\Desktop\\car_ai\\drowsy_driver\\test_video4.mp4: 384x640 1 drowsy, 8.0ms\n",
      "video 1/1 (432/1201) c:\\Users\\leduc\\OneDrive\\Desktop\\car_ai\\drowsy_driver\\test_video4.mp4: 384x640 1 drowsy, 7.0ms\n",
      "video 1/1 (433/1201) c:\\Users\\leduc\\OneDrive\\Desktop\\car_ai\\drowsy_driver\\test_video4.mp4: 384x640 1 drowsy, 8.0ms\n",
      "video 1/1 (434/1201) c:\\Users\\leduc\\OneDrive\\Desktop\\car_ai\\drowsy_driver\\test_video4.mp4: 384x640 1 drowsy, 7.4ms\n",
      "video 1/1 (435/1201) c:\\Users\\leduc\\OneDrive\\Desktop\\car_ai\\drowsy_driver\\test_video4.mp4: 384x640 1 drowsy, 8.0ms\n",
      "video 1/1 (436/1201) c:\\Users\\leduc\\OneDrive\\Desktop\\car_ai\\drowsy_driver\\test_video4.mp4: 384x640 1 drowsy, 7.0ms\n",
      "video 1/1 (437/1201) c:\\Users\\leduc\\OneDrive\\Desktop\\car_ai\\drowsy_driver\\test_video4.mp4: 384x640 1 drowsy, 17.2ms\n",
      "video 1/1 (438/1201) c:\\Users\\leduc\\OneDrive\\Desktop\\car_ai\\drowsy_driver\\test_video4.mp4: 384x640 1 drowsy, 7.0ms\n",
      "video 1/1 (439/1201) c:\\Users\\leduc\\OneDrive\\Desktop\\car_ai\\drowsy_driver\\test_video4.mp4: 384x640 1 drowsy, 30.9ms\n",
      "video 1/1 (440/1201) c:\\Users\\leduc\\OneDrive\\Desktop\\car_ai\\drowsy_driver\\test_video4.mp4: 384x640 1 drowsy, 36.8ms\n",
      "video 1/1 (441/1201) c:\\Users\\leduc\\OneDrive\\Desktop\\car_ai\\drowsy_driver\\test_video4.mp4: 384x640 1 drowsy, 20.9ms\n",
      "video 1/1 (442/1201) c:\\Users\\leduc\\OneDrive\\Desktop\\car_ai\\drowsy_driver\\test_video4.mp4: 384x640 1 drowsy, 7.3ms\n",
      "video 1/1 (443/1201) c:\\Users\\leduc\\OneDrive\\Desktop\\car_ai\\drowsy_driver\\test_video4.mp4: 384x640 1 drowsy, 9.0ms\n",
      "video 1/1 (444/1201) c:\\Users\\leduc\\OneDrive\\Desktop\\car_ai\\drowsy_driver\\test_video4.mp4: 384x640 1 drowsy, 7.0ms\n",
      "video 1/1 (445/1201) c:\\Users\\leduc\\OneDrive\\Desktop\\car_ai\\drowsy_driver\\test_video4.mp4: 384x640 1 drowsy, 6.4ms\n",
      "video 1/1 (446/1201) c:\\Users\\leduc\\OneDrive\\Desktop\\car_ai\\drowsy_driver\\test_video4.mp4: 384x640 1 drowsy, 8.0ms\n",
      "video 1/1 (447/1201) c:\\Users\\leduc\\OneDrive\\Desktop\\car_ai\\drowsy_driver\\test_video4.mp4: 384x640 1 drowsy, 31.3ms\n",
      "video 1/1 (448/1201) c:\\Users\\leduc\\OneDrive\\Desktop\\car_ai\\drowsy_driver\\test_video4.mp4: 384x640 1 drowsy, 37.7ms\n",
      "video 1/1 (449/1201) c:\\Users\\leduc\\OneDrive\\Desktop\\car_ai\\drowsy_driver\\test_video4.mp4: 384x640 1 drowsy, 20.9ms\n",
      "video 1/1 (450/1201) c:\\Users\\leduc\\OneDrive\\Desktop\\car_ai\\drowsy_driver\\test_video4.mp4: 384x640 1 drowsy, 7.0ms\n",
      "video 1/1 (451/1201) c:\\Users\\leduc\\OneDrive\\Desktop\\car_ai\\drowsy_driver\\test_video4.mp4: 384x640 1 drowsy, 10.0ms\n",
      "video 1/1 (452/1201) c:\\Users\\leduc\\OneDrive\\Desktop\\car_ai\\drowsy_driver\\test_video4.mp4: 384x640 1 drowsy, 7.0ms\n",
      "video 1/1 (453/1201) c:\\Users\\leduc\\OneDrive\\Desktop\\car_ai\\drowsy_driver\\test_video4.mp4: 384x640 1 drowsy, 8.0ms\n",
      "video 1/1 (454/1201) c:\\Users\\leduc\\OneDrive\\Desktop\\car_ai\\drowsy_driver\\test_video4.mp4: 384x640 1 drowsy, 8.0ms\n",
      "video 1/1 (455/1201) c:\\Users\\leduc\\OneDrive\\Desktop\\car_ai\\drowsy_driver\\test_video4.mp4: 384x640 1 drowsy, 7.4ms\n",
      "video 1/1 (456/1201) c:\\Users\\leduc\\OneDrive\\Desktop\\car_ai\\drowsy_driver\\test_video4.mp4: 384x640 1 drowsy, 7.5ms\n",
      "video 1/1 (457/1201) c:\\Users\\leduc\\OneDrive\\Desktop\\car_ai\\drowsy_driver\\test_video4.mp4: 384x640 1 drowsy, 7.0ms\n",
      "video 1/1 (458/1201) c:\\Users\\leduc\\OneDrive\\Desktop\\car_ai\\drowsy_driver\\test_video4.mp4: 384x640 1 drowsy, 7.4ms\n",
      "video 1/1 (459/1201) c:\\Users\\leduc\\OneDrive\\Desktop\\car_ai\\drowsy_driver\\test_video4.mp4: 384x640 1 drowsy, 7.0ms\n",
      "video 1/1 (460/1201) c:\\Users\\leduc\\OneDrive\\Desktop\\car_ai\\drowsy_driver\\test_video4.mp4: 384x640 1 drowsy, 8.0ms\n",
      "video 1/1 (461/1201) c:\\Users\\leduc\\OneDrive\\Desktop\\car_ai\\drowsy_driver\\test_video4.mp4: 384x640 1 drowsy, 6.4ms\n",
      "video 1/1 (462/1201) c:\\Users\\leduc\\OneDrive\\Desktop\\car_ai\\drowsy_driver\\test_video4.mp4: 384x640 1 drowsy, 8.0ms\n",
      "video 1/1 (463/1201) c:\\Users\\leduc\\OneDrive\\Desktop\\car_ai\\drowsy_driver\\test_video4.mp4: 384x640 1 drowsy, 7.0ms\n",
      "video 1/1 (464/1201) c:\\Users\\leduc\\OneDrive\\Desktop\\car_ai\\drowsy_driver\\test_video4.mp4: 384x640 1 drowsy, 7.5ms\n",
      "video 1/1 (465/1201) c:\\Users\\leduc\\OneDrive\\Desktop\\car_ai\\drowsy_driver\\test_video4.mp4: 384x640 1 drowsy, 7.0ms\n",
      "video 1/1 (466/1201) c:\\Users\\leduc\\OneDrive\\Desktop\\car_ai\\drowsy_driver\\test_video4.mp4: 384x640 1 drowsy, 6.9ms\n",
      "video 1/1 (467/1201) c:\\Users\\leduc\\OneDrive\\Desktop\\car_ai\\drowsy_driver\\test_video4.mp4: 384x640 1 drowsy, 7.0ms\n",
      "video 1/1 (468/1201) c:\\Users\\leduc\\OneDrive\\Desktop\\car_ai\\drowsy_driver\\test_video4.mp4: 384x640 1 drowsy, 7.0ms\n",
      "video 1/1 (469/1201) c:\\Users\\leduc\\OneDrive\\Desktop\\car_ai\\drowsy_driver\\test_video4.mp4: 384x640 1 drowsy, 11.0ms\n",
      "video 1/1 (470/1201) c:\\Users\\leduc\\OneDrive\\Desktop\\car_ai\\drowsy_driver\\test_video4.mp4: 384x640 1 drowsy, 12.0ms\n",
      "video 1/1 (471/1201) c:\\Users\\leduc\\OneDrive\\Desktop\\car_ai\\drowsy_driver\\test_video4.mp4: 384x640 1 drowsy, 7.0ms\n",
      "video 1/1 (472/1201) c:\\Users\\leduc\\OneDrive\\Desktop\\car_ai\\drowsy_driver\\test_video4.mp4: 384x640 1 drowsy, 10.3ms\n",
      "video 1/1 (473/1201) c:\\Users\\leduc\\OneDrive\\Desktop\\car_ai\\drowsy_driver\\test_video4.mp4: 384x640 1 drowsy, 7.4ms\n",
      "video 1/1 (474/1201) c:\\Users\\leduc\\OneDrive\\Desktop\\car_ai\\drowsy_driver\\test_video4.mp4: 384x640 1 drowsy, 7.6ms\n",
      "video 1/1 (475/1201) c:\\Users\\leduc\\OneDrive\\Desktop\\car_ai\\drowsy_driver\\test_video4.mp4: 384x640 1 drowsy, 7.3ms\n",
      "video 1/1 (476/1201) c:\\Users\\leduc\\OneDrive\\Desktop\\car_ai\\drowsy_driver\\test_video4.mp4: 384x640 1 drowsy, 8.0ms\n",
      "video 1/1 (477/1201) c:\\Users\\leduc\\OneDrive\\Desktop\\car_ai\\drowsy_driver\\test_video4.mp4: 384x640 1 drowsy, 13.5ms\n",
      "video 1/1 (478/1201) c:\\Users\\leduc\\OneDrive\\Desktop\\car_ai\\drowsy_driver\\test_video4.mp4: 384x640 1 drowsy, 8.0ms\n",
      "video 1/1 (479/1201) c:\\Users\\leduc\\OneDrive\\Desktop\\car_ai\\drowsy_driver\\test_video4.mp4: 384x640 1 drowsy, 9.0ms\n",
      "video 1/1 (480/1201) c:\\Users\\leduc\\OneDrive\\Desktop\\car_ai\\drowsy_driver\\test_video4.mp4: 384x640 1 drowsy, 7.0ms\n",
      "video 1/1 (481/1201) c:\\Users\\leduc\\OneDrive\\Desktop\\car_ai\\drowsy_driver\\test_video4.mp4: 384x640 1 drowsy, 7.0ms\n",
      "video 1/1 (482/1201) c:\\Users\\leduc\\OneDrive\\Desktop\\car_ai\\drowsy_driver\\test_video4.mp4: 384x640 1 drowsy, 9.4ms\n",
      "video 1/1 (483/1201) c:\\Users\\leduc\\OneDrive\\Desktop\\car_ai\\drowsy_driver\\test_video4.mp4: 384x640 1 drowsy, 7.0ms\n",
      "video 1/1 (484/1201) c:\\Users\\leduc\\OneDrive\\Desktop\\car_ai\\drowsy_driver\\test_video4.mp4: 384x640 1 drowsy, 7.5ms\n",
      "video 1/1 (485/1201) c:\\Users\\leduc\\OneDrive\\Desktop\\car_ai\\drowsy_driver\\test_video4.mp4: 384x640 1 drowsy, 8.0ms\n",
      "video 1/1 (486/1201) c:\\Users\\leduc\\OneDrive\\Desktop\\car_ai\\drowsy_driver\\test_video4.mp4: 384x640 1 drowsy, 31.4ms\n",
      "video 1/1 (487/1201) c:\\Users\\leduc\\OneDrive\\Desktop\\car_ai\\drowsy_driver\\test_video4.mp4: 384x640 1 drowsy, 37.1ms\n",
      "video 1/1 (488/1201) c:\\Users\\leduc\\OneDrive\\Desktop\\car_ai\\drowsy_driver\\test_video4.mp4: 384x640 1 drowsy, 24.9ms\n",
      "video 1/1 (489/1201) c:\\Users\\leduc\\OneDrive\\Desktop\\car_ai\\drowsy_driver\\test_video4.mp4: 384x640 1 drowsy, 6.9ms\n",
      "video 1/1 (490/1201) c:\\Users\\leduc\\OneDrive\\Desktop\\car_ai\\drowsy_driver\\test_video4.mp4: 384x640 1 drowsy, 7.0ms\n",
      "video 1/1 (491/1201) c:\\Users\\leduc\\OneDrive\\Desktop\\car_ai\\drowsy_driver\\test_video4.mp4: 384x640 1 drowsy, 8.0ms\n",
      "video 1/1 (492/1201) c:\\Users\\leduc\\OneDrive\\Desktop\\car_ai\\drowsy_driver\\test_video4.mp4: 384x640 1 drowsy, 7.0ms\n",
      "video 1/1 (493/1201) c:\\Users\\leduc\\OneDrive\\Desktop\\car_ai\\drowsy_driver\\test_video4.mp4: 384x640 1 drowsy, 7.0ms\n",
      "video 1/1 (494/1201) c:\\Users\\leduc\\OneDrive\\Desktop\\car_ai\\drowsy_driver\\test_video4.mp4: 384x640 1 drowsy, 6.9ms\n",
      "video 1/1 (495/1201) c:\\Users\\leduc\\OneDrive\\Desktop\\car_ai\\drowsy_driver\\test_video4.mp4: 384x640 1 drowsy, 8.0ms\n",
      "video 1/1 (496/1201) c:\\Users\\leduc\\OneDrive\\Desktop\\car_ai\\drowsy_driver\\test_video4.mp4: 384x640 1 drowsy, 7.0ms\n",
      "video 1/1 (497/1201) c:\\Users\\leduc\\OneDrive\\Desktop\\car_ai\\drowsy_driver\\test_video4.mp4: 384x640 1 drowsy, 9.0ms\n",
      "video 1/1 (498/1201) c:\\Users\\leduc\\OneDrive\\Desktop\\car_ai\\drowsy_driver\\test_video4.mp4: 384x640 1 drowsy, 9.9ms\n",
      "video 1/1 (499/1201) c:\\Users\\leduc\\OneDrive\\Desktop\\car_ai\\drowsy_driver\\test_video4.mp4: 384x640 1 drowsy, 8.0ms\n",
      "video 1/1 (500/1201) c:\\Users\\leduc\\OneDrive\\Desktop\\car_ai\\drowsy_driver\\test_video4.mp4: 384x640 1 drowsy, 8.0ms\n",
      "video 1/1 (501/1201) c:\\Users\\leduc\\OneDrive\\Desktop\\car_ai\\drowsy_driver\\test_video4.mp4: 384x640 1 drowsy, 8.0ms\n",
      "video 1/1 (502/1201) c:\\Users\\leduc\\OneDrive\\Desktop\\car_ai\\drowsy_driver\\test_video4.mp4: 384x640 1 drowsy, 10.0ms\n",
      "video 1/1 (503/1201) c:\\Users\\leduc\\OneDrive\\Desktop\\car_ai\\drowsy_driver\\test_video4.mp4: 384x640 1 drowsy, 11.0ms\n",
      "video 1/1 (504/1201) c:\\Users\\leduc\\OneDrive\\Desktop\\car_ai\\drowsy_driver\\test_video4.mp4: 384x640 1 drowsy, 7.0ms\n",
      "video 1/1 (505/1201) c:\\Users\\leduc\\OneDrive\\Desktop\\car_ai\\drowsy_driver\\test_video4.mp4: 384x640 1 drowsy, 7.0ms\n",
      "video 1/1 (506/1201) c:\\Users\\leduc\\OneDrive\\Desktop\\car_ai\\drowsy_driver\\test_video4.mp4: 384x640 1 drowsy, 7.9ms\n",
      "video 1/1 (507/1201) c:\\Users\\leduc\\OneDrive\\Desktop\\car_ai\\drowsy_driver\\test_video4.mp4: 384x640 1 drowsy, 6.0ms\n",
      "video 1/1 (508/1201) c:\\Users\\leduc\\OneDrive\\Desktop\\car_ai\\drowsy_driver\\test_video4.mp4: 384x640 1 drowsy, 7.0ms\n",
      "video 1/1 (509/1201) c:\\Users\\leduc\\OneDrive\\Desktop\\car_ai\\drowsy_driver\\test_video4.mp4: 384x640 1 drowsy, 8.9ms\n",
      "video 1/1 (510/1201) c:\\Users\\leduc\\OneDrive\\Desktop\\car_ai\\drowsy_driver\\test_video4.mp4: 384x640 1 drowsy, 10.0ms\n",
      "video 1/1 (511/1201) c:\\Users\\leduc\\OneDrive\\Desktop\\car_ai\\drowsy_driver\\test_video4.mp4: 384x640 1 drowsy, 6.9ms\n",
      "video 1/1 (512/1201) c:\\Users\\leduc\\OneDrive\\Desktop\\car_ai\\drowsy_driver\\test_video4.mp4: 384x640 1 drowsy, 8.9ms\n",
      "video 1/1 (513/1201) c:\\Users\\leduc\\OneDrive\\Desktop\\car_ai\\drowsy_driver\\test_video4.mp4: 384x640 1 drowsy, 7.0ms\n",
      "video 1/1 (514/1201) c:\\Users\\leduc\\OneDrive\\Desktop\\car_ai\\drowsy_driver\\test_video4.mp4: 384x640 1 drowsy, 7.0ms\n",
      "video 1/1 (515/1201) c:\\Users\\leduc\\OneDrive\\Desktop\\car_ai\\drowsy_driver\\test_video4.mp4: 384x640 1 drowsy, 10.0ms\n",
      "video 1/1 (516/1201) c:\\Users\\leduc\\OneDrive\\Desktop\\car_ai\\drowsy_driver\\test_video4.mp4: 384x640 1 drowsy, 7.0ms\n",
      "video 1/1 (517/1201) c:\\Users\\leduc\\OneDrive\\Desktop\\car_ai\\drowsy_driver\\test_video4.mp4: 384x640 1 drowsy, 9.0ms\n",
      "video 1/1 (518/1201) c:\\Users\\leduc\\OneDrive\\Desktop\\car_ai\\drowsy_driver\\test_video4.mp4: 384x640 1 drowsy, 7.0ms\n",
      "video 1/1 (519/1201) c:\\Users\\leduc\\OneDrive\\Desktop\\car_ai\\drowsy_driver\\test_video4.mp4: 384x640 1 drowsy, 14.1ms\n",
      "video 1/1 (520/1201) c:\\Users\\leduc\\OneDrive\\Desktop\\car_ai\\drowsy_driver\\test_video4.mp4: 384x640 1 drowsy, 13.1ms\n",
      "video 1/1 (521/1201) c:\\Users\\leduc\\OneDrive\\Desktop\\car_ai\\drowsy_driver\\test_video4.mp4: 384x640 1 drowsy, 12.0ms\n",
      "video 1/1 (522/1201) c:\\Users\\leduc\\OneDrive\\Desktop\\car_ai\\drowsy_driver\\test_video4.mp4: 384x640 1 drowsy, 12.0ms\n",
      "video 1/1 (523/1201) c:\\Users\\leduc\\OneDrive\\Desktop\\car_ai\\drowsy_driver\\test_video4.mp4: 384x640 1 drowsy, 9.9ms\n",
      "video 1/1 (524/1201) c:\\Users\\leduc\\OneDrive\\Desktop\\car_ai\\drowsy_driver\\test_video4.mp4: 384x640 1 drowsy, 8.0ms\n",
      "video 1/1 (525/1201) c:\\Users\\leduc\\OneDrive\\Desktop\\car_ai\\drowsy_driver\\test_video4.mp4: 384x640 1 drowsy, 10.1ms\n",
      "video 1/1 (526/1201) c:\\Users\\leduc\\OneDrive\\Desktop\\car_ai\\drowsy_driver\\test_video4.mp4: 384x640 1 drowsy, 8.9ms\n",
      "video 1/1 (527/1201) c:\\Users\\leduc\\OneDrive\\Desktop\\car_ai\\drowsy_driver\\test_video4.mp4: 384x640 1 drowsy, 10.0ms\n",
      "video 1/1 (528/1201) c:\\Users\\leduc\\OneDrive\\Desktop\\car_ai\\drowsy_driver\\test_video4.mp4: 384x640 1 drowsy, 9.0ms\n",
      "video 1/1 (529/1201) c:\\Users\\leduc\\OneDrive\\Desktop\\car_ai\\drowsy_driver\\test_video4.mp4: 384x640 1 drowsy, 8.0ms\n",
      "video 1/1 (530/1201) c:\\Users\\leduc\\OneDrive\\Desktop\\car_ai\\drowsy_driver\\test_video4.mp4: 384x640 1 drowsy, 9.9ms\n",
      "video 1/1 (531/1201) c:\\Users\\leduc\\OneDrive\\Desktop\\car_ai\\drowsy_driver\\test_video4.mp4: 384x640 1 drowsy, 11.0ms\n",
      "video 1/1 (532/1201) c:\\Users\\leduc\\OneDrive\\Desktop\\car_ai\\drowsy_driver\\test_video4.mp4: 384x640 1 drowsy, 9.0ms\n",
      "video 1/1 (533/1201) c:\\Users\\leduc\\OneDrive\\Desktop\\car_ai\\drowsy_driver\\test_video4.mp4: 384x640 1 drowsy, 10.0ms\n",
      "video 1/1 (534/1201) c:\\Users\\leduc\\OneDrive\\Desktop\\car_ai\\drowsy_driver\\test_video4.mp4: 384x640 1 drowsy, 10.0ms\n",
      "video 1/1 (535/1201) c:\\Users\\leduc\\OneDrive\\Desktop\\car_ai\\drowsy_driver\\test_video4.mp4: 384x640 1 drowsy, 12.0ms\n",
      "video 1/1 (536/1201) c:\\Users\\leduc\\OneDrive\\Desktop\\car_ai\\drowsy_driver\\test_video4.mp4: 384x640 1 drowsy, 9.0ms\n",
      "video 1/1 (537/1201) c:\\Users\\leduc\\OneDrive\\Desktop\\car_ai\\drowsy_driver\\test_video4.mp4: 384x640 1 drowsy, 7.1ms\n",
      "video 1/1 (538/1201) c:\\Users\\leduc\\OneDrive\\Desktop\\car_ai\\drowsy_driver\\test_video4.mp4: 384x640 1 drowsy, 9.0ms\n",
      "video 1/1 (539/1201) c:\\Users\\leduc\\OneDrive\\Desktop\\car_ai\\drowsy_driver\\test_video4.mp4: 384x640 1 drowsy, 12.0ms\n",
      "video 1/1 (540/1201) c:\\Users\\leduc\\OneDrive\\Desktop\\car_ai\\drowsy_driver\\test_video4.mp4: 384x640 1 drowsy, 11.0ms\n",
      "video 1/1 (541/1201) c:\\Users\\leduc\\OneDrive\\Desktop\\car_ai\\drowsy_driver\\test_video4.mp4: 384x640 1 drowsy, 11.9ms\n",
      "video 1/1 (542/1201) c:\\Users\\leduc\\OneDrive\\Desktop\\car_ai\\drowsy_driver\\test_video4.mp4: 384x640 1 drowsy, 12.9ms\n",
      "video 1/1 (543/1201) c:\\Users\\leduc\\OneDrive\\Desktop\\car_ai\\drowsy_driver\\test_video4.mp4: 384x640 1 drowsy, 9.9ms\n",
      "video 1/1 (544/1201) c:\\Users\\leduc\\OneDrive\\Desktop\\car_ai\\drowsy_driver\\test_video4.mp4: 384x640 1 drowsy, 11.0ms\n",
      "video 1/1 (545/1201) c:\\Users\\leduc\\OneDrive\\Desktop\\car_ai\\drowsy_driver\\test_video4.mp4: 384x640 1 drowsy, 9.0ms\n",
      "video 1/1 (546/1201) c:\\Users\\leduc\\OneDrive\\Desktop\\car_ai\\drowsy_driver\\test_video4.mp4: 384x640 1 drowsy, 13.0ms\n",
      "video 1/1 (547/1201) c:\\Users\\leduc\\OneDrive\\Desktop\\car_ai\\drowsy_driver\\test_video4.mp4: 384x640 1 drowsy, 9.9ms\n",
      "video 1/1 (548/1201) c:\\Users\\leduc\\OneDrive\\Desktop\\car_ai\\drowsy_driver\\test_video4.mp4: 384x640 1 drowsy, 10.0ms\n",
      "video 1/1 (549/1201) c:\\Users\\leduc\\OneDrive\\Desktop\\car_ai\\drowsy_driver\\test_video4.mp4: 384x640 1 drowsy, 10.0ms\n",
      "video 1/1 (550/1201) c:\\Users\\leduc\\OneDrive\\Desktop\\car_ai\\drowsy_driver\\test_video4.mp4: 384x640 1 drowsy, 10.9ms\n",
      "video 1/1 (551/1201) c:\\Users\\leduc\\OneDrive\\Desktop\\car_ai\\drowsy_driver\\test_video4.mp4: 384x640 1 drowsy, 8.0ms\n",
      "video 1/1 (552/1201) c:\\Users\\leduc\\OneDrive\\Desktop\\car_ai\\drowsy_driver\\test_video4.mp4: 384x640 1 drowsy, 12.5ms\n",
      "video 1/1 (553/1201) c:\\Users\\leduc\\OneDrive\\Desktop\\car_ai\\drowsy_driver\\test_video4.mp4: 384x640 1 drowsy, 11.5ms\n",
      "video 1/1 (554/1201) c:\\Users\\leduc\\OneDrive\\Desktop\\car_ai\\drowsy_driver\\test_video4.mp4: 384x640 1 drowsy, 6.7ms\n",
      "video 1/1 (555/1201) c:\\Users\\leduc\\OneDrive\\Desktop\\car_ai\\drowsy_driver\\test_video4.mp4: 384x640 1 drowsy, 11.3ms\n",
      "video 1/1 (556/1201) c:\\Users\\leduc\\OneDrive\\Desktop\\car_ai\\drowsy_driver\\test_video4.mp4: 384x640 1 drowsy, 14.1ms\n",
      "video 1/1 (557/1201) c:\\Users\\leduc\\OneDrive\\Desktop\\car_ai\\drowsy_driver\\test_video4.mp4: 384x640 1 drowsy, 9.9ms\n",
      "video 1/1 (558/1201) c:\\Users\\leduc\\OneDrive\\Desktop\\car_ai\\drowsy_driver\\test_video4.mp4: 384x640 1 drowsy, 11.4ms\n",
      "video 1/1 (559/1201) c:\\Users\\leduc\\OneDrive\\Desktop\\car_ai\\drowsy_driver\\test_video4.mp4: 384x640 1 drowsy, 7.2ms\n",
      "video 1/1 (560/1201) c:\\Users\\leduc\\OneDrive\\Desktop\\car_ai\\drowsy_driver\\test_video4.mp4: 384x640 1 drowsy, 6.6ms\n",
      "video 1/1 (561/1201) c:\\Users\\leduc\\OneDrive\\Desktop\\car_ai\\drowsy_driver\\test_video4.mp4: 384x640 1 drowsy, 6.0ms\n",
      "video 1/1 (562/1201) c:\\Users\\leduc\\OneDrive\\Desktop\\car_ai\\drowsy_driver\\test_video4.mp4: 384x640 1 drowsy, 8.5ms\n",
      "video 1/1 (563/1201) c:\\Users\\leduc\\OneDrive\\Desktop\\car_ai\\drowsy_driver\\test_video4.mp4: 384x640 1 drowsy, 8.4ms\n",
      "video 1/1 (564/1201) c:\\Users\\leduc\\OneDrive\\Desktop\\car_ai\\drowsy_driver\\test_video4.mp4: 384x640 1 drowsy, 11.4ms\n",
      "video 1/1 (565/1201) c:\\Users\\leduc\\OneDrive\\Desktop\\car_ai\\drowsy_driver\\test_video4.mp4: 384x640 1 drowsy, 8.3ms\n",
      "video 1/1 (566/1201) c:\\Users\\leduc\\OneDrive\\Desktop\\car_ai\\drowsy_driver\\test_video4.mp4: 384x640 1 drowsy, 11.5ms\n",
      "video 1/1 (567/1201) c:\\Users\\leduc\\OneDrive\\Desktop\\car_ai\\drowsy_driver\\test_video4.mp4: 384x640 1 drowsy, 10.7ms\n",
      "video 1/1 (568/1201) c:\\Users\\leduc\\OneDrive\\Desktop\\car_ai\\drowsy_driver\\test_video4.mp4: 384x640 1 drowsy, 9.0ms\n",
      "video 1/1 (569/1201) c:\\Users\\leduc\\OneDrive\\Desktop\\car_ai\\drowsy_driver\\test_video4.mp4: 384x640 1 drowsy, 11.9ms\n",
      "video 1/1 (570/1201) c:\\Users\\leduc\\OneDrive\\Desktop\\car_ai\\drowsy_driver\\test_video4.mp4: 384x640 1 drowsy, 11.0ms\n",
      "video 1/1 (571/1201) c:\\Users\\leduc\\OneDrive\\Desktop\\car_ai\\drowsy_driver\\test_video4.mp4: 384x640 1 drowsy, 11.0ms\n",
      "video 1/1 (572/1201) c:\\Users\\leduc\\OneDrive\\Desktop\\car_ai\\drowsy_driver\\test_video4.mp4: 384x640 1 drowsy, 9.9ms\n",
      "video 1/1 (573/1201) c:\\Users\\leduc\\OneDrive\\Desktop\\car_ai\\drowsy_driver\\test_video4.mp4: 384x640 1 drowsy, 7.0ms\n",
      "video 1/1 (574/1201) c:\\Users\\leduc\\OneDrive\\Desktop\\car_ai\\drowsy_driver\\test_video4.mp4: 384x640 1 drowsy, 7.0ms\n",
      "video 1/1 (575/1201) c:\\Users\\leduc\\OneDrive\\Desktop\\car_ai\\drowsy_driver\\test_video4.mp4: 384x640 1 drowsy, 8.2ms\n",
      "video 1/1 (576/1201) c:\\Users\\leduc\\OneDrive\\Desktop\\car_ai\\drowsy_driver\\test_video4.mp4: 384x640 1 drowsy, 11.2ms\n",
      "video 1/1 (577/1201) c:\\Users\\leduc\\OneDrive\\Desktop\\car_ai\\drowsy_driver\\test_video4.mp4: 384x640 1 drowsy, 7.0ms\n",
      "video 1/1 (578/1201) c:\\Users\\leduc\\OneDrive\\Desktop\\car_ai\\drowsy_driver\\test_video4.mp4: 384x640 1 drowsy, 13.2ms\n",
      "video 1/1 (579/1201) c:\\Users\\leduc\\OneDrive\\Desktop\\car_ai\\drowsy_driver\\test_video4.mp4: 384x640 1 drowsy, 12.3ms\n",
      "video 1/1 (580/1201) c:\\Users\\leduc\\OneDrive\\Desktop\\car_ai\\drowsy_driver\\test_video4.mp4: 384x640 1 drowsy, 11.0ms\n",
      "video 1/1 (581/1201) c:\\Users\\leduc\\OneDrive\\Desktop\\car_ai\\drowsy_driver\\test_video4.mp4: 384x640 1 drowsy, 14.9ms\n",
      "video 1/1 (582/1201) c:\\Users\\leduc\\OneDrive\\Desktop\\car_ai\\drowsy_driver\\test_video4.mp4: 384x640 1 drowsy, 13.0ms\n",
      "video 1/1 (583/1201) c:\\Users\\leduc\\OneDrive\\Desktop\\car_ai\\drowsy_driver\\test_video4.mp4: 384x640 1 drowsy, 11.0ms\n",
      "video 1/1 (584/1201) c:\\Users\\leduc\\OneDrive\\Desktop\\car_ai\\drowsy_driver\\test_video4.mp4: 384x640 1 drowsy, 10.0ms\n",
      "video 1/1 (585/1201) c:\\Users\\leduc\\OneDrive\\Desktop\\car_ai\\drowsy_driver\\test_video4.mp4: 384x640 1 drowsy, 11.0ms\n",
      "video 1/1 (586/1201) c:\\Users\\leduc\\OneDrive\\Desktop\\car_ai\\drowsy_driver\\test_video4.mp4: 384x640 1 drowsy, 15.0ms\n",
      "video 1/1 (587/1201) c:\\Users\\leduc\\OneDrive\\Desktop\\car_ai\\drowsy_driver\\test_video4.mp4: 384x640 1 drowsy, 13.0ms\n",
      "video 1/1 (588/1201) c:\\Users\\leduc\\OneDrive\\Desktop\\car_ai\\drowsy_driver\\test_video4.mp4: 384x640 1 drowsy, 13.0ms\n",
      "video 1/1 (589/1201) c:\\Users\\leduc\\OneDrive\\Desktop\\car_ai\\drowsy_driver\\test_video4.mp4: 384x640 1 drowsy, 10.0ms\n",
      "video 1/1 (590/1201) c:\\Users\\leduc\\OneDrive\\Desktop\\car_ai\\drowsy_driver\\test_video4.mp4: 384x640 1 drowsy, 13.6ms\n",
      "video 1/1 (591/1201) c:\\Users\\leduc\\OneDrive\\Desktop\\car_ai\\drowsy_driver\\test_video4.mp4: 384x640 1 drowsy, 15.7ms\n",
      "video 1/1 (592/1201) c:\\Users\\leduc\\OneDrive\\Desktop\\car_ai\\drowsy_driver\\test_video4.mp4: 384x640 1 drowsy, 10.3ms\n",
      "video 1/1 (593/1201) c:\\Users\\leduc\\OneDrive\\Desktop\\car_ai\\drowsy_driver\\test_video4.mp4: 384x640 1 drowsy, 12.0ms\n",
      "video 1/1 (594/1201) c:\\Users\\leduc\\OneDrive\\Desktop\\car_ai\\drowsy_driver\\test_video4.mp4: 384x640 1 drowsy, 14.9ms\n",
      "video 1/1 (595/1201) c:\\Users\\leduc\\OneDrive\\Desktop\\car_ai\\drowsy_driver\\test_video4.mp4: 384x640 1 drowsy, 11.0ms\n",
      "video 1/1 (596/1201) c:\\Users\\leduc\\OneDrive\\Desktop\\car_ai\\drowsy_driver\\test_video4.mp4: 384x640 1 drowsy, 12.1ms\n",
      "video 1/1 (597/1201) c:\\Users\\leduc\\OneDrive\\Desktop\\car_ai\\drowsy_driver\\test_video4.mp4: 384x640 1 drowsy, 12.0ms\n",
      "video 1/1 (598/1201) c:\\Users\\leduc\\OneDrive\\Desktop\\car_ai\\drowsy_driver\\test_video4.mp4: 384x640 1 drowsy, 13.0ms\n",
      "video 1/1 (599/1201) c:\\Users\\leduc\\OneDrive\\Desktop\\car_ai\\drowsy_driver\\test_video4.mp4: 384x640 1 drowsy, 7.0ms\n",
      "video 1/1 (600/1201) c:\\Users\\leduc\\OneDrive\\Desktop\\car_ai\\drowsy_driver\\test_video4.mp4: 384x640 1 drowsy, 13.1ms\n",
      "video 1/1 (601/1201) c:\\Users\\leduc\\OneDrive\\Desktop\\car_ai\\drowsy_driver\\test_video4.mp4: 384x640 1 drowsy, 12.0ms\n",
      "video 1/1 (602/1201) c:\\Users\\leduc\\OneDrive\\Desktop\\car_ai\\drowsy_driver\\test_video4.mp4: 384x640 1 drowsy, 13.5ms\n",
      "video 1/1 (603/1201) c:\\Users\\leduc\\OneDrive\\Desktop\\car_ai\\drowsy_driver\\test_video4.mp4: 384x640 1 drowsy, 13.6ms\n",
      "video 1/1 (604/1201) c:\\Users\\leduc\\OneDrive\\Desktop\\car_ai\\drowsy_driver\\test_video4.mp4: 384x640 1 drowsy, 11.8ms\n",
      "video 1/1 (605/1201) c:\\Users\\leduc\\OneDrive\\Desktop\\car_ai\\drowsy_driver\\test_video4.mp4: 384x640 1 drowsy, 7.0ms\n",
      "video 1/1 (606/1201) c:\\Users\\leduc\\OneDrive\\Desktop\\car_ai\\drowsy_driver\\test_video4.mp4: 384x640 1 drowsy, 13.5ms\n",
      "video 1/1 (607/1201) c:\\Users\\leduc\\OneDrive\\Desktop\\car_ai\\drowsy_driver\\test_video4.mp4: 384x640 1 drowsy, 9.0ms\n",
      "video 1/1 (608/1201) c:\\Users\\leduc\\OneDrive\\Desktop\\car_ai\\drowsy_driver\\test_video4.mp4: 384x640 1 drowsy, 11.9ms\n",
      "video 1/1 (609/1201) c:\\Users\\leduc\\OneDrive\\Desktop\\car_ai\\drowsy_driver\\test_video4.mp4: 384x640 1 drowsy, 11.9ms\n",
      "video 1/1 (610/1201) c:\\Users\\leduc\\OneDrive\\Desktop\\car_ai\\drowsy_driver\\test_video4.mp4: 384x640 1 drowsy, 6.9ms\n",
      "video 1/1 (611/1201) c:\\Users\\leduc\\OneDrive\\Desktop\\car_ai\\drowsy_driver\\test_video4.mp4: 384x640 1 drowsy, 7.0ms\n",
      "video 1/1 (612/1201) c:\\Users\\leduc\\OneDrive\\Desktop\\car_ai\\drowsy_driver\\test_video4.mp4: 384x640 1 drowsy, 7.8ms\n",
      "video 1/1 (613/1201) c:\\Users\\leduc\\OneDrive\\Desktop\\car_ai\\drowsy_driver\\test_video4.mp4: 384x640 1 drowsy, 7.4ms\n",
      "video 1/1 (614/1201) c:\\Users\\leduc\\OneDrive\\Desktop\\car_ai\\drowsy_driver\\test_video4.mp4: 384x640 1 drowsy, 11.9ms\n",
      "video 1/1 (615/1201) c:\\Users\\leduc\\OneDrive\\Desktop\\car_ai\\drowsy_driver\\test_video4.mp4: 384x640 1 drowsy, 15.3ms\n",
      "video 1/1 (616/1201) c:\\Users\\leduc\\OneDrive\\Desktop\\car_ai\\drowsy_driver\\test_video4.mp4: 384x640 1 drowsy, 11.0ms\n",
      "video 1/1 (617/1201) c:\\Users\\leduc\\OneDrive\\Desktop\\car_ai\\drowsy_driver\\test_video4.mp4: 384x640 1 drowsy, 12.4ms\n",
      "video 1/1 (618/1201) c:\\Users\\leduc\\OneDrive\\Desktop\\car_ai\\drowsy_driver\\test_video4.mp4: 384x640 1 drowsy, 9.0ms\n",
      "video 1/1 (619/1201) c:\\Users\\leduc\\OneDrive\\Desktop\\car_ai\\drowsy_driver\\test_video4.mp4: 384x640 1 drowsy, 11.0ms\n",
      "video 1/1 (620/1201) c:\\Users\\leduc\\OneDrive\\Desktop\\car_ai\\drowsy_driver\\test_video4.mp4: 384x640 1 drowsy, 7.1ms\n",
      "video 1/1 (621/1201) c:\\Users\\leduc\\OneDrive\\Desktop\\car_ai\\drowsy_driver\\test_video4.mp4: 384x640 1 drowsy, 12.0ms\n",
      "video 1/1 (622/1201) c:\\Users\\leduc\\OneDrive\\Desktop\\car_ai\\drowsy_driver\\test_video4.mp4: 384x640 1 drowsy, 11.0ms\n",
      "video 1/1 (623/1201) c:\\Users\\leduc\\OneDrive\\Desktop\\car_ai\\drowsy_driver\\test_video4.mp4: 384x640 1 drowsy, 12.8ms\n",
      "video 1/1 (624/1201) c:\\Users\\leduc\\OneDrive\\Desktop\\car_ai\\drowsy_driver\\test_video4.mp4: 384x640 1 drowsy, 12.0ms\n",
      "video 1/1 (625/1201) c:\\Users\\leduc\\OneDrive\\Desktop\\car_ai\\drowsy_driver\\test_video4.mp4: 384x640 1 drowsy, 15.0ms\n",
      "video 1/1 (626/1201) c:\\Users\\leduc\\OneDrive\\Desktop\\car_ai\\drowsy_driver\\test_video4.mp4: 384x640 1 drowsy, 12.9ms\n",
      "video 1/1 (627/1201) c:\\Users\\leduc\\OneDrive\\Desktop\\car_ai\\drowsy_driver\\test_video4.mp4: 384x640 1 drowsy, 14.2ms\n",
      "video 1/1 (628/1201) c:\\Users\\leduc\\OneDrive\\Desktop\\car_ai\\drowsy_driver\\test_video4.mp4: 384x640 1 drowsy, 18.9ms\n",
      "video 1/1 (629/1201) c:\\Users\\leduc\\OneDrive\\Desktop\\car_ai\\drowsy_driver\\test_video4.mp4: 384x640 1 drowsy, 13.0ms\n",
      "video 1/1 (630/1201) c:\\Users\\leduc\\OneDrive\\Desktop\\car_ai\\drowsy_driver\\test_video4.mp4: 384x640 1 drowsy, 11.9ms\n",
      "video 1/1 (631/1201) c:\\Users\\leduc\\OneDrive\\Desktop\\car_ai\\drowsy_driver\\test_video4.mp4: 384x640 1 drowsy, 14.0ms\n",
      "video 1/1 (632/1201) c:\\Users\\leduc\\OneDrive\\Desktop\\car_ai\\drowsy_driver\\test_video4.mp4: 384x640 1 drowsy, 17.0ms\n",
      "video 1/1 (633/1201) c:\\Users\\leduc\\OneDrive\\Desktop\\car_ai\\drowsy_driver\\test_video4.mp4: 384x640 1 drowsy, 15.9ms\n",
      "video 1/1 (634/1201) c:\\Users\\leduc\\OneDrive\\Desktop\\car_ai\\drowsy_driver\\test_video4.mp4: 384x640 1 drowsy, 17.0ms\n",
      "video 1/1 (635/1201) c:\\Users\\leduc\\OneDrive\\Desktop\\car_ai\\drowsy_driver\\test_video4.mp4: 384x640 1 drowsy, 14.8ms\n",
      "video 1/1 (636/1201) c:\\Users\\leduc\\OneDrive\\Desktop\\car_ai\\drowsy_driver\\test_video4.mp4: 384x640 1 drowsy, 14.5ms\n",
      "video 1/1 (637/1201) c:\\Users\\leduc\\OneDrive\\Desktop\\car_ai\\drowsy_driver\\test_video4.mp4: 384x640 1 drowsy, 16.9ms\n",
      "video 1/1 (638/1201) c:\\Users\\leduc\\OneDrive\\Desktop\\car_ai\\drowsy_driver\\test_video4.mp4: 384x640 1 drowsy, 21.2ms\n",
      "video 1/1 (639/1201) c:\\Users\\leduc\\OneDrive\\Desktop\\car_ai\\drowsy_driver\\test_video4.mp4: 384x640 1 drowsy, 15.9ms\n",
      "video 1/1 (640/1201) c:\\Users\\leduc\\OneDrive\\Desktop\\car_ai\\drowsy_driver\\test_video4.mp4: 384x640 1 drowsy, 19.4ms\n",
      "video 1/1 (641/1201) c:\\Users\\leduc\\OneDrive\\Desktop\\car_ai\\drowsy_driver\\test_video4.mp4: 384x640 1 drowsy, 15.5ms\n",
      "video 1/1 (642/1201) c:\\Users\\leduc\\OneDrive\\Desktop\\car_ai\\drowsy_driver\\test_video4.mp4: 384x640 1 drowsy, 15.8ms\n",
      "video 1/1 (643/1201) c:\\Users\\leduc\\OneDrive\\Desktop\\car_ai\\drowsy_driver\\test_video4.mp4: 384x640 1 drowsy, 14.0ms\n",
      "video 1/1 (644/1201) c:\\Users\\leduc\\OneDrive\\Desktop\\car_ai\\drowsy_driver\\test_video4.mp4: 384x640 1 drowsy, 12.0ms\n",
      "video 1/1 (645/1201) c:\\Users\\leduc\\OneDrive\\Desktop\\car_ai\\drowsy_driver\\test_video4.mp4: 384x640 1 drowsy, 12.3ms\n",
      "video 1/1 (646/1201) c:\\Users\\leduc\\OneDrive\\Desktop\\car_ai\\drowsy_driver\\test_video4.mp4: 384x640 1 drowsy, 13.0ms\n",
      "video 1/1 (647/1201) c:\\Users\\leduc\\OneDrive\\Desktop\\car_ai\\drowsy_driver\\test_video4.mp4: 384x640 1 drowsy, 13.0ms\n",
      "video 1/1 (648/1201) c:\\Users\\leduc\\OneDrive\\Desktop\\car_ai\\drowsy_driver\\test_video4.mp4: 384x640 1 drowsy, 11.0ms\n",
      "video 1/1 (649/1201) c:\\Users\\leduc\\OneDrive\\Desktop\\car_ai\\drowsy_driver\\test_video4.mp4: 384x640 1 drowsy, 15.8ms\n",
      "video 1/1 (650/1201) c:\\Users\\leduc\\OneDrive\\Desktop\\car_ai\\drowsy_driver\\test_video4.mp4: 384x640 1 drowsy, 17.3ms\n",
      "video 1/1 (651/1201) c:\\Users\\leduc\\OneDrive\\Desktop\\car_ai\\drowsy_driver\\test_video4.mp4: 384x640 1 drowsy, 12.4ms\n",
      "video 1/1 (652/1201) c:\\Users\\leduc\\OneDrive\\Desktop\\car_ai\\drowsy_driver\\test_video4.mp4: 384x640 1 drowsy, 15.9ms\n",
      "video 1/1 (653/1201) c:\\Users\\leduc\\OneDrive\\Desktop\\car_ai\\drowsy_driver\\test_video4.mp4: 384x640 1 drowsy, 16.5ms\n",
      "video 1/1 (654/1201) c:\\Users\\leduc\\OneDrive\\Desktop\\car_ai\\drowsy_driver\\test_video4.mp4: 384x640 1 drowsy, 14.5ms\n",
      "video 1/1 (655/1201) c:\\Users\\leduc\\OneDrive\\Desktop\\car_ai\\drowsy_driver\\test_video4.mp4: 384x640 1 drowsy, 8.0ms\n",
      "video 1/1 (656/1201) c:\\Users\\leduc\\OneDrive\\Desktop\\car_ai\\drowsy_driver\\test_video4.mp4: 384x640 1 drowsy, 13.3ms\n",
      "video 1/1 (657/1201) c:\\Users\\leduc\\OneDrive\\Desktop\\car_ai\\drowsy_driver\\test_video4.mp4: 384x640 1 drowsy, 12.0ms\n",
      "video 1/1 (658/1201) c:\\Users\\leduc\\OneDrive\\Desktop\\car_ai\\drowsy_driver\\test_video4.mp4: 384x640 1 drowsy, 15.0ms\n",
      "video 1/1 (659/1201) c:\\Users\\leduc\\OneDrive\\Desktop\\car_ai\\drowsy_driver\\test_video4.mp4: 384x640 1 drowsy, 9.9ms\n",
      "video 1/1 (660/1201) c:\\Users\\leduc\\OneDrive\\Desktop\\car_ai\\drowsy_driver\\test_video4.mp4: 384x640 1 drowsy, 11.1ms\n",
      "video 1/1 (661/1201) c:\\Users\\leduc\\OneDrive\\Desktop\\car_ai\\drowsy_driver\\test_video4.mp4: 384x640 1 drowsy, 10.1ms\n",
      "video 1/1 (662/1201) c:\\Users\\leduc\\OneDrive\\Desktop\\car_ai\\drowsy_driver\\test_video4.mp4: 384x640 1 drowsy, 12.0ms\n",
      "video 1/1 (663/1201) c:\\Users\\leduc\\OneDrive\\Desktop\\car_ai\\drowsy_driver\\test_video4.mp4: 384x640 1 drowsy, 17.0ms\n",
      "video 1/1 (664/1201) c:\\Users\\leduc\\OneDrive\\Desktop\\car_ai\\drowsy_driver\\test_video4.mp4: 384x640 1 drowsy, 13.4ms\n",
      "video 1/1 (665/1201) c:\\Users\\leduc\\OneDrive\\Desktop\\car_ai\\drowsy_driver\\test_video4.mp4: 384x640 1 drowsy, 12.9ms\n",
      "video 1/1 (666/1201) c:\\Users\\leduc\\OneDrive\\Desktop\\car_ai\\drowsy_driver\\test_video4.mp4: 384x640 1 drowsy, 15.0ms\n",
      "video 1/1 (667/1201) c:\\Users\\leduc\\OneDrive\\Desktop\\car_ai\\drowsy_driver\\test_video4.mp4: 384x640 1 drowsy, 15.0ms\n",
      "video 1/1 (668/1201) c:\\Users\\leduc\\OneDrive\\Desktop\\car_ai\\drowsy_driver\\test_video4.mp4: 384x640 1 drowsy, 11.3ms\n",
      "video 1/1 (669/1201) c:\\Users\\leduc\\OneDrive\\Desktop\\car_ai\\drowsy_driver\\test_video4.mp4: 384x640 1 drowsy, 12.0ms\n",
      "video 1/1 (670/1201) c:\\Users\\leduc\\OneDrive\\Desktop\\car_ai\\drowsy_driver\\test_video4.mp4: 384x640 1 drowsy, 11.3ms\n",
      "video 1/1 (671/1201) c:\\Users\\leduc\\OneDrive\\Desktop\\car_ai\\drowsy_driver\\test_video4.mp4: 384x640 1 drowsy, 12.0ms\n",
      "video 1/1 (672/1201) c:\\Users\\leduc\\OneDrive\\Desktop\\car_ai\\drowsy_driver\\test_video4.mp4: 384x640 1 drowsy, 10.6ms\n",
      "video 1/1 (673/1201) c:\\Users\\leduc\\OneDrive\\Desktop\\car_ai\\drowsy_driver\\test_video4.mp4: 384x640 1 drowsy, 9.0ms\n",
      "video 1/1 (674/1201) c:\\Users\\leduc\\OneDrive\\Desktop\\car_ai\\drowsy_driver\\test_video4.mp4: 384x640 1 drowsy, 14.4ms\n",
      "video 1/1 (675/1201) c:\\Users\\leduc\\OneDrive\\Desktop\\car_ai\\drowsy_driver\\test_video4.mp4: 384x640 1 drowsy, 11.3ms\n",
      "video 1/1 (676/1201) c:\\Users\\leduc\\OneDrive\\Desktop\\car_ai\\drowsy_driver\\test_video4.mp4: 384x640 1 drowsy, 12.4ms\n",
      "video 1/1 (677/1201) c:\\Users\\leduc\\OneDrive\\Desktop\\car_ai\\drowsy_driver\\test_video4.mp4: 384x640 1 drowsy, 16.0ms\n",
      "video 1/1 (678/1201) c:\\Users\\leduc\\OneDrive\\Desktop\\car_ai\\drowsy_driver\\test_video4.mp4: 384x640 1 drowsy, 11.1ms\n",
      "video 1/1 (679/1201) c:\\Users\\leduc\\OneDrive\\Desktop\\car_ai\\drowsy_driver\\test_video4.mp4: 384x640 1 drowsy, 14.0ms\n",
      "video 1/1 (680/1201) c:\\Users\\leduc\\OneDrive\\Desktop\\car_ai\\drowsy_driver\\test_video4.mp4: 384x640 1 drowsy, 12.2ms\n",
      "video 1/1 (681/1201) c:\\Users\\leduc\\OneDrive\\Desktop\\car_ai\\drowsy_driver\\test_video4.mp4: 384x640 1 drowsy, 12.0ms\n",
      "video 1/1 (682/1201) c:\\Users\\leduc\\OneDrive\\Desktop\\car_ai\\drowsy_driver\\test_video4.mp4: 384x640 1 drowsy, 14.0ms\n",
      "video 1/1 (683/1201) c:\\Users\\leduc\\OneDrive\\Desktop\\car_ai\\drowsy_driver\\test_video4.mp4: 384x640 1 drowsy, 12.0ms\n",
      "video 1/1 (684/1201) c:\\Users\\leduc\\OneDrive\\Desktop\\car_ai\\drowsy_driver\\test_video4.mp4: 384x640 1 drowsy, 11.0ms\n",
      "video 1/1 (685/1201) c:\\Users\\leduc\\OneDrive\\Desktop\\car_ai\\drowsy_driver\\test_video4.mp4: 384x640 1 drowsy, 15.0ms\n",
      "video 1/1 (686/1201) c:\\Users\\leduc\\OneDrive\\Desktop\\car_ai\\drowsy_driver\\test_video4.mp4: 384x640 1 drowsy, 12.0ms\n",
      "video 1/1 (687/1201) c:\\Users\\leduc\\OneDrive\\Desktop\\car_ai\\drowsy_driver\\test_video4.mp4: 384x640 1 drowsy, 10.4ms\n",
      "video 1/1 (688/1201) c:\\Users\\leduc\\OneDrive\\Desktop\\car_ai\\drowsy_driver\\test_video4.mp4: 384x640 1 drowsy, 10.0ms\n",
      "video 1/1 (689/1201) c:\\Users\\leduc\\OneDrive\\Desktop\\car_ai\\drowsy_driver\\test_video4.mp4: 384x640 1 drowsy, 8.0ms\n",
      "video 1/1 (690/1201) c:\\Users\\leduc\\OneDrive\\Desktop\\car_ai\\drowsy_driver\\test_video4.mp4: 384x640 1 drowsy, 7.4ms\n",
      "video 1/1 (691/1201) c:\\Users\\leduc\\OneDrive\\Desktop\\car_ai\\drowsy_driver\\test_video4.mp4: 384x640 1 drowsy, 9.5ms\n",
      "video 1/1 (692/1201) c:\\Users\\leduc\\OneDrive\\Desktop\\car_ai\\drowsy_driver\\test_video4.mp4: 384x640 1 drowsy, 9.0ms\n",
      "video 1/1 (693/1201) c:\\Users\\leduc\\OneDrive\\Desktop\\car_ai\\drowsy_driver\\test_video4.mp4: 384x640 1 drowsy, 12.1ms\n",
      "video 1/1 (694/1201) c:\\Users\\leduc\\OneDrive\\Desktop\\car_ai\\drowsy_driver\\test_video4.mp4: 384x640 1 drowsy, 14.2ms\n",
      "video 1/1 (695/1201) c:\\Users\\leduc\\OneDrive\\Desktop\\car_ai\\drowsy_driver\\test_video4.mp4: 384x640 1 drowsy, 8.0ms\n",
      "video 1/1 (696/1201) c:\\Users\\leduc\\OneDrive\\Desktop\\car_ai\\drowsy_driver\\test_video4.mp4: 384x640 1 drowsy, 7.6ms\n",
      "video 1/1 (697/1201) c:\\Users\\leduc\\OneDrive\\Desktop\\car_ai\\drowsy_driver\\test_video4.mp4: 384x640 1 drowsy, 9.1ms\n",
      "video 1/1 (698/1201) c:\\Users\\leduc\\OneDrive\\Desktop\\car_ai\\drowsy_driver\\test_video4.mp4: 384x640 1 drowsy, 9.0ms\n",
      "video 1/1 (699/1201) c:\\Users\\leduc\\OneDrive\\Desktop\\car_ai\\drowsy_driver\\test_video4.mp4: 384x640 1 drowsy, 9.0ms\n",
      "video 1/1 (700/1201) c:\\Users\\leduc\\OneDrive\\Desktop\\car_ai\\drowsy_driver\\test_video4.mp4: 384x640 1 drowsy, 7.4ms\n",
      "video 1/1 (701/1201) c:\\Users\\leduc\\OneDrive\\Desktop\\car_ai\\drowsy_driver\\test_video4.mp4: 384x640 1 drowsy, 14.2ms\n",
      "video 1/1 (702/1201) c:\\Users\\leduc\\OneDrive\\Desktop\\car_ai\\drowsy_driver\\test_video4.mp4: 384x640 1 drowsy, 13.0ms\n",
      "video 1/1 (703/1201) c:\\Users\\leduc\\OneDrive\\Desktop\\car_ai\\drowsy_driver\\test_video4.mp4: 384x640 1 drowsy, 11.0ms\n",
      "video 1/1 (704/1201) c:\\Users\\leduc\\OneDrive\\Desktop\\car_ai\\drowsy_driver\\test_video4.mp4: 384x640 1 drowsy, 9.9ms\n",
      "video 1/1 (705/1201) c:\\Users\\leduc\\OneDrive\\Desktop\\car_ai\\drowsy_driver\\test_video4.mp4: 384x640 1 drowsy, 7.4ms\n",
      "video 1/1 (706/1201) c:\\Users\\leduc\\OneDrive\\Desktop\\car_ai\\drowsy_driver\\test_video4.mp4: 384x640 1 drowsy, 9.8ms\n",
      "video 1/1 (707/1201) c:\\Users\\leduc\\OneDrive\\Desktop\\car_ai\\drowsy_driver\\test_video4.mp4: 384x640 1 drowsy, 9.9ms\n",
      "video 1/1 (708/1201) c:\\Users\\leduc\\OneDrive\\Desktop\\car_ai\\drowsy_driver\\test_video4.mp4: 384x640 1 drowsy, 9.2ms\n",
      "video 1/1 (709/1201) c:\\Users\\leduc\\OneDrive\\Desktop\\car_ai\\drowsy_driver\\test_video4.mp4: 384x640 1 drowsy, 8.2ms\n",
      "video 1/1 (710/1201) c:\\Users\\leduc\\OneDrive\\Desktop\\car_ai\\drowsy_driver\\test_video4.mp4: 384x640 1 drowsy, 6.9ms\n",
      "video 1/1 (711/1201) c:\\Users\\leduc\\OneDrive\\Desktop\\car_ai\\drowsy_driver\\test_video4.mp4: 384x640 1 drowsy, 6.8ms\n",
      "video 1/1 (712/1201) c:\\Users\\leduc\\OneDrive\\Desktop\\car_ai\\drowsy_driver\\test_video4.mp4: 384x640 1 drowsy, 14.1ms\n",
      "video 1/1 (713/1201) c:\\Users\\leduc\\OneDrive\\Desktop\\car_ai\\drowsy_driver\\test_video4.mp4: 384x640 1 drowsy, 8.7ms\n",
      "video 1/1 (714/1201) c:\\Users\\leduc\\OneDrive\\Desktop\\car_ai\\drowsy_driver\\test_video4.mp4: 384x640 1 drowsy, 14.0ms\n",
      "video 1/1 (715/1201) c:\\Users\\leduc\\OneDrive\\Desktop\\car_ai\\drowsy_driver\\test_video4.mp4: 384x640 1 drowsy, 12.0ms\n",
      "video 1/1 (716/1201) c:\\Users\\leduc\\OneDrive\\Desktop\\car_ai\\drowsy_driver\\test_video4.mp4: 384x640 1 drowsy, 12.9ms\n",
      "video 1/1 (717/1201) c:\\Users\\leduc\\OneDrive\\Desktop\\car_ai\\drowsy_driver\\test_video4.mp4: 384x640 1 drowsy, 10.1ms\n",
      "video 1/1 (718/1201) c:\\Users\\leduc\\OneDrive\\Desktop\\car_ai\\drowsy_driver\\test_video4.mp4: 384x640 1 drowsy, 13.0ms\n",
      "video 1/1 (719/1201) c:\\Users\\leduc\\OneDrive\\Desktop\\car_ai\\drowsy_driver\\test_video4.mp4: 384x640 1 drowsy, 10.9ms\n",
      "video 1/1 (720/1201) c:\\Users\\leduc\\OneDrive\\Desktop\\car_ai\\drowsy_driver\\test_video4.mp4: 384x640 1 drowsy, 11.0ms\n",
      "video 1/1 (721/1201) c:\\Users\\leduc\\OneDrive\\Desktop\\car_ai\\drowsy_driver\\test_video4.mp4: 384x640 1 drowsy, 10.9ms\n",
      "video 1/1 (722/1201) c:\\Users\\leduc\\OneDrive\\Desktop\\car_ai\\drowsy_driver\\test_video4.mp4: 384x640 1 drowsy, 17.2ms\n",
      "video 1/1 (723/1201) c:\\Users\\leduc\\OneDrive\\Desktop\\car_ai\\drowsy_driver\\test_video4.mp4: 384x640 1 drowsy, 15.3ms\n",
      "video 1/1 (724/1201) c:\\Users\\leduc\\OneDrive\\Desktop\\car_ai\\drowsy_driver\\test_video4.mp4: 384x640 1 drowsy, 11.0ms\n",
      "video 1/1 (725/1201) c:\\Users\\leduc\\OneDrive\\Desktop\\car_ai\\drowsy_driver\\test_video4.mp4: 384x640 1 drowsy, 12.0ms\n",
      "video 1/1 (726/1201) c:\\Users\\leduc\\OneDrive\\Desktop\\car_ai\\drowsy_driver\\test_video4.mp4: 384x640 1 drowsy, 10.5ms\n",
      "video 1/1 (727/1201) c:\\Users\\leduc\\OneDrive\\Desktop\\car_ai\\drowsy_driver\\test_video4.mp4: 384x640 1 drowsy, 11.5ms\n",
      "video 1/1 (728/1201) c:\\Users\\leduc\\OneDrive\\Desktop\\car_ai\\drowsy_driver\\test_video4.mp4: 384x640 1 drowsy, 7.2ms\n",
      "video 1/1 (729/1201) c:\\Users\\leduc\\OneDrive\\Desktop\\car_ai\\drowsy_driver\\test_video4.mp4: 384x640 1 drowsy, 8.9ms\n",
      "video 1/1 (730/1201) c:\\Users\\leduc\\OneDrive\\Desktop\\car_ai\\drowsy_driver\\test_video4.mp4: 384x640 1 drowsy, 11.0ms\n",
      "video 1/1 (731/1201) c:\\Users\\leduc\\OneDrive\\Desktop\\car_ai\\drowsy_driver\\test_video4.mp4: 384x640 1 drowsy, 8.4ms\n",
      "video 1/1 (732/1201) c:\\Users\\leduc\\OneDrive\\Desktop\\car_ai\\drowsy_driver\\test_video4.mp4: 384x640 1 drowsy, 11.2ms\n",
      "video 1/1 (733/1201) c:\\Users\\leduc\\OneDrive\\Desktop\\car_ai\\drowsy_driver\\test_video4.mp4: 384x640 1 drowsy, 8.2ms\n",
      "video 1/1 (734/1201) c:\\Users\\leduc\\OneDrive\\Desktop\\car_ai\\drowsy_driver\\test_video4.mp4: 384x640 1 drowsy, 9.4ms\n",
      "video 1/1 (735/1201) c:\\Users\\leduc\\OneDrive\\Desktop\\car_ai\\drowsy_driver\\test_video4.mp4: 384x640 1 drowsy, 12.4ms\n",
      "video 1/1 (736/1201) c:\\Users\\leduc\\OneDrive\\Desktop\\car_ai\\drowsy_driver\\test_video4.mp4: 384x640 1 drowsy, 13.0ms\n",
      "video 1/1 (737/1201) c:\\Users\\leduc\\OneDrive\\Desktop\\car_ai\\drowsy_driver\\test_video4.mp4: 384x640 1 drowsy, 12.3ms\n",
      "video 1/1 (738/1201) c:\\Users\\leduc\\OneDrive\\Desktop\\car_ai\\drowsy_driver\\test_video4.mp4: 384x640 1 drowsy, 11.8ms\n",
      "video 1/1 (739/1201) c:\\Users\\leduc\\OneDrive\\Desktop\\car_ai\\drowsy_driver\\test_video4.mp4: 384x640 1 drowsy, 10.1ms\n",
      "video 1/1 (740/1201) c:\\Users\\leduc\\OneDrive\\Desktop\\car_ai\\drowsy_driver\\test_video4.mp4: 384x640 1 drowsy, 12.0ms\n",
      "video 1/1 (741/1201) c:\\Users\\leduc\\OneDrive\\Desktop\\car_ai\\drowsy_driver\\test_video4.mp4: 384x640 1 drowsy, 12.9ms\n",
      "video 1/1 (742/1201) c:\\Users\\leduc\\OneDrive\\Desktop\\car_ai\\drowsy_driver\\test_video4.mp4: 384x640 1 drowsy, 7.0ms\n",
      "video 1/1 (743/1201) c:\\Users\\leduc\\OneDrive\\Desktop\\car_ai\\drowsy_driver\\test_video4.mp4: 384x640 1 drowsy, 8.0ms\n",
      "video 1/1 (744/1201) c:\\Users\\leduc\\OneDrive\\Desktop\\car_ai\\drowsy_driver\\test_video4.mp4: 384x640 1 drowsy, 8.1ms\n",
      "video 1/1 (745/1201) c:\\Users\\leduc\\OneDrive\\Desktop\\car_ai\\drowsy_driver\\test_video4.mp4: 384x640 1 drowsy, 8.5ms\n",
      "video 1/1 (746/1201) c:\\Users\\leduc\\OneDrive\\Desktop\\car_ai\\drowsy_driver\\test_video4.mp4: 384x640 1 drowsy, 7.4ms\n",
      "video 1/1 (747/1201) c:\\Users\\leduc\\OneDrive\\Desktop\\car_ai\\drowsy_driver\\test_video4.mp4: 384x640 1 drowsy, 6.7ms\n",
      "video 1/1 (748/1201) c:\\Users\\leduc\\OneDrive\\Desktop\\car_ai\\drowsy_driver\\test_video4.mp4: 384x640 1 drowsy, 8.7ms\n",
      "video 1/1 (749/1201) c:\\Users\\leduc\\OneDrive\\Desktop\\car_ai\\drowsy_driver\\test_video4.mp4: 384x640 1 drowsy, 12.2ms\n",
      "video 1/1 (750/1201) c:\\Users\\leduc\\OneDrive\\Desktop\\car_ai\\drowsy_driver\\test_video4.mp4: 384x640 1 drowsy, 14.2ms\n",
      "video 1/1 (751/1201) c:\\Users\\leduc\\OneDrive\\Desktop\\car_ai\\drowsy_driver\\test_video4.mp4: 384x640 1 drowsy, 8.0ms\n",
      "video 1/1 (752/1201) c:\\Users\\leduc\\OneDrive\\Desktop\\car_ai\\drowsy_driver\\test_video4.mp4: 384x640 1 drowsy, 15.0ms\n",
      "video 1/1 (753/1201) c:\\Users\\leduc\\OneDrive\\Desktop\\car_ai\\drowsy_driver\\test_video4.mp4: 384x640 1 drowsy, 10.0ms\n",
      "video 1/1 (754/1201) c:\\Users\\leduc\\OneDrive\\Desktop\\car_ai\\drowsy_driver\\test_video4.mp4: 384x640 1 drowsy, 8.5ms\n",
      "video 1/1 (755/1201) c:\\Users\\leduc\\OneDrive\\Desktop\\car_ai\\drowsy_driver\\test_video4.mp4: 384x640 1 drowsy, 16.4ms\n",
      "video 1/1 (756/1201) c:\\Users\\leduc\\OneDrive\\Desktop\\car_ai\\drowsy_driver\\test_video4.mp4: 384x640 1 drowsy, 19.0ms\n",
      "video 1/1 (757/1201) c:\\Users\\leduc\\OneDrive\\Desktop\\car_ai\\drowsy_driver\\test_video4.mp4: 384x640 1 drowsy, 14.0ms\n",
      "video 1/1 (758/1201) c:\\Users\\leduc\\OneDrive\\Desktop\\car_ai\\drowsy_driver\\test_video4.mp4: 384x640 1 drowsy, 12.0ms\n",
      "video 1/1 (759/1201) c:\\Users\\leduc\\OneDrive\\Desktop\\car_ai\\drowsy_driver\\test_video4.mp4: 384x640 1 drowsy, 12.0ms\n",
      "video 1/1 (760/1201) c:\\Users\\leduc\\OneDrive\\Desktop\\car_ai\\drowsy_driver\\test_video4.mp4: 384x640 1 drowsy, 9.9ms\n",
      "video 1/1 (761/1201) c:\\Users\\leduc\\OneDrive\\Desktop\\car_ai\\drowsy_driver\\test_video4.mp4: 384x640 1 drowsy, 10.0ms\n",
      "video 1/1 (762/1201) c:\\Users\\leduc\\OneDrive\\Desktop\\car_ai\\drowsy_driver\\test_video4.mp4: 384x640 1 drowsy, 8.0ms\n",
      "video 1/1 (763/1201) c:\\Users\\leduc\\OneDrive\\Desktop\\car_ai\\drowsy_driver\\test_video4.mp4: 384x640 1 drowsy, 14.2ms\n",
      "video 1/1 (764/1201) c:\\Users\\leduc\\OneDrive\\Desktop\\car_ai\\drowsy_driver\\test_video4.mp4: 384x640 1 drowsy, 12.0ms\n",
      "video 1/1 (765/1201) c:\\Users\\leduc\\OneDrive\\Desktop\\car_ai\\drowsy_driver\\test_video4.mp4: 384x640 1 drowsy, 13.9ms\n",
      "video 1/1 (766/1201) c:\\Users\\leduc\\OneDrive\\Desktop\\car_ai\\drowsy_driver\\test_video4.mp4: 384x640 1 drowsy, 12.0ms\n",
      "video 1/1 (767/1201) c:\\Users\\leduc\\OneDrive\\Desktop\\car_ai\\drowsy_driver\\test_video4.mp4: 384x640 1 drowsy, 11.0ms\n",
      "video 1/1 (768/1201) c:\\Users\\leduc\\OneDrive\\Desktop\\car_ai\\drowsy_driver\\test_video4.mp4: 384x640 1 drowsy, 15.4ms\n",
      "video 1/1 (769/1201) c:\\Users\\leduc\\OneDrive\\Desktop\\car_ai\\drowsy_driver\\test_video4.mp4: 384x640 1 drowsy, 11.0ms\n",
      "video 1/1 (770/1201) c:\\Users\\leduc\\OneDrive\\Desktop\\car_ai\\drowsy_driver\\test_video4.mp4: 384x640 1 drowsy, 12.9ms\n",
      "video 1/1 (771/1201) c:\\Users\\leduc\\OneDrive\\Desktop\\car_ai\\drowsy_driver\\test_video4.mp4: 384x640 1 drowsy, 10.1ms\n",
      "video 1/1 (772/1201) c:\\Users\\leduc\\OneDrive\\Desktop\\car_ai\\drowsy_driver\\test_video4.mp4: 384x640 1 drowsy, 10.9ms\n",
      "video 1/1 (773/1201) c:\\Users\\leduc\\OneDrive\\Desktop\\car_ai\\drowsy_driver\\test_video4.mp4: 384x640 1 drowsy, 11.9ms\n",
      "video 1/1 (774/1201) c:\\Users\\leduc\\OneDrive\\Desktop\\car_ai\\drowsy_driver\\test_video4.mp4: 384x640 1 drowsy, 11.9ms\n",
      "video 1/1 (775/1201) c:\\Users\\leduc\\OneDrive\\Desktop\\car_ai\\drowsy_driver\\test_video4.mp4: 384x640 1 drowsy, 11.0ms\n",
      "video 1/1 (776/1201) c:\\Users\\leduc\\OneDrive\\Desktop\\car_ai\\drowsy_driver\\test_video4.mp4: 384x640 1 drowsy, 11.9ms\n",
      "video 1/1 (777/1201) c:\\Users\\leduc\\OneDrive\\Desktop\\car_ai\\drowsy_driver\\test_video4.mp4: 384x640 1 drowsy, 7.9ms\n",
      "video 1/1 (778/1201) c:\\Users\\leduc\\OneDrive\\Desktop\\car_ai\\drowsy_driver\\test_video4.mp4: 384x640 1 drowsy, 10.9ms\n",
      "video 1/1 (779/1201) c:\\Users\\leduc\\OneDrive\\Desktop\\car_ai\\drowsy_driver\\test_video4.mp4: 384x640 1 drowsy, 11.0ms\n",
      "video 1/1 (780/1201) c:\\Users\\leduc\\OneDrive\\Desktop\\car_ai\\drowsy_driver\\test_video4.mp4: 384x640 1 drowsy, 11.0ms\n",
      "video 1/1 (781/1201) c:\\Users\\leduc\\OneDrive\\Desktop\\car_ai\\drowsy_driver\\test_video4.mp4: 384x640 1 drowsy, 12.1ms\n",
      "video 1/1 (782/1201) c:\\Users\\leduc\\OneDrive\\Desktop\\car_ai\\drowsy_driver\\test_video4.mp4: 384x640 1 drowsy, 12.0ms\n",
      "video 1/1 (783/1201) c:\\Users\\leduc\\OneDrive\\Desktop\\car_ai\\drowsy_driver\\test_video4.mp4: 384x640 1 drowsy, 10.9ms\n",
      "video 1/1 (784/1201) c:\\Users\\leduc\\OneDrive\\Desktop\\car_ai\\drowsy_driver\\test_video4.mp4: 384x640 1 drowsy, 15.0ms\n",
      "video 1/1 (785/1201) c:\\Users\\leduc\\OneDrive\\Desktop\\car_ai\\drowsy_driver\\test_video4.mp4: 384x640 1 drowsy, 13.6ms\n",
      "video 1/1 (786/1201) c:\\Users\\leduc\\OneDrive\\Desktop\\car_ai\\drowsy_driver\\test_video4.mp4: 384x640 1 drowsy, 12.0ms\n",
      "video 1/1 (787/1201) c:\\Users\\leduc\\OneDrive\\Desktop\\car_ai\\drowsy_driver\\test_video4.mp4: 384x640 1 drowsy, 12.0ms\n",
      "video 1/1 (788/1201) c:\\Users\\leduc\\OneDrive\\Desktop\\car_ai\\drowsy_driver\\test_video4.mp4: 384x640 1 drowsy, 10.0ms\n",
      "video 1/1 (789/1201) c:\\Users\\leduc\\OneDrive\\Desktop\\car_ai\\drowsy_driver\\test_video4.mp4: 384x640 1 drowsy, 12.9ms\n",
      "video 1/1 (790/1201) c:\\Users\\leduc\\OneDrive\\Desktop\\car_ai\\drowsy_driver\\test_video4.mp4: 384x640 1 drowsy, 12.0ms\n",
      "video 1/1 (791/1201) c:\\Users\\leduc\\OneDrive\\Desktop\\car_ai\\drowsy_driver\\test_video4.mp4: 384x640 1 drowsy, 9.0ms\n",
      "video 1/1 (792/1201) c:\\Users\\leduc\\OneDrive\\Desktop\\car_ai\\drowsy_driver\\test_video4.mp4: 384x640 1 drowsy, 11.0ms\n",
      "video 1/1 (793/1201) c:\\Users\\leduc\\OneDrive\\Desktop\\car_ai\\drowsy_driver\\test_video4.mp4: 384x640 1 drowsy, 12.5ms\n",
      "video 1/1 (794/1201) c:\\Users\\leduc\\OneDrive\\Desktop\\car_ai\\drowsy_driver\\test_video4.mp4: 384x640 1 drowsy, 18.6ms\n",
      "video 1/1 (795/1201) c:\\Users\\leduc\\OneDrive\\Desktop\\car_ai\\drowsy_driver\\test_video4.mp4: 384x640 1 drowsy, 10.9ms\n",
      "video 1/1 (796/1201) c:\\Users\\leduc\\OneDrive\\Desktop\\car_ai\\drowsy_driver\\test_video4.mp4: 384x640 1 drowsy, 16.0ms\n",
      "video 1/1 (797/1201) c:\\Users\\leduc\\OneDrive\\Desktop\\car_ai\\drowsy_driver\\test_video4.mp4: 384x640 1 drowsy, 16.2ms\n",
      "video 1/1 (798/1201) c:\\Users\\leduc\\OneDrive\\Desktop\\car_ai\\drowsy_driver\\test_video4.mp4: 384x640 1 drowsy, 10.0ms\n",
      "video 1/1 (799/1201) c:\\Users\\leduc\\OneDrive\\Desktop\\car_ai\\drowsy_driver\\test_video4.mp4: 384x640 1 drowsy, 13.0ms\n",
      "video 1/1 (800/1201) c:\\Users\\leduc\\OneDrive\\Desktop\\car_ai\\drowsy_driver\\test_video4.mp4: 384x640 1 drowsy, 10.0ms\n",
      "video 1/1 (801/1201) c:\\Users\\leduc\\OneDrive\\Desktop\\car_ai\\drowsy_driver\\test_video4.mp4: 384x640 1 drowsy, 12.0ms\n",
      "video 1/1 (802/1201) c:\\Users\\leduc\\OneDrive\\Desktop\\car_ai\\drowsy_driver\\test_video4.mp4: 384x640 1 drowsy, 14.0ms\n",
      "video 1/1 (803/1201) c:\\Users\\leduc\\OneDrive\\Desktop\\car_ai\\drowsy_driver\\test_video4.mp4: 384x640 1 drowsy, 11.0ms\n",
      "video 1/1 (804/1201) c:\\Users\\leduc\\OneDrive\\Desktop\\car_ai\\drowsy_driver\\test_video4.mp4: 384x640 1 drowsy, 11.0ms\n",
      "video 1/1 (805/1201) c:\\Users\\leduc\\OneDrive\\Desktop\\car_ai\\drowsy_driver\\test_video4.mp4: 384x640 1 drowsy, 11.0ms\n",
      "video 1/1 (806/1201) c:\\Users\\leduc\\OneDrive\\Desktop\\car_ai\\drowsy_driver\\test_video4.mp4: 384x640 1 drowsy, 10.0ms\n",
      "video 1/1 (807/1201) c:\\Users\\leduc\\OneDrive\\Desktop\\car_ai\\drowsy_driver\\test_video4.mp4: 384x640 1 drowsy, 12.0ms\n",
      "video 1/1 (808/1201) c:\\Users\\leduc\\OneDrive\\Desktop\\car_ai\\drowsy_driver\\test_video4.mp4: 384x640 1 drowsy, 11.2ms\n",
      "video 1/1 (809/1201) c:\\Users\\leduc\\OneDrive\\Desktop\\car_ai\\drowsy_driver\\test_video4.mp4: 384x640 1 drowsy, 10.9ms\n",
      "video 1/1 (810/1201) c:\\Users\\leduc\\OneDrive\\Desktop\\car_ai\\drowsy_driver\\test_video4.mp4: 384x640 1 drowsy, 7.9ms\n",
      "video 1/1 (811/1201) c:\\Users\\leduc\\OneDrive\\Desktop\\car_ai\\drowsy_driver\\test_video4.mp4: 384x640 1 drowsy, 11.4ms\n",
      "video 1/1 (812/1201) c:\\Users\\leduc\\OneDrive\\Desktop\\car_ai\\drowsy_driver\\test_video4.mp4: 384x640 1 drowsy, 12.5ms\n",
      "video 1/1 (813/1201) c:\\Users\\leduc\\OneDrive\\Desktop\\car_ai\\drowsy_driver\\test_video4.mp4: 384x640 1 drowsy, 11.0ms\n",
      "video 1/1 (814/1201) c:\\Users\\leduc\\OneDrive\\Desktop\\car_ai\\drowsy_driver\\test_video4.mp4: 384x640 1 drowsy, 14.1ms\n",
      "video 1/1 (815/1201) c:\\Users\\leduc\\OneDrive\\Desktop\\car_ai\\drowsy_driver\\test_video4.mp4: 384x640 1 drowsy, 10.9ms\n",
      "video 1/1 (816/1201) c:\\Users\\leduc\\OneDrive\\Desktop\\car_ai\\drowsy_driver\\test_video4.mp4: 384x640 1 drowsy, 11.0ms\n",
      "video 1/1 (817/1201) c:\\Users\\leduc\\OneDrive\\Desktop\\car_ai\\drowsy_driver\\test_video4.mp4: 384x640 1 drowsy, 8.0ms\n",
      "video 1/1 (818/1201) c:\\Users\\leduc\\OneDrive\\Desktop\\car_ai\\drowsy_driver\\test_video4.mp4: 384x640 1 drowsy, 10.0ms\n",
      "video 1/1 (819/1201) c:\\Users\\leduc\\OneDrive\\Desktop\\car_ai\\drowsy_driver\\test_video4.mp4: 384x640 1 drowsy, 10.1ms\n",
      "video 1/1 (820/1201) c:\\Users\\leduc\\OneDrive\\Desktop\\car_ai\\drowsy_driver\\test_video4.mp4: 384x640 1 drowsy, 12.6ms\n",
      "video 1/1 (821/1201) c:\\Users\\leduc\\OneDrive\\Desktop\\car_ai\\drowsy_driver\\test_video4.mp4: 384x640 1 drowsy, 12.0ms\n",
      "video 1/1 (822/1201) c:\\Users\\leduc\\OneDrive\\Desktop\\car_ai\\drowsy_driver\\test_video4.mp4: 384x640 1 drowsy, 8.0ms\n",
      "video 1/1 (823/1201) c:\\Users\\leduc\\OneDrive\\Desktop\\car_ai\\drowsy_driver\\test_video4.mp4: 384x640 1 drowsy, 9.0ms\n",
      "video 1/1 (824/1201) c:\\Users\\leduc\\OneDrive\\Desktop\\car_ai\\drowsy_driver\\test_video4.mp4: 384x640 1 drowsy, 11.1ms\n",
      "video 1/1 (825/1201) c:\\Users\\leduc\\OneDrive\\Desktop\\car_ai\\drowsy_driver\\test_video4.mp4: 384x640 1 drowsy, 10.0ms\n",
      "video 1/1 (826/1201) c:\\Users\\leduc\\OneDrive\\Desktop\\car_ai\\drowsy_driver\\test_video4.mp4: 384x640 1 drowsy, 11.0ms\n",
      "video 1/1 (827/1201) c:\\Users\\leduc\\OneDrive\\Desktop\\car_ai\\drowsy_driver\\test_video4.mp4: 384x640 1 drowsy, 13.1ms\n",
      "video 1/1 (828/1201) c:\\Users\\leduc\\OneDrive\\Desktop\\car_ai\\drowsy_driver\\test_video4.mp4: 384x640 1 drowsy, 16.4ms\n",
      "video 1/1 (829/1201) c:\\Users\\leduc\\OneDrive\\Desktop\\car_ai\\drowsy_driver\\test_video4.mp4: 384x640 1 drowsy, 14.4ms\n",
      "video 1/1 (830/1201) c:\\Users\\leduc\\OneDrive\\Desktop\\car_ai\\drowsy_driver\\test_video4.mp4: 384x640 1 drowsy, 14.0ms\n",
      "video 1/1 (831/1201) c:\\Users\\leduc\\OneDrive\\Desktop\\car_ai\\drowsy_driver\\test_video4.mp4: 384x640 1 drowsy, 10.2ms\n",
      "video 1/1 (832/1201) c:\\Users\\leduc\\OneDrive\\Desktop\\car_ai\\drowsy_driver\\test_video4.mp4: 384x640 1 drowsy, 13.0ms\n",
      "video 1/1 (833/1201) c:\\Users\\leduc\\OneDrive\\Desktop\\car_ai\\drowsy_driver\\test_video4.mp4: 384x640 1 drowsy, 8.0ms\n",
      "video 1/1 (834/1201) c:\\Users\\leduc\\OneDrive\\Desktop\\car_ai\\drowsy_driver\\test_video4.mp4: 384x640 1 drowsy, 8.0ms\n",
      "video 1/1 (835/1201) c:\\Users\\leduc\\OneDrive\\Desktop\\car_ai\\drowsy_driver\\test_video4.mp4: 384x640 1 drowsy, 11.9ms\n",
      "video 1/1 (836/1201) c:\\Users\\leduc\\OneDrive\\Desktop\\car_ai\\drowsy_driver\\test_video4.mp4: 384x640 1 drowsy, 7.0ms\n",
      "video 1/1 (837/1201) c:\\Users\\leduc\\OneDrive\\Desktop\\car_ai\\drowsy_driver\\test_video4.mp4: 384x640 1 drowsy, 10.0ms\n",
      "video 1/1 (838/1201) c:\\Users\\leduc\\OneDrive\\Desktop\\car_ai\\drowsy_driver\\test_video4.mp4: 384x640 1 drowsy, 7.9ms\n",
      "video 1/1 (839/1201) c:\\Users\\leduc\\OneDrive\\Desktop\\car_ai\\drowsy_driver\\test_video4.mp4: 384x640 1 drowsy, 12.0ms\n",
      "video 1/1 (840/1201) c:\\Users\\leduc\\OneDrive\\Desktop\\car_ai\\drowsy_driver\\test_video4.mp4: 384x640 1 drowsy, 10.2ms\n",
      "video 1/1 (841/1201) c:\\Users\\leduc\\OneDrive\\Desktop\\car_ai\\drowsy_driver\\test_video4.mp4: 384x640 1 drowsy, 10.0ms\n",
      "video 1/1 (842/1201) c:\\Users\\leduc\\OneDrive\\Desktop\\car_ai\\drowsy_driver\\test_video4.mp4: 384x640 1 drowsy, 10.2ms\n",
      "video 1/1 (843/1201) c:\\Users\\leduc\\OneDrive\\Desktop\\car_ai\\drowsy_driver\\test_video4.mp4: 384x640 1 drowsy, 8.0ms\n",
      "video 1/1 (844/1201) c:\\Users\\leduc\\OneDrive\\Desktop\\car_ai\\drowsy_driver\\test_video4.mp4: 384x640 1 drowsy, 15.5ms\n",
      "video 1/1 (845/1201) c:\\Users\\leduc\\OneDrive\\Desktop\\car_ai\\drowsy_driver\\test_video4.mp4: 384x640 1 drowsy, 9.9ms\n",
      "video 1/1 (846/1201) c:\\Users\\leduc\\OneDrive\\Desktop\\car_ai\\drowsy_driver\\test_video4.mp4: 384x640 1 drowsy, 14.7ms\n",
      "video 1/1 (847/1201) c:\\Users\\leduc\\OneDrive\\Desktop\\car_ai\\drowsy_driver\\test_video4.mp4: 384x640 1 drowsy, 10.9ms\n",
      "video 1/1 (848/1201) c:\\Users\\leduc\\OneDrive\\Desktop\\car_ai\\drowsy_driver\\test_video4.mp4: 384x640 1 drowsy, 10.0ms\n",
      "video 1/1 (849/1201) c:\\Users\\leduc\\OneDrive\\Desktop\\car_ai\\drowsy_driver\\test_video4.mp4: 384x640 1 drowsy, 12.0ms\n",
      "video 1/1 (850/1201) c:\\Users\\leduc\\OneDrive\\Desktop\\car_ai\\drowsy_driver\\test_video4.mp4: 384x640 1 drowsy, 10.0ms\n",
      "video 1/1 (851/1201) c:\\Users\\leduc\\OneDrive\\Desktop\\car_ai\\drowsy_driver\\test_video4.mp4: 384x640 1 drowsy, 8.3ms\n",
      "video 1/1 (852/1201) c:\\Users\\leduc\\OneDrive\\Desktop\\car_ai\\drowsy_driver\\test_video4.mp4: 384x640 1 drowsy, 8.7ms\n",
      "video 1/1 (853/1201) c:\\Users\\leduc\\OneDrive\\Desktop\\car_ai\\drowsy_driver\\test_video4.mp4: 384x640 1 drowsy, 12.3ms\n",
      "video 1/1 (854/1201) c:\\Users\\leduc\\OneDrive\\Desktop\\car_ai\\drowsy_driver\\test_video4.mp4: 384x640 1 drowsy, 12.0ms\n",
      "video 1/1 (855/1201) c:\\Users\\leduc\\OneDrive\\Desktop\\car_ai\\drowsy_driver\\test_video4.mp4: 384x640 1 drowsy, 10.2ms\n",
      "video 1/1 (856/1201) c:\\Users\\leduc\\OneDrive\\Desktop\\car_ai\\drowsy_driver\\test_video4.mp4: 384x640 1 drowsy, 8.4ms\n",
      "video 1/1 (857/1201) c:\\Users\\leduc\\OneDrive\\Desktop\\car_ai\\drowsy_driver\\test_video4.mp4: 384x640 1 drowsy, 8.0ms\n",
      "video 1/1 (858/1201) c:\\Users\\leduc\\OneDrive\\Desktop\\car_ai\\drowsy_driver\\test_video4.mp4: 384x640 1 drowsy, 15.0ms\n",
      "video 1/1 (859/1201) c:\\Users\\leduc\\OneDrive\\Desktop\\car_ai\\drowsy_driver\\test_video4.mp4: 384x640 1 drowsy, 11.0ms\n",
      "video 1/1 (860/1201) c:\\Users\\leduc\\OneDrive\\Desktop\\car_ai\\drowsy_driver\\test_video4.mp4: 384x640 1 drowsy, 12.0ms\n",
      "video 1/1 (861/1201) c:\\Users\\leduc\\OneDrive\\Desktop\\car_ai\\drowsy_driver\\test_video4.mp4: 384x640 1 drowsy, 10.0ms\n",
      "video 1/1 (862/1201) c:\\Users\\leduc\\OneDrive\\Desktop\\car_ai\\drowsy_driver\\test_video4.mp4: 384x640 1 drowsy, 9.0ms\n",
      "video 1/1 (863/1201) c:\\Users\\leduc\\OneDrive\\Desktop\\car_ai\\drowsy_driver\\test_video4.mp4: 384x640 1 drowsy, 7.2ms\n",
      "video 1/1 (864/1201) c:\\Users\\leduc\\OneDrive\\Desktop\\car_ai\\drowsy_driver\\test_video4.mp4: 384x640 1 drowsy, 7.5ms\n",
      "video 1/1 (865/1201) c:\\Users\\leduc\\OneDrive\\Desktop\\car_ai\\drowsy_driver\\test_video4.mp4: 384x640 1 drowsy, 6.5ms\n",
      "video 1/1 (866/1201) c:\\Users\\leduc\\OneDrive\\Desktop\\car_ai\\drowsy_driver\\test_video4.mp4: 384x640 1 drowsy, 15.3ms\n",
      "video 1/1 (867/1201) c:\\Users\\leduc\\OneDrive\\Desktop\\car_ai\\drowsy_driver\\test_video4.mp4: 384x640 1 drowsy, 18.1ms\n",
      "video 1/1 (868/1201) c:\\Users\\leduc\\OneDrive\\Desktop\\car_ai\\drowsy_driver\\test_video4.mp4: 384x640 1 drowsy, 15.0ms\n",
      "video 1/1 (869/1201) c:\\Users\\leduc\\OneDrive\\Desktop\\car_ai\\drowsy_driver\\test_video4.mp4: 384x640 1 drowsy, 7.1ms\n",
      "video 1/1 (870/1201) c:\\Users\\leduc\\OneDrive\\Desktop\\car_ai\\drowsy_driver\\test_video4.mp4: 384x640 1 drowsy, 8.0ms\n",
      "video 1/1 (871/1201) c:\\Users\\leduc\\OneDrive\\Desktop\\car_ai\\drowsy_driver\\test_video4.mp4: 384x640 1 drowsy, 10.0ms\n",
      "video 1/1 (872/1201) c:\\Users\\leduc\\OneDrive\\Desktop\\car_ai\\drowsy_driver\\test_video4.mp4: 384x640 1 drowsy, 11.0ms\n",
      "video 1/1 (873/1201) c:\\Users\\leduc\\OneDrive\\Desktop\\car_ai\\drowsy_driver\\test_video4.mp4: 384x640 1 drowsy, 8.0ms\n",
      "video 1/1 (874/1201) c:\\Users\\leduc\\OneDrive\\Desktop\\car_ai\\drowsy_driver\\test_video4.mp4: 384x640 1 drowsy, 7.0ms\n",
      "video 1/1 (875/1201) c:\\Users\\leduc\\OneDrive\\Desktop\\car_ai\\drowsy_driver\\test_video4.mp4: 384x640 1 drowsy, 7.5ms\n",
      "video 1/1 (876/1201) c:\\Users\\leduc\\OneDrive\\Desktop\\car_ai\\drowsy_driver\\test_video4.mp4: 384x640 1 drowsy, 8.4ms\n",
      "video 1/1 (877/1201) c:\\Users\\leduc\\OneDrive\\Desktop\\car_ai\\drowsy_driver\\test_video4.mp4: 384x640 1 drowsy, 10.9ms\n",
      "video 1/1 (878/1201) c:\\Users\\leduc\\OneDrive\\Desktop\\car_ai\\drowsy_driver\\test_video4.mp4: 384x640 1 drowsy, 8.1ms\n",
      "video 1/1 (879/1201) c:\\Users\\leduc\\OneDrive\\Desktop\\car_ai\\drowsy_driver\\test_video4.mp4: 384x640 1 drowsy, 7.3ms\n",
      "video 1/1 (880/1201) c:\\Users\\leduc\\OneDrive\\Desktop\\car_ai\\drowsy_driver\\test_video4.mp4: 384x640 1 drowsy, 7.1ms\n",
      "video 1/1 (881/1201) c:\\Users\\leduc\\OneDrive\\Desktop\\car_ai\\drowsy_driver\\test_video4.mp4: 384x640 1 drowsy, 10.9ms\n",
      "video 1/1 (882/1201) c:\\Users\\leduc\\OneDrive\\Desktop\\car_ai\\drowsy_driver\\test_video4.mp4: 384x640 1 drowsy, 8.3ms\n",
      "video 1/1 (883/1201) c:\\Users\\leduc\\OneDrive\\Desktop\\car_ai\\drowsy_driver\\test_video4.mp4: 384x640 1 drowsy, 8.1ms\n",
      "video 1/1 (884/1201) c:\\Users\\leduc\\OneDrive\\Desktop\\car_ai\\drowsy_driver\\test_video4.mp4: 384x640 1 drowsy, 11.5ms\n",
      "video 1/1 (885/1201) c:\\Users\\leduc\\OneDrive\\Desktop\\car_ai\\drowsy_driver\\test_video4.mp4: 384x640 1 drowsy, 10.4ms\n",
      "video 1/1 (886/1201) c:\\Users\\leduc\\OneDrive\\Desktop\\car_ai\\drowsy_driver\\test_video4.mp4: 384x640 1 drowsy, 12.0ms\n",
      "video 1/1 (887/1201) c:\\Users\\leduc\\OneDrive\\Desktop\\car_ai\\drowsy_driver\\test_video4.mp4: 384x640 1 drowsy, 12.0ms\n",
      "video 1/1 (888/1201) c:\\Users\\leduc\\OneDrive\\Desktop\\car_ai\\drowsy_driver\\test_video4.mp4: 384x640 1 drowsy, 11.0ms\n",
      "video 1/1 (889/1201) c:\\Users\\leduc\\OneDrive\\Desktop\\car_ai\\drowsy_driver\\test_video4.mp4: 384x640 1 drowsy, 10.1ms\n",
      "video 1/1 (890/1201) c:\\Users\\leduc\\OneDrive\\Desktop\\car_ai\\drowsy_driver\\test_video4.mp4: 384x640 1 drowsy, 8.2ms\n",
      "video 1/1 (891/1201) c:\\Users\\leduc\\OneDrive\\Desktop\\car_ai\\drowsy_driver\\test_video4.mp4: 384x640 1 drowsy, 7.4ms\n",
      "video 1/1 (892/1201) c:\\Users\\leduc\\OneDrive\\Desktop\\car_ai\\drowsy_driver\\test_video4.mp4: 384x640 1 drowsy, 10.3ms\n",
      "video 1/1 (893/1201) c:\\Users\\leduc\\OneDrive\\Desktop\\car_ai\\drowsy_driver\\test_video4.mp4: 384x640 1 drowsy, 7.4ms\n",
      "video 1/1 (894/1201) c:\\Users\\leduc\\OneDrive\\Desktop\\car_ai\\drowsy_driver\\test_video4.mp4: 384x640 1 drowsy, 15.0ms\n",
      "video 1/1 (895/1201) c:\\Users\\leduc\\OneDrive\\Desktop\\car_ai\\drowsy_driver\\test_video4.mp4: 384x640 1 drowsy, 9.0ms\n",
      "video 1/1 (896/1201) c:\\Users\\leduc\\OneDrive\\Desktop\\car_ai\\drowsy_driver\\test_video4.mp4: 384x640 1 drowsy, 7.9ms\n",
      "video 1/1 (897/1201) c:\\Users\\leduc\\OneDrive\\Desktop\\car_ai\\drowsy_driver\\test_video4.mp4: 384x640 1 drowsy, 11.3ms\n",
      "video 1/1 (898/1201) c:\\Users\\leduc\\OneDrive\\Desktop\\car_ai\\drowsy_driver\\test_video4.mp4: 384x640 1 drowsy, 11.1ms\n",
      "video 1/1 (899/1201) c:\\Users\\leduc\\OneDrive\\Desktop\\car_ai\\drowsy_driver\\test_video4.mp4: 384x640 1 drowsy, 12.0ms\n",
      "video 1/1 (900/1201) c:\\Users\\leduc\\OneDrive\\Desktop\\car_ai\\drowsy_driver\\test_video4.mp4: 384x640 1 drowsy, 9.9ms\n",
      "video 1/1 (901/1201) c:\\Users\\leduc\\OneDrive\\Desktop\\car_ai\\drowsy_driver\\test_video4.mp4: 384x640 1 drowsy, 11.0ms\n",
      "video 1/1 (902/1201) c:\\Users\\leduc\\OneDrive\\Desktop\\car_ai\\drowsy_driver\\test_video4.mp4: 384x640 1 drowsy, 9.0ms\n",
      "video 1/1 (903/1201) c:\\Users\\leduc\\OneDrive\\Desktop\\car_ai\\drowsy_driver\\test_video4.mp4: 384x640 1 drowsy, 7.1ms\n",
      "video 1/1 (904/1201) c:\\Users\\leduc\\OneDrive\\Desktop\\car_ai\\drowsy_driver\\test_video4.mp4: 384x640 1 drowsy, 8.6ms\n",
      "video 1/1 (905/1201) c:\\Users\\leduc\\OneDrive\\Desktop\\car_ai\\drowsy_driver\\test_video4.mp4: 384x640 1 drowsy, 6.9ms\n",
      "video 1/1 (906/1201) c:\\Users\\leduc\\OneDrive\\Desktop\\car_ai\\drowsy_driver\\test_video4.mp4: 384x640 1 drowsy, 8.0ms\n",
      "video 1/1 (907/1201) c:\\Users\\leduc\\OneDrive\\Desktop\\car_ai\\drowsy_driver\\test_video4.mp4: 384x640 1 drowsy, 7.1ms\n",
      "video 1/1 (908/1201) c:\\Users\\leduc\\OneDrive\\Desktop\\car_ai\\drowsy_driver\\test_video4.mp4: 384x640 1 drowsy, 7.0ms\n",
      "video 1/1 (909/1201) c:\\Users\\leduc\\OneDrive\\Desktop\\car_ai\\drowsy_driver\\test_video4.mp4: 384x640 1 drowsy, 7.3ms\n",
      "video 1/1 (910/1201) c:\\Users\\leduc\\OneDrive\\Desktop\\car_ai\\drowsy_driver\\test_video4.mp4: 384x640 1 drowsy, 15.6ms\n",
      "video 1/1 (911/1201) c:\\Users\\leduc\\OneDrive\\Desktop\\car_ai\\drowsy_driver\\test_video4.mp4: 384x640 1 drowsy, 11.1ms\n",
      "video 1/1 (912/1201) c:\\Users\\leduc\\OneDrive\\Desktop\\car_ai\\drowsy_driver\\test_video4.mp4: 384x640 1 drowsy, 11.9ms\n",
      "video 1/1 (913/1201) c:\\Users\\leduc\\OneDrive\\Desktop\\car_ai\\drowsy_driver\\test_video4.mp4: 384x640 1 drowsy, 11.0ms\n",
      "video 1/1 (914/1201) c:\\Users\\leduc\\OneDrive\\Desktop\\car_ai\\drowsy_driver\\test_video4.mp4: 384x640 1 drowsy, 14.9ms\n",
      "video 1/1 (915/1201) c:\\Users\\leduc\\OneDrive\\Desktop\\car_ai\\drowsy_driver\\test_video4.mp4: 384x640 1 drowsy, 17.5ms\n",
      "video 1/1 (916/1201) c:\\Users\\leduc\\OneDrive\\Desktop\\car_ai\\drowsy_driver\\test_video4.mp4: 384x640 1 drowsy, 10.0ms\n",
      "video 1/1 (917/1201) c:\\Users\\leduc\\OneDrive\\Desktop\\car_ai\\drowsy_driver\\test_video4.mp4: 384x640 1 drowsy, 11.0ms\n",
      "video 1/1 (918/1201) c:\\Users\\leduc\\OneDrive\\Desktop\\car_ai\\drowsy_driver\\test_video4.mp4: 384x640 1 drowsy, 12.0ms\n",
      "video 1/1 (919/1201) c:\\Users\\leduc\\OneDrive\\Desktop\\car_ai\\drowsy_driver\\test_video4.mp4: 384x640 1 drowsy, 10.2ms\n",
      "video 1/1 (920/1201) c:\\Users\\leduc\\OneDrive\\Desktop\\car_ai\\drowsy_driver\\test_video4.mp4: 384x640 1 drowsy, 13.9ms\n",
      "video 1/1 (921/1201) c:\\Users\\leduc\\OneDrive\\Desktop\\car_ai\\drowsy_driver\\test_video4.mp4: 384x640 1 drowsy, 7.9ms\n",
      "video 1/1 (922/1201) c:\\Users\\leduc\\OneDrive\\Desktop\\car_ai\\drowsy_driver\\test_video4.mp4: 384x640 1 drowsy, 10.6ms\n",
      "video 1/1 (923/1201) c:\\Users\\leduc\\OneDrive\\Desktop\\car_ai\\drowsy_driver\\test_video4.mp4: 384x640 1 drowsy, 8.0ms\n",
      "video 1/1 (924/1201) c:\\Users\\leduc\\OneDrive\\Desktop\\car_ai\\drowsy_driver\\test_video4.mp4: 384x640 1 drowsy, 14.5ms\n",
      "video 1/1 (925/1201) c:\\Users\\leduc\\OneDrive\\Desktop\\car_ai\\drowsy_driver\\test_video4.mp4: 384x640 1 drowsy, 14.0ms\n",
      "video 1/1 (926/1201) c:\\Users\\leduc\\OneDrive\\Desktop\\car_ai\\drowsy_driver\\test_video4.mp4: 384x640 1 drowsy, 13.0ms\n",
      "video 1/1 (927/1201) c:\\Users\\leduc\\OneDrive\\Desktop\\car_ai\\drowsy_driver\\test_video4.mp4: 384x640 1 drowsy, 13.0ms\n",
      "video 1/1 (928/1201) c:\\Users\\leduc\\OneDrive\\Desktop\\car_ai\\drowsy_driver\\test_video4.mp4: 384x640 1 drowsy, 12.5ms\n",
      "video 1/1 (929/1201) c:\\Users\\leduc\\OneDrive\\Desktop\\car_ai\\drowsy_driver\\test_video4.mp4: 384x640 1 drowsy, 18.0ms\n",
      "video 1/1 (930/1201) c:\\Users\\leduc\\OneDrive\\Desktop\\car_ai\\drowsy_driver\\test_video4.mp4: 384x640 1 drowsy, 14.3ms\n",
      "video 1/1 (931/1201) c:\\Users\\leduc\\OneDrive\\Desktop\\car_ai\\drowsy_driver\\test_video4.mp4: 384x640 1 drowsy, 13.0ms\n",
      "video 1/1 (932/1201) c:\\Users\\leduc\\OneDrive\\Desktop\\car_ai\\drowsy_driver\\test_video4.mp4: 384x640 1 drowsy, 12.0ms\n",
      "video 1/1 (933/1201) c:\\Users\\leduc\\OneDrive\\Desktop\\car_ai\\drowsy_driver\\test_video4.mp4: 384x640 1 drowsy, 11.9ms\n",
      "video 1/1 (934/1201) c:\\Users\\leduc\\OneDrive\\Desktop\\car_ai\\drowsy_driver\\test_video4.mp4: 384x640 1 drowsy, 12.0ms\n",
      "video 1/1 (935/1201) c:\\Users\\leduc\\OneDrive\\Desktop\\car_ai\\drowsy_driver\\test_video4.mp4: 384x640 1 drowsy, 9.6ms\n",
      "video 1/1 (936/1201) c:\\Users\\leduc\\OneDrive\\Desktop\\car_ai\\drowsy_driver\\test_video4.mp4: 384x640 1 drowsy, 22.8ms\n",
      "video 1/1 (937/1201) c:\\Users\\leduc\\OneDrive\\Desktop\\car_ai\\drowsy_driver\\test_video4.mp4: 384x640 1 drowsy, 12.9ms\n",
      "video 1/1 (938/1201) c:\\Users\\leduc\\OneDrive\\Desktop\\car_ai\\drowsy_driver\\test_video4.mp4: 384x640 1 drowsy, 15.1ms\n",
      "video 1/1 (939/1201) c:\\Users\\leduc\\OneDrive\\Desktop\\car_ai\\drowsy_driver\\test_video4.mp4: 384x640 1 drowsy, 13.0ms\n",
      "video 1/1 (940/1201) c:\\Users\\leduc\\OneDrive\\Desktop\\car_ai\\drowsy_driver\\test_video4.mp4: 384x640 1 drowsy, 12.9ms\n",
      "video 1/1 (941/1201) c:\\Users\\leduc\\OneDrive\\Desktop\\car_ai\\drowsy_driver\\test_video4.mp4: 384x640 1 drowsy, 12.9ms\n",
      "video 1/1 (942/1201) c:\\Users\\leduc\\OneDrive\\Desktop\\car_ai\\drowsy_driver\\test_video4.mp4: 384x640 1 drowsy, 15.9ms\n",
      "video 1/1 (943/1201) c:\\Users\\leduc\\OneDrive\\Desktop\\car_ai\\drowsy_driver\\test_video4.mp4: 384x640 1 drowsy, 16.5ms\n",
      "video 1/1 (944/1201) c:\\Users\\leduc\\OneDrive\\Desktop\\car_ai\\drowsy_driver\\test_video4.mp4: 384x640 1 drowsy, 14.0ms\n",
      "video 1/1 (945/1201) c:\\Users\\leduc\\OneDrive\\Desktop\\car_ai\\drowsy_driver\\test_video4.mp4: 384x640 1 drowsy, 16.4ms\n",
      "video 1/1 (946/1201) c:\\Users\\leduc\\OneDrive\\Desktop\\car_ai\\drowsy_driver\\test_video4.mp4: 384x640 1 drowsy, 13.9ms\n",
      "video 1/1 (947/1201) c:\\Users\\leduc\\OneDrive\\Desktop\\car_ai\\drowsy_driver\\test_video4.mp4: 384x640 1 drowsy, 16.5ms\n",
      "video 1/1 (948/1201) c:\\Users\\leduc\\OneDrive\\Desktop\\car_ai\\drowsy_driver\\test_video4.mp4: 384x640 1 drowsy, 13.2ms\n",
      "video 1/1 (949/1201) c:\\Users\\leduc\\OneDrive\\Desktop\\car_ai\\drowsy_driver\\test_video4.mp4: 384x640 1 drowsy, 8.0ms\n",
      "video 1/1 (950/1201) c:\\Users\\leduc\\OneDrive\\Desktop\\car_ai\\drowsy_driver\\test_video4.mp4: 384x640 1 drowsy, 17.2ms\n",
      "video 1/1 (951/1201) c:\\Users\\leduc\\OneDrive\\Desktop\\car_ai\\drowsy_driver\\test_video4.mp4: 384x640 1 drowsy, 16.7ms\n",
      "video 1/1 (952/1201) c:\\Users\\leduc\\OneDrive\\Desktop\\car_ai\\drowsy_driver\\test_video4.mp4: 384x640 1 drowsy, 16.7ms\n",
      "video 1/1 (953/1201) c:\\Users\\leduc\\OneDrive\\Desktop\\car_ai\\drowsy_driver\\test_video4.mp4: 384x640 1 drowsy, 13.4ms\n",
      "video 1/1 (954/1201) c:\\Users\\leduc\\OneDrive\\Desktop\\car_ai\\drowsy_driver\\test_video4.mp4: 384x640 1 drowsy, 29.9ms\n",
      "video 1/1 (955/1201) c:\\Users\\leduc\\OneDrive\\Desktop\\car_ai\\drowsy_driver\\test_video4.mp4: 384x640 1 drowsy, 37.3ms\n",
      "video 1/1 (956/1201) c:\\Users\\leduc\\OneDrive\\Desktop\\car_ai\\drowsy_driver\\test_video4.mp4: 384x640 1 drowsy, 11.0ms\n",
      "video 1/1 (957/1201) c:\\Users\\leduc\\OneDrive\\Desktop\\car_ai\\drowsy_driver\\test_video4.mp4: 384x640 1 drowsy, 14.4ms\n",
      "video 1/1 (958/1201) c:\\Users\\leduc\\OneDrive\\Desktop\\car_ai\\drowsy_driver\\test_video4.mp4: 384x640 1 drowsy, 14.0ms\n",
      "video 1/1 (959/1201) c:\\Users\\leduc\\OneDrive\\Desktop\\car_ai\\drowsy_driver\\test_video4.mp4: 384x640 1 drowsy, 12.0ms\n",
      "video 1/1 (960/1201) c:\\Users\\leduc\\OneDrive\\Desktop\\car_ai\\drowsy_driver\\test_video4.mp4: 384x640 1 drowsy, 8.3ms\n",
      "video 1/1 (961/1201) c:\\Users\\leduc\\OneDrive\\Desktop\\car_ai\\drowsy_driver\\test_video4.mp4: 384x640 1 drowsy, 6.9ms\n",
      "video 1/1 (962/1201) c:\\Users\\leduc\\OneDrive\\Desktop\\car_ai\\drowsy_driver\\test_video4.mp4: 384x640 1 drowsy, 12.1ms\n",
      "video 1/1 (963/1201) c:\\Users\\leduc\\OneDrive\\Desktop\\car_ai\\drowsy_driver\\test_video4.mp4: 384x640 1 drowsy, 11.6ms\n",
      "video 1/1 (964/1201) c:\\Users\\leduc\\OneDrive\\Desktop\\car_ai\\drowsy_driver\\test_video4.mp4: 384x640 1 drowsy, 12.0ms\n",
      "video 1/1 (965/1201) c:\\Users\\leduc\\OneDrive\\Desktop\\car_ai\\drowsy_driver\\test_video4.mp4: 384x640 1 drowsy, 12.7ms\n",
      "video 1/1 (966/1201) c:\\Users\\leduc\\OneDrive\\Desktop\\car_ai\\drowsy_driver\\test_video4.mp4: 384x640 1 drowsy, 12.0ms\n",
      "video 1/1 (967/1201) c:\\Users\\leduc\\OneDrive\\Desktop\\car_ai\\drowsy_driver\\test_video4.mp4: 384x640 1 drowsy, 12.0ms\n",
      "video 1/1 (968/1201) c:\\Users\\leduc\\OneDrive\\Desktop\\car_ai\\drowsy_driver\\test_video4.mp4: 384x640 1 drowsy, 12.0ms\n",
      "video 1/1 (969/1201) c:\\Users\\leduc\\OneDrive\\Desktop\\car_ai\\drowsy_driver\\test_video4.mp4: 384x640 1 drowsy, 13.0ms\n",
      "video 1/1 (970/1201) c:\\Users\\leduc\\OneDrive\\Desktop\\car_ai\\drowsy_driver\\test_video4.mp4: 384x640 1 drowsy, 13.0ms\n",
      "video 1/1 (971/1201) c:\\Users\\leduc\\OneDrive\\Desktop\\car_ai\\drowsy_driver\\test_video4.mp4: 384x640 1 drowsy, 8.4ms\n",
      "video 1/1 (972/1201) c:\\Users\\leduc\\OneDrive\\Desktop\\car_ai\\drowsy_driver\\test_video4.mp4: 384x640 1 drowsy, 15.2ms\n",
      "video 1/1 (973/1201) c:\\Users\\leduc\\OneDrive\\Desktop\\car_ai\\drowsy_driver\\test_video4.mp4: 384x640 1 drowsy, 7.0ms\n",
      "video 1/1 (974/1201) c:\\Users\\leduc\\OneDrive\\Desktop\\car_ai\\drowsy_driver\\test_video4.mp4: 384x640 1 drowsy, 14.0ms\n",
      "video 1/1 (975/1201) c:\\Users\\leduc\\OneDrive\\Desktop\\car_ai\\drowsy_driver\\test_video4.mp4: 384x640 1 drowsy, 10.0ms\n",
      "video 1/1 (976/1201) c:\\Users\\leduc\\OneDrive\\Desktop\\car_ai\\drowsy_driver\\test_video4.mp4: 384x640 1 drowsy, 14.0ms\n",
      "video 1/1 (977/1201) c:\\Users\\leduc\\OneDrive\\Desktop\\car_ai\\drowsy_driver\\test_video4.mp4: 384x640 1 drowsy, 12.0ms\n",
      "video 1/1 (978/1201) c:\\Users\\leduc\\OneDrive\\Desktop\\car_ai\\drowsy_driver\\test_video4.mp4: 384x640 1 drowsy, 13.0ms\n",
      "video 1/1 (979/1201) c:\\Users\\leduc\\OneDrive\\Desktop\\car_ai\\drowsy_driver\\test_video4.mp4: 384x640 1 drowsy, 13.2ms\n",
      "video 1/1 (980/1201) c:\\Users\\leduc\\OneDrive\\Desktop\\car_ai\\drowsy_driver\\test_video4.mp4: 384x640 1 drowsy, 15.3ms\n",
      "video 1/1 (981/1201) c:\\Users\\leduc\\OneDrive\\Desktop\\car_ai\\drowsy_driver\\test_video4.mp4: 384x640 1 drowsy, 10.7ms\n",
      "video 1/1 (982/1201) c:\\Users\\leduc\\OneDrive\\Desktop\\car_ai\\drowsy_driver\\test_video4.mp4: 384x640 1 drowsy, 13.0ms\n",
      "video 1/1 (983/1201) c:\\Users\\leduc\\OneDrive\\Desktop\\car_ai\\drowsy_driver\\test_video4.mp4: 384x640 1 drowsy, 13.0ms\n",
      "video 1/1 (984/1201) c:\\Users\\leduc\\OneDrive\\Desktop\\car_ai\\drowsy_driver\\test_video4.mp4: 384x640 1 drowsy, 13.1ms\n",
      "video 1/1 (985/1201) c:\\Users\\leduc\\OneDrive\\Desktop\\car_ai\\drowsy_driver\\test_video4.mp4: 384x640 1 drowsy, 14.2ms\n",
      "video 1/1 (986/1201) c:\\Users\\leduc\\OneDrive\\Desktop\\car_ai\\drowsy_driver\\test_video4.mp4: 384x640 1 drowsy, 12.9ms\n",
      "video 1/1 (987/1201) c:\\Users\\leduc\\OneDrive\\Desktop\\car_ai\\drowsy_driver\\test_video4.mp4: 384x640 1 drowsy, 13.3ms\n",
      "video 1/1 (988/1201) c:\\Users\\leduc\\OneDrive\\Desktop\\car_ai\\drowsy_driver\\test_video4.mp4: 384x640 1 drowsy, 16.0ms\n",
      "video 1/1 (989/1201) c:\\Users\\leduc\\OneDrive\\Desktop\\car_ai\\drowsy_driver\\test_video4.mp4: 384x640 1 drowsy, 8.9ms\n",
      "video 1/1 (990/1201) c:\\Users\\leduc\\OneDrive\\Desktop\\car_ai\\drowsy_driver\\test_video4.mp4: 384x640 1 drowsy, 14.0ms\n",
      "video 1/1 (991/1201) c:\\Users\\leduc\\OneDrive\\Desktop\\car_ai\\drowsy_driver\\test_video4.mp4: 384x640 1 drowsy, 12.1ms\n",
      "video 1/1 (992/1201) c:\\Users\\leduc\\OneDrive\\Desktop\\car_ai\\drowsy_driver\\test_video4.mp4: 384x640 1 drowsy, 12.0ms\n",
      "video 1/1 (993/1201) c:\\Users\\leduc\\OneDrive\\Desktop\\car_ai\\drowsy_driver\\test_video4.mp4: 384x640 1 drowsy, 25.5ms\n",
      "video 1/1 (994/1201) c:\\Users\\leduc\\OneDrive\\Desktop\\car_ai\\drowsy_driver\\test_video4.mp4: 384x640 1 drowsy, 19.3ms\n",
      "video 1/1 (995/1201) c:\\Users\\leduc\\OneDrive\\Desktop\\car_ai\\drowsy_driver\\test_video4.mp4: 384x640 1 drowsy, 30.0ms\n",
      "video 1/1 (996/1201) c:\\Users\\leduc\\OneDrive\\Desktop\\car_ai\\drowsy_driver\\test_video4.mp4: 384x640 1 drowsy, 31.2ms\n",
      "video 1/1 (997/1201) c:\\Users\\leduc\\OneDrive\\Desktop\\car_ai\\drowsy_driver\\test_video4.mp4: 384x640 1 drowsy, 14.3ms\n",
      "video 1/1 (998/1201) c:\\Users\\leduc\\OneDrive\\Desktop\\car_ai\\drowsy_driver\\test_video4.mp4: 384x640 1 drowsy, 14.1ms\n",
      "video 1/1 (999/1201) c:\\Users\\leduc\\OneDrive\\Desktop\\car_ai\\drowsy_driver\\test_video4.mp4: 384x640 1 drowsy, 13.0ms\n",
      "video 1/1 (1000/1201) c:\\Users\\leduc\\OneDrive\\Desktop\\car_ai\\drowsy_driver\\test_video4.mp4: 384x640 1 drowsy, 16.4ms\n",
      "video 1/1 (1001/1201) c:\\Users\\leduc\\OneDrive\\Desktop\\car_ai\\drowsy_driver\\test_video4.mp4: 384x640 1 drowsy, 14.0ms\n",
      "video 1/1 (1002/1201) c:\\Users\\leduc\\OneDrive\\Desktop\\car_ai\\drowsy_driver\\test_video4.mp4: 384x640 1 drowsy, 14.0ms\n",
      "video 1/1 (1003/1201) c:\\Users\\leduc\\OneDrive\\Desktop\\car_ai\\drowsy_driver\\test_video4.mp4: 384x640 1 drowsy, 15.2ms\n",
      "video 1/1 (1004/1201) c:\\Users\\leduc\\OneDrive\\Desktop\\car_ai\\drowsy_driver\\test_video4.mp4: 384x640 1 drowsy, 14.0ms\n",
      "video 1/1 (1005/1201) c:\\Users\\leduc\\OneDrive\\Desktop\\car_ai\\drowsy_driver\\test_video4.mp4: 384x640 1 drowsy, 13.4ms\n",
      "video 1/1 (1006/1201) c:\\Users\\leduc\\OneDrive\\Desktop\\car_ai\\drowsy_driver\\test_video4.mp4: 384x640 (no detections), 12.0ms\n",
      "video 1/1 (1007/1201) c:\\Users\\leduc\\OneDrive\\Desktop\\car_ai\\drowsy_driver\\test_video4.mp4: 384x640 (no detections), 14.5ms\n",
      "video 1/1 (1008/1201) c:\\Users\\leduc\\OneDrive\\Desktop\\car_ai\\drowsy_driver\\test_video4.mp4: 384x640 (no detections), 15.6ms\n",
      "video 1/1 (1009/1201) c:\\Users\\leduc\\OneDrive\\Desktop\\car_ai\\drowsy_driver\\test_video4.mp4: 384x640 (no detections), 11.9ms\n",
      "video 1/1 (1010/1201) c:\\Users\\leduc\\OneDrive\\Desktop\\car_ai\\drowsy_driver\\test_video4.mp4: 384x640 (no detections), 11.5ms\n",
      "video 1/1 (1011/1201) c:\\Users\\leduc\\OneDrive\\Desktop\\car_ai\\drowsy_driver\\test_video4.mp4: 384x640 (no detections), 11.0ms\n",
      "video 1/1 (1012/1201) c:\\Users\\leduc\\OneDrive\\Desktop\\car_ai\\drowsy_driver\\test_video4.mp4: 384x640 (no detections), 12.0ms\n",
      "video 1/1 (1013/1201) c:\\Users\\leduc\\OneDrive\\Desktop\\car_ai\\drowsy_driver\\test_video4.mp4: 384x640 (no detections), 9.3ms\n",
      "video 1/1 (1014/1201) c:\\Users\\leduc\\OneDrive\\Desktop\\car_ai\\drowsy_driver\\test_video4.mp4: 384x640 (no detections), 9.0ms\n",
      "video 1/1 (1015/1201) c:\\Users\\leduc\\OneDrive\\Desktop\\car_ai\\drowsy_driver\\test_video4.mp4: 384x640 (no detections), 10.4ms\n",
      "video 1/1 (1016/1201) c:\\Users\\leduc\\OneDrive\\Desktop\\car_ai\\drowsy_driver\\test_video4.mp4: 384x640 (no detections), 7.0ms\n",
      "video 1/1 (1017/1201) c:\\Users\\leduc\\OneDrive\\Desktop\\car_ai\\drowsy_driver\\test_video4.mp4: 384x640 (no detections), 15.2ms\n",
      "video 1/1 (1018/1201) c:\\Users\\leduc\\OneDrive\\Desktop\\car_ai\\drowsy_driver\\test_video4.mp4: 384x640 (no detections), 13.5ms\n",
      "video 1/1 (1019/1201) c:\\Users\\leduc\\OneDrive\\Desktop\\car_ai\\drowsy_driver\\test_video4.mp4: 384x640 (no detections), 12.9ms\n",
      "video 1/1 (1020/1201) c:\\Users\\leduc\\OneDrive\\Desktop\\car_ai\\drowsy_driver\\test_video4.mp4: 384x640 (no detections), 11.3ms\n",
      "video 1/1 (1021/1201) c:\\Users\\leduc\\OneDrive\\Desktop\\car_ai\\drowsy_driver\\test_video4.mp4: 384x640 (no detections), 13.0ms\n",
      "video 1/1 (1022/1201) c:\\Users\\leduc\\OneDrive\\Desktop\\car_ai\\drowsy_driver\\test_video4.mp4: 384x640 (no detections), 12.0ms\n",
      "video 1/1 (1023/1201) c:\\Users\\leduc\\OneDrive\\Desktop\\car_ai\\drowsy_driver\\test_video4.mp4: 384x640 (no detections), 13.1ms\n",
      "video 1/1 (1024/1201) c:\\Users\\leduc\\OneDrive\\Desktop\\car_ai\\drowsy_driver\\test_video4.mp4: 384x640 (no detections), 7.1ms\n",
      "video 1/1 (1025/1201) c:\\Users\\leduc\\OneDrive\\Desktop\\car_ai\\drowsy_driver\\test_video4.mp4: 384x640 (no detections), 8.0ms\n",
      "video 1/1 (1026/1201) c:\\Users\\leduc\\OneDrive\\Desktop\\car_ai\\drowsy_driver\\test_video4.mp4: 384x640 (no detections), 11.0ms\n",
      "video 1/1 (1027/1201) c:\\Users\\leduc\\OneDrive\\Desktop\\car_ai\\drowsy_driver\\test_video4.mp4: 384x640 (no detections), 12.5ms\n",
      "video 1/1 (1028/1201) c:\\Users\\leduc\\OneDrive\\Desktop\\car_ai\\drowsy_driver\\test_video4.mp4: 384x640 (no detections), 10.0ms\n",
      "video 1/1 (1029/1201) c:\\Users\\leduc\\OneDrive\\Desktop\\car_ai\\drowsy_driver\\test_video4.mp4: 384x640 (no detections), 11.7ms\n",
      "video 1/1 (1030/1201) c:\\Users\\leduc\\OneDrive\\Desktop\\car_ai\\drowsy_driver\\test_video4.mp4: 384x640 (no detections), 36.3ms\n",
      "video 1/1 (1031/1201) c:\\Users\\leduc\\OneDrive\\Desktop\\car_ai\\drowsy_driver\\test_video4.mp4: 384x640 (no detections), 34.6ms\n",
      "video 1/1 (1032/1201) c:\\Users\\leduc\\OneDrive\\Desktop\\car_ai\\drowsy_driver\\test_video4.mp4: 384x640 (no detections), 28.0ms\n",
      "video 1/1 (1033/1201) c:\\Users\\leduc\\OneDrive\\Desktop\\car_ai\\drowsy_driver\\test_video4.mp4: 384x640 (no detections), 25.0ms\n",
      "video 1/1 (1034/1201) c:\\Users\\leduc\\OneDrive\\Desktop\\car_ai\\drowsy_driver\\test_video4.mp4: 384x640 (no detections), 40.3ms\n",
      "video 1/1 (1035/1201) c:\\Users\\leduc\\OneDrive\\Desktop\\car_ai\\drowsy_driver\\test_video4.mp4: 384x640 (no detections), 47.8ms\n",
      "video 1/1 (1036/1201) c:\\Users\\leduc\\OneDrive\\Desktop\\car_ai\\drowsy_driver\\test_video4.mp4: 384x640 (no detections), 123.4ms\n",
      "video 1/1 (1037/1201) c:\\Users\\leduc\\OneDrive\\Desktop\\car_ai\\drowsy_driver\\test_video4.mp4: 384x640 (no detections), 164.5ms\n",
      "video 1/1 (1038/1201) c:\\Users\\leduc\\OneDrive\\Desktop\\car_ai\\drowsy_driver\\test_video4.mp4: 384x640 (no detections), 142.3ms\n",
      "video 1/1 (1039/1201) c:\\Users\\leduc\\OneDrive\\Desktop\\car_ai\\drowsy_driver\\test_video4.mp4: 384x640 (no detections), 189.9ms\n",
      "video 1/1 (1040/1201) c:\\Users\\leduc\\OneDrive\\Desktop\\car_ai\\drowsy_driver\\test_video4.mp4: 384x640 (no detections), 9.0ms\n",
      "video 1/1 (1041/1201) c:\\Users\\leduc\\OneDrive\\Desktop\\car_ai\\drowsy_driver\\test_video4.mp4: 384x640 (no detections), 15.6ms\n",
      "video 1/1 (1042/1201) c:\\Users\\leduc\\OneDrive\\Desktop\\car_ai\\drowsy_driver\\test_video4.mp4: 384x640 (no detections), 13.9ms\n",
      "video 1/1 (1043/1201) c:\\Users\\leduc\\OneDrive\\Desktop\\car_ai\\drowsy_driver\\test_video4.mp4: 384x640 (no detections), 11.9ms\n",
      "video 1/1 (1044/1201) c:\\Users\\leduc\\OneDrive\\Desktop\\car_ai\\drowsy_driver\\test_video4.mp4: 384x640 (no detections), 12.2ms\n",
      "video 1/1 (1045/1201) c:\\Users\\leduc\\OneDrive\\Desktop\\car_ai\\drowsy_driver\\test_video4.mp4: 384x640 (no detections), 13.7ms\n",
      "video 1/1 (1046/1201) c:\\Users\\leduc\\OneDrive\\Desktop\\car_ai\\drowsy_driver\\test_video4.mp4: 384x640 (no detections), 15.0ms\n",
      "video 1/1 (1047/1201) c:\\Users\\leduc\\OneDrive\\Desktop\\car_ai\\drowsy_driver\\test_video4.mp4: 384x640 (no detections), 10.5ms\n",
      "video 1/1 (1048/1201) c:\\Users\\leduc\\OneDrive\\Desktop\\car_ai\\drowsy_driver\\test_video4.mp4: 384x640 (no detections), 13.4ms\n",
      "video 1/1 (1049/1201) c:\\Users\\leduc\\OneDrive\\Desktop\\car_ai\\drowsy_driver\\test_video4.mp4: 384x640 (no detections), 12.7ms\n",
      "video 1/1 (1050/1201) c:\\Users\\leduc\\OneDrive\\Desktop\\car_ai\\drowsy_driver\\test_video4.mp4: 384x640 (no detections), 12.8ms\n",
      "video 1/1 (1051/1201) c:\\Users\\leduc\\OneDrive\\Desktop\\car_ai\\drowsy_driver\\test_video4.mp4: 384x640 1 drowsy, 13.0ms\n",
      "video 1/1 (1052/1201) c:\\Users\\leduc\\OneDrive\\Desktop\\car_ai\\drowsy_driver\\test_video4.mp4: 384x640 1 drowsy, 10.0ms\n",
      "video 1/1 (1053/1201) c:\\Users\\leduc\\OneDrive\\Desktop\\car_ai\\drowsy_driver\\test_video4.mp4: 384x640 1 drowsy, 13.0ms\n",
      "video 1/1 (1054/1201) c:\\Users\\leduc\\OneDrive\\Desktop\\car_ai\\drowsy_driver\\test_video4.mp4: 384x640 1 drowsy, 10.0ms\n",
      "video 1/1 (1055/1201) c:\\Users\\leduc\\OneDrive\\Desktop\\car_ai\\drowsy_driver\\test_video4.mp4: 384x640 1 drowsy, 10.0ms\n",
      "video 1/1 (1056/1201) c:\\Users\\leduc\\OneDrive\\Desktop\\car_ai\\drowsy_driver\\test_video4.mp4: 384x640 1 drowsy, 10.3ms\n",
      "video 1/1 (1057/1201) c:\\Users\\leduc\\OneDrive\\Desktop\\car_ai\\drowsy_driver\\test_video4.mp4: 384x640 1 drowsy, 9.0ms\n",
      "video 1/1 (1058/1201) c:\\Users\\leduc\\OneDrive\\Desktop\\car_ai\\drowsy_driver\\test_video4.mp4: 384x640 1 drowsy, 11.4ms\n",
      "video 1/1 (1059/1201) c:\\Users\\leduc\\OneDrive\\Desktop\\car_ai\\drowsy_driver\\test_video4.mp4: 384x640 1 drowsy, 9.0ms\n",
      "video 1/1 (1060/1201) c:\\Users\\leduc\\OneDrive\\Desktop\\car_ai\\drowsy_driver\\test_video4.mp4: 384x640 1 drowsy, 11.0ms\n",
      "video 1/1 (1061/1201) c:\\Users\\leduc\\OneDrive\\Desktop\\car_ai\\drowsy_driver\\test_video4.mp4: 384x640 1 drowsy, 11.9ms\n",
      "video 1/1 (1062/1201) c:\\Users\\leduc\\OneDrive\\Desktop\\car_ai\\drowsy_driver\\test_video4.mp4: 384x640 1 drowsy, 10.0ms\n",
      "video 1/1 (1063/1201) c:\\Users\\leduc\\OneDrive\\Desktop\\car_ai\\drowsy_driver\\test_video4.mp4: 384x640 1 drowsy, 12.9ms\n",
      "video 1/1 (1064/1201) c:\\Users\\leduc\\OneDrive\\Desktop\\car_ai\\drowsy_driver\\test_video4.mp4: 384x640 1 drowsy, 11.9ms\n",
      "video 1/1 (1065/1201) c:\\Users\\leduc\\OneDrive\\Desktop\\car_ai\\drowsy_driver\\test_video4.mp4: 384x640 1 drowsy, 9.7ms\n",
      "video 1/1 (1066/1201) c:\\Users\\leduc\\OneDrive\\Desktop\\car_ai\\drowsy_driver\\test_video4.mp4: 384x640 1 drowsy, 7.7ms\n",
      "video 1/1 (1067/1201) c:\\Users\\leduc\\OneDrive\\Desktop\\car_ai\\drowsy_driver\\test_video4.mp4: 384x640 1 drowsy, 11.3ms\n",
      "video 1/1 (1068/1201) c:\\Users\\leduc\\OneDrive\\Desktop\\car_ai\\drowsy_driver\\test_video4.mp4: 384x640 1 drowsy, 11.6ms\n",
      "video 1/1 (1069/1201) c:\\Users\\leduc\\OneDrive\\Desktop\\car_ai\\drowsy_driver\\test_video4.mp4: 384x640 1 drowsy, 9.2ms\n",
      "video 1/1 (1070/1201) c:\\Users\\leduc\\OneDrive\\Desktop\\car_ai\\drowsy_driver\\test_video4.mp4: 384x640 1 drowsy, 6.9ms\n",
      "video 1/1 (1071/1201) c:\\Users\\leduc\\OneDrive\\Desktop\\car_ai\\drowsy_driver\\test_video4.mp4: 384x640 (no detections), 11.6ms\n",
      "video 1/1 (1072/1201) c:\\Users\\leduc\\OneDrive\\Desktop\\car_ai\\drowsy_driver\\test_video4.mp4: 384x640 (no detections), 5.9ms\n",
      "video 1/1 (1073/1201) c:\\Users\\leduc\\OneDrive\\Desktop\\car_ai\\drowsy_driver\\test_video4.mp4: 384x640 (no detections), 14.0ms\n",
      "video 1/1 (1074/1201) c:\\Users\\leduc\\OneDrive\\Desktop\\car_ai\\drowsy_driver\\test_video4.mp4: 384x640 (no detections), 9.0ms\n",
      "video 1/1 (1075/1201) c:\\Users\\leduc\\OneDrive\\Desktop\\car_ai\\drowsy_driver\\test_video4.mp4: 384x640 (no detections), 9.4ms\n",
      "video 1/1 (1076/1201) c:\\Users\\leduc\\OneDrive\\Desktop\\car_ai\\drowsy_driver\\test_video4.mp4: 384x640 (no detections), 10.0ms\n",
      "video 1/1 (1077/1201) c:\\Users\\leduc\\OneDrive\\Desktop\\car_ai\\drowsy_driver\\test_video4.mp4: 384x640 1 drowsy, 9.0ms\n",
      "video 1/1 (1078/1201) c:\\Users\\leduc\\OneDrive\\Desktop\\car_ai\\drowsy_driver\\test_video4.mp4: 384x640 (no detections), 11.7ms\n",
      "video 1/1 (1079/1201) c:\\Users\\leduc\\OneDrive\\Desktop\\car_ai\\drowsy_driver\\test_video4.mp4: 384x640 1 drowsy, 9.2ms\n",
      "video 1/1 (1080/1201) c:\\Users\\leduc\\OneDrive\\Desktop\\car_ai\\drowsy_driver\\test_video4.mp4: 384x640 1 drowsy, 11.5ms\n",
      "video 1/1 (1081/1201) c:\\Users\\leduc\\OneDrive\\Desktop\\car_ai\\drowsy_driver\\test_video4.mp4: 384x640 1 drowsy, 14.5ms\n",
      "video 1/1 (1082/1201) c:\\Users\\leduc\\OneDrive\\Desktop\\car_ai\\drowsy_driver\\test_video4.mp4: 384x640 (no detections), 16.1ms\n",
      "video 1/1 (1083/1201) c:\\Users\\leduc\\OneDrive\\Desktop\\car_ai\\drowsy_driver\\test_video4.mp4: 384x640 (no detections), 7.1ms\n",
      "video 1/1 (1084/1201) c:\\Users\\leduc\\OneDrive\\Desktop\\car_ai\\drowsy_driver\\test_video4.mp4: 384x640 (no detections), 14.9ms\n",
      "video 1/1 (1085/1201) c:\\Users\\leduc\\OneDrive\\Desktop\\car_ai\\drowsy_driver\\test_video4.mp4: 384x640 (no detections), 17.4ms\n",
      "video 1/1 (1086/1201) c:\\Users\\leduc\\OneDrive\\Desktop\\car_ai\\drowsy_driver\\test_video4.mp4: 384x640 (no detections), 14.9ms\n",
      "video 1/1 (1087/1201) c:\\Users\\leduc\\OneDrive\\Desktop\\car_ai\\drowsy_driver\\test_video4.mp4: 384x640 (no detections), 12.1ms\n",
      "video 1/1 (1088/1201) c:\\Users\\leduc\\OneDrive\\Desktop\\car_ai\\drowsy_driver\\test_video4.mp4: 384x640 (no detections), 13.0ms\n",
      "video 1/1 (1089/1201) c:\\Users\\leduc\\OneDrive\\Desktop\\car_ai\\drowsy_driver\\test_video4.mp4: 384x640 (no detections), 12.0ms\n",
      "video 1/1 (1090/1201) c:\\Users\\leduc\\OneDrive\\Desktop\\car_ai\\drowsy_driver\\test_video4.mp4: 384x640 1 drowsy, 12.6ms\n",
      "video 1/1 (1091/1201) c:\\Users\\leduc\\OneDrive\\Desktop\\car_ai\\drowsy_driver\\test_video4.mp4: 384x640 1 drowsy, 12.6ms\n",
      "video 1/1 (1092/1201) c:\\Users\\leduc\\OneDrive\\Desktop\\car_ai\\drowsy_driver\\test_video4.mp4: 384x640 1 drowsy, 22.7ms\n",
      "video 1/1 (1093/1201) c:\\Users\\leduc\\OneDrive\\Desktop\\car_ai\\drowsy_driver\\test_video4.mp4: 384x640 1 drowsy, 10.0ms\n",
      "video 1/1 (1094/1201) c:\\Users\\leduc\\OneDrive\\Desktop\\car_ai\\drowsy_driver\\test_video4.mp4: 384x640 1 drowsy, 30.1ms\n",
      "video 1/1 (1095/1201) c:\\Users\\leduc\\OneDrive\\Desktop\\car_ai\\drowsy_driver\\test_video4.mp4: 384x640 1 drowsy, 42.9ms\n",
      "video 1/1 (1096/1201) c:\\Users\\leduc\\OneDrive\\Desktop\\car_ai\\drowsy_driver\\test_video4.mp4: 384x640 1 drowsy, 12.1ms\n",
      "video 1/1 (1097/1201) c:\\Users\\leduc\\OneDrive\\Desktop\\car_ai\\drowsy_driver\\test_video4.mp4: 384x640 1 drowsy, 7.5ms\n",
      "video 1/1 (1098/1201) c:\\Users\\leduc\\OneDrive\\Desktop\\car_ai\\drowsy_driver\\test_video4.mp4: 384x640 1 drowsy, 10.2ms\n",
      "video 1/1 (1099/1201) c:\\Users\\leduc\\OneDrive\\Desktop\\car_ai\\drowsy_driver\\test_video4.mp4: 384x640 1 drowsy, 16.0ms\n",
      "video 1/1 (1100/1201) c:\\Users\\leduc\\OneDrive\\Desktop\\car_ai\\drowsy_driver\\test_video4.mp4: 384x640 1 drowsy, 9.9ms\n",
      "video 1/1 (1101/1201) c:\\Users\\leduc\\OneDrive\\Desktop\\car_ai\\drowsy_driver\\test_video4.mp4: 384x640 1 drowsy, 30.6ms\n",
      "video 1/1 (1102/1201) c:\\Users\\leduc\\OneDrive\\Desktop\\car_ai\\drowsy_driver\\test_video4.mp4: 384x640 1 drowsy, 37.1ms\n",
      "video 1/1 (1103/1201) c:\\Users\\leduc\\OneDrive\\Desktop\\car_ai\\drowsy_driver\\test_video4.mp4: 384x640 1 drowsy, 11.9ms\n",
      "video 1/1 (1104/1201) c:\\Users\\leduc\\OneDrive\\Desktop\\car_ai\\drowsy_driver\\test_video4.mp4: 384x640 1 drowsy, 15.9ms\n",
      "video 1/1 (1105/1201) c:\\Users\\leduc\\OneDrive\\Desktop\\car_ai\\drowsy_driver\\test_video4.mp4: 384x640 1 drowsy, 11.0ms\n",
      "video 1/1 (1106/1201) c:\\Users\\leduc\\OneDrive\\Desktop\\car_ai\\drowsy_driver\\test_video4.mp4: 384x640 1 drowsy, 9.0ms\n",
      "video 1/1 (1107/1201) c:\\Users\\leduc\\OneDrive\\Desktop\\car_ai\\drowsy_driver\\test_video4.mp4: 384x640 1 drowsy, 11.9ms\n",
      "video 1/1 (1108/1201) c:\\Users\\leduc\\OneDrive\\Desktop\\car_ai\\drowsy_driver\\test_video4.mp4: 384x640 1 drowsy, 14.3ms\n",
      "video 1/1 (1109/1201) c:\\Users\\leduc\\OneDrive\\Desktop\\car_ai\\drowsy_driver\\test_video4.mp4: 384x640 1 drowsy, 11.0ms\n",
      "video 1/1 (1110/1201) c:\\Users\\leduc\\OneDrive\\Desktop\\car_ai\\drowsy_driver\\test_video4.mp4: 384x640 1 drowsy, 14.4ms\n",
      "video 1/1 (1111/1201) c:\\Users\\leduc\\OneDrive\\Desktop\\car_ai\\drowsy_driver\\test_video4.mp4: 384x640 1 drowsy, 10.0ms\n",
      "video 1/1 (1112/1201) c:\\Users\\leduc\\OneDrive\\Desktop\\car_ai\\drowsy_driver\\test_video4.mp4: 384x640 1 drowsy, 14.9ms\n",
      "video 1/1 (1113/1201) c:\\Users\\leduc\\OneDrive\\Desktop\\car_ai\\drowsy_driver\\test_video4.mp4: 384x640 1 drowsy, 9.9ms\n",
      "video 1/1 (1114/1201) c:\\Users\\leduc\\OneDrive\\Desktop\\car_ai\\drowsy_driver\\test_video4.mp4: 384x640 1 drowsy, 13.1ms\n",
      "video 1/1 (1115/1201) c:\\Users\\leduc\\OneDrive\\Desktop\\car_ai\\drowsy_driver\\test_video4.mp4: 384x640 1 drowsy, 6.9ms\n",
      "video 1/1 (1116/1201) c:\\Users\\leduc\\OneDrive\\Desktop\\car_ai\\drowsy_driver\\test_video4.mp4: 384x640 1 drowsy, 10.0ms\n",
      "video 1/1 (1117/1201) c:\\Users\\leduc\\OneDrive\\Desktop\\car_ai\\drowsy_driver\\test_video4.mp4: 384x640 1 drowsy, 8.5ms\n",
      "video 1/1 (1118/1201) c:\\Users\\leduc\\OneDrive\\Desktop\\car_ai\\drowsy_driver\\test_video4.mp4: 384x640 1 drowsy, 12.3ms\n",
      "video 1/1 (1119/1201) c:\\Users\\leduc\\OneDrive\\Desktop\\car_ai\\drowsy_driver\\test_video4.mp4: 384x640 1 drowsy, 12.0ms\n",
      "video 1/1 (1120/1201) c:\\Users\\leduc\\OneDrive\\Desktop\\car_ai\\drowsy_driver\\test_video4.mp4: 384x640 1 drowsy, 8.0ms\n",
      "video 1/1 (1121/1201) c:\\Users\\leduc\\OneDrive\\Desktop\\car_ai\\drowsy_driver\\test_video4.mp4: 384x640 1 drowsy, 11.4ms\n",
      "video 1/1 (1122/1201) c:\\Users\\leduc\\OneDrive\\Desktop\\car_ai\\drowsy_driver\\test_video4.mp4: 384x640 1 drowsy, 11.0ms\n",
      "video 1/1 (1123/1201) c:\\Users\\leduc\\OneDrive\\Desktop\\car_ai\\drowsy_driver\\test_video4.mp4: 384x640 1 drowsy, 11.0ms\n",
      "video 1/1 (1124/1201) c:\\Users\\leduc\\OneDrive\\Desktop\\car_ai\\drowsy_driver\\test_video4.mp4: 384x640 1 drowsy, 7.0ms\n",
      "video 1/1 (1125/1201) c:\\Users\\leduc\\OneDrive\\Desktop\\car_ai\\drowsy_driver\\test_video4.mp4: 384x640 1 drowsy, 7.0ms\n",
      "video 1/1 (1126/1201) c:\\Users\\leduc\\OneDrive\\Desktop\\car_ai\\drowsy_driver\\test_video4.mp4: 384x640 1 drowsy, 7.0ms\n",
      "video 1/1 (1127/1201) c:\\Users\\leduc\\OneDrive\\Desktop\\car_ai\\drowsy_driver\\test_video4.mp4: 384x640 1 drowsy, 16.4ms\n",
      "video 1/1 (1128/1201) c:\\Users\\leduc\\OneDrive\\Desktop\\car_ai\\drowsy_driver\\test_video4.mp4: 384x640 1 drowsy, 13.5ms\n",
      "video 1/1 (1129/1201) c:\\Users\\leduc\\OneDrive\\Desktop\\car_ai\\drowsy_driver\\test_video4.mp4: 384x640 1 drowsy, 8.5ms\n",
      "video 1/1 (1130/1201) c:\\Users\\leduc\\OneDrive\\Desktop\\car_ai\\drowsy_driver\\test_video4.mp4: 384x640 1 drowsy, 11.7ms\n",
      "video 1/1 (1131/1201) c:\\Users\\leduc\\OneDrive\\Desktop\\car_ai\\drowsy_driver\\test_video4.mp4: 384x640 1 drowsy, 9.0ms\n",
      "video 1/1 (1132/1201) c:\\Users\\leduc\\OneDrive\\Desktop\\car_ai\\drowsy_driver\\test_video4.mp4: 384x640 1 drowsy, 14.8ms\n",
      "video 1/1 (1133/1201) c:\\Users\\leduc\\OneDrive\\Desktop\\car_ai\\drowsy_driver\\test_video4.mp4: 384x640 1 drowsy, 14.0ms\n",
      "video 1/1 (1134/1201) c:\\Users\\leduc\\OneDrive\\Desktop\\car_ai\\drowsy_driver\\test_video4.mp4: 384x640 1 drowsy, 13.9ms\n",
      "video 1/1 (1135/1201) c:\\Users\\leduc\\OneDrive\\Desktop\\car_ai\\drowsy_driver\\test_video4.mp4: 384x640 1 drowsy, 12.0ms\n",
      "video 1/1 (1136/1201) c:\\Users\\leduc\\OneDrive\\Desktop\\car_ai\\drowsy_driver\\test_video4.mp4: 384x640 1 drowsy, 7.0ms\n",
      "video 1/1 (1137/1201) c:\\Users\\leduc\\OneDrive\\Desktop\\car_ai\\drowsy_driver\\test_video4.mp4: 384x640 1 drowsy, 9.9ms\n",
      "video 1/1 (1138/1201) c:\\Users\\leduc\\OneDrive\\Desktop\\car_ai\\drowsy_driver\\test_video4.mp4: 384x640 1 drowsy, 8.5ms\n",
      "video 1/1 (1139/1201) c:\\Users\\leduc\\OneDrive\\Desktop\\car_ai\\drowsy_driver\\test_video4.mp4: 384x640 1 drowsy, 14.0ms\n",
      "video 1/1 (1140/1201) c:\\Users\\leduc\\OneDrive\\Desktop\\car_ai\\drowsy_driver\\test_video4.mp4: 384x640 1 drowsy, 12.0ms\n",
      "video 1/1 (1141/1201) c:\\Users\\leduc\\OneDrive\\Desktop\\car_ai\\drowsy_driver\\test_video4.mp4: 384x640 1 drowsy, 12.0ms\n",
      "video 1/1 (1142/1201) c:\\Users\\leduc\\OneDrive\\Desktop\\car_ai\\drowsy_driver\\test_video4.mp4: 384x640 1 drowsy, 7.0ms\n",
      "video 1/1 (1143/1201) c:\\Users\\leduc\\OneDrive\\Desktop\\car_ai\\drowsy_driver\\test_video4.mp4: 384x640 1 drowsy, 14.4ms\n",
      "video 1/1 (1144/1201) c:\\Users\\leduc\\OneDrive\\Desktop\\car_ai\\drowsy_driver\\test_video4.mp4: 384x640 1 drowsy, 9.0ms\n",
      "video 1/1 (1145/1201) c:\\Users\\leduc\\OneDrive\\Desktop\\car_ai\\drowsy_driver\\test_video4.mp4: 384x640 1 drowsy, 13.5ms\n",
      "video 1/1 (1146/1201) c:\\Users\\leduc\\OneDrive\\Desktop\\car_ai\\drowsy_driver\\test_video4.mp4: 384x640 1 drowsy, 11.0ms\n",
      "video 1/1 (1147/1201) c:\\Users\\leduc\\OneDrive\\Desktop\\car_ai\\drowsy_driver\\test_video4.mp4: 384x640 1 drowsy, 12.9ms\n",
      "video 1/1 (1148/1201) c:\\Users\\leduc\\OneDrive\\Desktop\\car_ai\\drowsy_driver\\test_video4.mp4: 384x640 1 drowsy, 13.6ms\n",
      "video 1/1 (1149/1201) c:\\Users\\leduc\\OneDrive\\Desktop\\car_ai\\drowsy_driver\\test_video4.mp4: 384x640 1 drowsy, 10.4ms\n",
      "video 1/1 (1150/1201) c:\\Users\\leduc\\OneDrive\\Desktop\\car_ai\\drowsy_driver\\test_video4.mp4: 384x640 1 drowsy, 8.6ms\n",
      "video 1/1 (1151/1201) c:\\Users\\leduc\\OneDrive\\Desktop\\car_ai\\drowsy_driver\\test_video4.mp4: 384x640 1 drowsy, 11.4ms\n",
      "video 1/1 (1152/1201) c:\\Users\\leduc\\OneDrive\\Desktop\\car_ai\\drowsy_driver\\test_video4.mp4: 384x640 1 drowsy, 7.7ms\n",
      "video 1/1 (1153/1201) c:\\Users\\leduc\\OneDrive\\Desktop\\car_ai\\drowsy_driver\\test_video4.mp4: 384x640 1 drowsy, 8.0ms\n",
      "video 1/1 (1154/1201) c:\\Users\\leduc\\OneDrive\\Desktop\\car_ai\\drowsy_driver\\test_video4.mp4: 384x640 1 drowsy, 15.5ms\n",
      "video 1/1 (1155/1201) c:\\Users\\leduc\\OneDrive\\Desktop\\car_ai\\drowsy_driver\\test_video4.mp4: 384x640 1 drowsy, 10.0ms\n",
      "video 1/1 (1156/1201) c:\\Users\\leduc\\OneDrive\\Desktop\\car_ai\\drowsy_driver\\test_video4.mp4: 384x640 1 drowsy, 15.6ms\n",
      "video 1/1 (1157/1201) c:\\Users\\leduc\\OneDrive\\Desktop\\car_ai\\drowsy_driver\\test_video4.mp4: 384x640 1 drowsy, 16.6ms\n",
      "video 1/1 (1158/1201) c:\\Users\\leduc\\OneDrive\\Desktop\\car_ai\\drowsy_driver\\test_video4.mp4: 384x640 1 drowsy, 11.9ms\n",
      "video 1/1 (1159/1201) c:\\Users\\leduc\\OneDrive\\Desktop\\car_ai\\drowsy_driver\\test_video4.mp4: 384x640 1 drowsy, 14.0ms\n",
      "video 1/1 (1160/1201) c:\\Users\\leduc\\OneDrive\\Desktop\\car_ai\\drowsy_driver\\test_video4.mp4: 384x640 1 drowsy, 11.9ms\n",
      "video 1/1 (1161/1201) c:\\Users\\leduc\\OneDrive\\Desktop\\car_ai\\drowsy_driver\\test_video4.mp4: 384x640 1 drowsy, 12.2ms\n",
      "video 1/1 (1162/1201) c:\\Users\\leduc\\OneDrive\\Desktop\\car_ai\\drowsy_driver\\test_video4.mp4: 384x640 1 drowsy, 17.6ms\n",
      "video 1/1 (1163/1201) c:\\Users\\leduc\\OneDrive\\Desktop\\car_ai\\drowsy_driver\\test_video4.mp4: 384x640 1 drowsy, 17.2ms\n",
      "video 1/1 (1164/1201) c:\\Users\\leduc\\OneDrive\\Desktop\\car_ai\\drowsy_driver\\test_video4.mp4: 384x640 1 drowsy, 14.0ms\n",
      "video 1/1 (1165/1201) c:\\Users\\leduc\\OneDrive\\Desktop\\car_ai\\drowsy_driver\\test_video4.mp4: 384x640 1 drowsy, 14.6ms\n",
      "video 1/1 (1166/1201) c:\\Users\\leduc\\OneDrive\\Desktop\\car_ai\\drowsy_driver\\test_video4.mp4: 384x640 1 drowsy, 14.0ms\n",
      "video 1/1 (1167/1201) c:\\Users\\leduc\\OneDrive\\Desktop\\car_ai\\drowsy_driver\\test_video4.mp4: 384x640 1 drowsy, 12.0ms\n",
      "video 1/1 (1168/1201) c:\\Users\\leduc\\OneDrive\\Desktop\\car_ai\\drowsy_driver\\test_video4.mp4: 384x640 1 drowsy, 7.0ms\n",
      "video 1/1 (1169/1201) c:\\Users\\leduc\\OneDrive\\Desktop\\car_ai\\drowsy_driver\\test_video4.mp4: 384x640 1 drowsy, 9.0ms\n",
      "video 1/1 (1170/1201) c:\\Users\\leduc\\OneDrive\\Desktop\\car_ai\\drowsy_driver\\test_video4.mp4: 384x640 1 drowsy, 15.0ms\n",
      "video 1/1 (1171/1201) c:\\Users\\leduc\\OneDrive\\Desktop\\car_ai\\drowsy_driver\\test_video4.mp4: 384x640 1 drowsy, 15.8ms\n",
      "video 1/1 (1172/1201) c:\\Users\\leduc\\OneDrive\\Desktop\\car_ai\\drowsy_driver\\test_video4.mp4: 384x640 1 drowsy, 15.5ms\n",
      "video 1/1 (1173/1201) c:\\Users\\leduc\\OneDrive\\Desktop\\car_ai\\drowsy_driver\\test_video4.mp4: 384x640 1 drowsy, 16.9ms\n",
      "video 1/1 (1174/1201) c:\\Users\\leduc\\OneDrive\\Desktop\\car_ai\\drowsy_driver\\test_video4.mp4: 384x640 1 drowsy, 16.2ms\n",
      "video 1/1 (1175/1201) c:\\Users\\leduc\\OneDrive\\Desktop\\car_ai\\drowsy_driver\\test_video4.mp4: 384x640 1 drowsy, 13.6ms\n",
      "video 1/1 (1176/1201) c:\\Users\\leduc\\OneDrive\\Desktop\\car_ai\\drowsy_driver\\test_video4.mp4: 384x640 1 drowsy, 16.5ms\n",
      "video 1/1 (1177/1201) c:\\Users\\leduc\\OneDrive\\Desktop\\car_ai\\drowsy_driver\\test_video4.mp4: 384x640 1 drowsy, 15.2ms\n",
      "video 1/1 (1178/1201) c:\\Users\\leduc\\OneDrive\\Desktop\\car_ai\\drowsy_driver\\test_video4.mp4: 384x640 1 drowsy, 14.9ms\n",
      "video 1/1 (1179/1201) c:\\Users\\leduc\\OneDrive\\Desktop\\car_ai\\drowsy_driver\\test_video4.mp4: 384x640 1 drowsy, 14.6ms\n",
      "video 1/1 (1180/1201) c:\\Users\\leduc\\OneDrive\\Desktop\\car_ai\\drowsy_driver\\test_video4.mp4: 384x640 1 drowsy, 15.9ms\n",
      "video 1/1 (1181/1201) c:\\Users\\leduc\\OneDrive\\Desktop\\car_ai\\drowsy_driver\\test_video4.mp4: 384x640 1 drowsy, 12.9ms\n",
      "video 1/1 (1182/1201) c:\\Users\\leduc\\OneDrive\\Desktop\\car_ai\\drowsy_driver\\test_video4.mp4: 384x640 1 drowsy, 16.4ms\n",
      "video 1/1 (1183/1201) c:\\Users\\leduc\\OneDrive\\Desktop\\car_ai\\drowsy_driver\\test_video4.mp4: 384x640 1 drowsy, 14.9ms\n",
      "video 1/1 (1184/1201) c:\\Users\\leduc\\OneDrive\\Desktop\\car_ai\\drowsy_driver\\test_video4.mp4: 384x640 1 drowsy, 11.0ms\n",
      "video 1/1 (1185/1201) c:\\Users\\leduc\\OneDrive\\Desktop\\car_ai\\drowsy_driver\\test_video4.mp4: 384x640 1 drowsy, 15.9ms\n",
      "video 1/1 (1186/1201) c:\\Users\\leduc\\OneDrive\\Desktop\\car_ai\\drowsy_driver\\test_video4.mp4: 384x640 1 drowsy, 13.9ms\n",
      "video 1/1 (1187/1201) c:\\Users\\leduc\\OneDrive\\Desktop\\car_ai\\drowsy_driver\\test_video4.mp4: 384x640 1 drowsy, 14.0ms\n",
      "video 1/1 (1188/1201) c:\\Users\\leduc\\OneDrive\\Desktop\\car_ai\\drowsy_driver\\test_video4.mp4: 384x640 1 drowsy, 15.9ms\n",
      "video 1/1 (1189/1201) c:\\Users\\leduc\\OneDrive\\Desktop\\car_ai\\drowsy_driver\\test_video4.mp4: 384x640 1 drowsy, 14.4ms\n",
      "video 1/1 (1190/1201) c:\\Users\\leduc\\OneDrive\\Desktop\\car_ai\\drowsy_driver\\test_video4.mp4: 384x640 1 drowsy, 8.5ms\n",
      "video 1/1 (1191/1201) c:\\Users\\leduc\\OneDrive\\Desktop\\car_ai\\drowsy_driver\\test_video4.mp4: 384x640 1 drowsy, 15.0ms\n",
      "video 1/1 (1192/1201) c:\\Users\\leduc\\OneDrive\\Desktop\\car_ai\\drowsy_driver\\test_video4.mp4: 384x640 1 drowsy, 14.4ms\n",
      "video 1/1 (1193/1201) c:\\Users\\leduc\\OneDrive\\Desktop\\car_ai\\drowsy_driver\\test_video4.mp4: 384x640 1 drowsy, 11.0ms\n",
      "video 1/1 (1194/1201) c:\\Users\\leduc\\OneDrive\\Desktop\\car_ai\\drowsy_driver\\test_video4.mp4: 384x640 1 drowsy, 12.9ms\n",
      "video 1/1 (1195/1201) c:\\Users\\leduc\\OneDrive\\Desktop\\car_ai\\drowsy_driver\\test_video4.mp4: 384x640 1 drowsy, 11.0ms\n",
      "video 1/1 (1196/1201) c:\\Users\\leduc\\OneDrive\\Desktop\\car_ai\\drowsy_driver\\test_video4.mp4: 384x640 1 drowsy, 12.3ms\n",
      "video 1/1 (1197/1201) c:\\Users\\leduc\\OneDrive\\Desktop\\car_ai\\drowsy_driver\\test_video4.mp4: 384x640 1 drowsy, 10.0ms\n",
      "video 1/1 (1198/1201) c:\\Users\\leduc\\OneDrive\\Desktop\\car_ai\\drowsy_driver\\test_video4.mp4: 384x640 1 drowsy, 8.6ms\n",
      "video 1/1 (1199/1201) c:\\Users\\leduc\\OneDrive\\Desktop\\car_ai\\drowsy_driver\\test_video4.mp4: 384x640 1 drowsy, 13.0ms\n",
      "video 1/1 (1200/1201) c:\\Users\\leduc\\OneDrive\\Desktop\\car_ai\\drowsy_driver\\test_video4.mp4: 384x640 1 drowsy, 15.0ms\n",
      "video 1/1 (1201/1201) c:\\Users\\leduc\\OneDrive\\Desktop\\car_ai\\drowsy_driver\\test_video4.mp4: 384x640 1 drowsy, 10.1ms\n",
      "Speed: 2.6ms preprocess, 11.2ms inference, 2.0ms postprocess per image at shape (1, 3, 384, 640)\n",
      "Results saved to \u001b[1mruns\\detect\\predict7\u001b[0m\n",
      "970 labels saved to runs\\detect\\predict7\\labels\n"
     ]
    }
   ],
   "source": [
    "res = prediction.predict(source = \"./test_video4.mp4\", save=True, show_boxes = True, save_txt=True ,conf=0.4,device=0)"
   ]
  },
  {
   "cell_type": "code",
   "execution_count": 12,
   "metadata": {},
   "outputs": [
    {
     "ename": "AttributeError",
     "evalue": "'YOLO' object has no attribute 'show'",
     "output_type": "error",
     "traceback": [
      "\u001b[1;31m---------------------------------------------------------------------------\u001b[0m",
      "\u001b[1;31mAttributeError\u001b[0m                            Traceback (most recent call last)",
      "Cell \u001b[1;32mIn[12], line 1\u001b[0m\n\u001b[1;32m----> 1\u001b[0m \u001b[43mprediction\u001b[49m\u001b[38;5;241;43m.\u001b[39;49m\u001b[43mshow\u001b[49m()\n",
      "File \u001b[1;32mc:\\Python311\\Lib\\site-packages\\torch\\nn\\modules\\module.py:1695\u001b[0m, in \u001b[0;36mModule.__getattr__\u001b[1;34m(self, name)\u001b[0m\n\u001b[0;32m   1693\u001b[0m     \u001b[38;5;28;01mif\u001b[39;00m name \u001b[38;5;129;01min\u001b[39;00m modules:\n\u001b[0;32m   1694\u001b[0m         \u001b[38;5;28;01mreturn\u001b[39;00m modules[name]\n\u001b[1;32m-> 1695\u001b[0m \u001b[38;5;28;01mraise\u001b[39;00m \u001b[38;5;167;01mAttributeError\u001b[39;00m(\u001b[38;5;124mf\u001b[39m\u001b[38;5;124m\"\u001b[39m\u001b[38;5;124m'\u001b[39m\u001b[38;5;132;01m{\u001b[39;00m\u001b[38;5;28mtype\u001b[39m(\u001b[38;5;28mself\u001b[39m)\u001b[38;5;241m.\u001b[39m\u001b[38;5;18m__name__\u001b[39m\u001b[38;5;132;01m}\u001b[39;00m\u001b[38;5;124m'\u001b[39m\u001b[38;5;124m object has no attribute \u001b[39m\u001b[38;5;124m'\u001b[39m\u001b[38;5;132;01m{\u001b[39;00mname\u001b[38;5;132;01m}\u001b[39;00m\u001b[38;5;124m'\u001b[39m\u001b[38;5;124m\"\u001b[39m)\n",
      "\u001b[1;31mAttributeError\u001b[0m: 'YOLO' object has no attribute 'show'"
     ]
    }
   ],
   "source": [
    "prediction.show()"
   ]
  },
  {
   "cell_type": "code",
   "execution_count": null,
   "metadata": {},
   "outputs": [],
   "source": []
  }
 ],
 "metadata": {
  "kernelspec": {
   "display_name": "Python 3",
   "language": "python",
   "name": "python3"
  },
  "language_info": {
   "codemirror_mode": {
    "name": "ipython",
    "version": 3
   },
   "file_extension": ".py",
   "mimetype": "text/x-python",
   "name": "python",
   "nbconvert_exporter": "python",
   "pygments_lexer": "ipython3",
   "version": "3.11.4"
  }
 },
 "nbformat": 4,
 "nbformat_minor": 2
}
